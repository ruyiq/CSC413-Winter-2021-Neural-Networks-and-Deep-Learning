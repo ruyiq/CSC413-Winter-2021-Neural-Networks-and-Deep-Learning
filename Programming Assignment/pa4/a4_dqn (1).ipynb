{
  "nbformat": 4,
  "nbformat_minor": 0,
  "metadata": {
    "colab": {
      "name": "a4_dqn.ipynb",
      "provenance": [],
      "collapsed_sections": []
    },
    "kernelspec": {
      "name": "python3",
      "display_name": "Python 3"
    },
    "accelerator": "GPU"
  },
  "cells": [
    {
      "cell_type": "markdown",
      "metadata": {
        "id": "V3szwJAdaoQa"
      },
      "source": [
        "## Enable rendering OpenAI Gym environments from CoLab\n",
        "\n",
        "In this assignemnt, We will use [OpenAI Gym](https://gym.openai.com/) for rendering game envionment for our agent to play and learn. It is possible and important to visualize the game your agent is playing, even on Colab. This section imports the necessary package and functions needed to generate a video in Colab. The video processing steps credit to [here](https://colab.research.google.com/drive/1flu31ulJlgiRL1dnN2ir8wGh9p7Zij2t)."
      ]
    },
    {
      "cell_type": "code",
      "metadata": {
        "id": "M9fFfA-gb8oC",
        "colab": {
          "base_uri": "https://localhost:8080/"
        },
        "outputId": "9086481c-bae4-4667-f5c4-f9d7a13c68e0"
      },
      "source": [
        "# You will need to run this block twice to make it effective\n",
        "!apt-get update > /dev/null 2>&1\n",
        "!apt-get install cmake > /dev/null 2>&1\n",
        "!pip install --upgrade setuptools 2>&1\n",
        "!pip install ez_setup > /dev/null 2>&1\n",
        "!pip install gym[atari] > /dev/null 2>&1\n",
        "!pip install box2d-py > /dev/null 2>&1\n",
        "!pip install gym[Box_2D] > /dev/null 2>&1"
      ],
      "execution_count": 2,
      "outputs": [
        {
          "output_type": "stream",
          "name": "stdout",
          "text": [
            "Requirement already satisfied: setuptools in /usr/local/lib/python3.7/dist-packages (62.1.0)\n"
          ]
        }
      ]
    },
    {
      "cell_type": "code",
      "source": [
        "!pip install gym pyvirtualdisplay > /dev/null 2>&1\n",
        "!apt-get install -y xvfb python-opengl ffmpeg > /dev/null 2>&1"
      ],
      "metadata": {
        "id": "NE1QQOVX27dp"
      },
      "execution_count": 3,
      "outputs": []
    },
    {
      "cell_type": "markdown",
      "metadata": {
        "id": "QfTPg6uZckCm"
      },
      "source": [
        "Import openAI gym and define the functions used to show the video."
      ]
    },
    {
      "cell_type": "code",
      "metadata": {
        "id": "JLl9cs6ncAf0"
      },
      "source": [
        "import gym\n",
        "from gym.wrappers import Monitor\n",
        "import glob\n",
        "import io\n",
        "import base64\n",
        "from IPython.display import HTML\n",
        "from pyvirtualdisplay import Display\n",
        "from IPython import display as ipythondisplay\n",
        "\n",
        "display = Display(visible=0, size=(1400, 900))\n",
        "display.start()\n",
        "\n",
        "\"\"\"\n",
        "Utility functions to enable video recording of gym environment \n",
        "and displaying it.\n",
        "To enable video, just do \"env = wrap_env(env)\"\"\n",
        "\"\"\"\n",
        "\n",
        "def show_video():\n",
        "  mp4list = glob.glob('video/*.mp4')\n",
        "  if len(mp4list) > 0:\n",
        "    mp4 = mp4list[0]\n",
        "    video = io.open(mp4, 'r+b').read()\n",
        "    encoded = base64.b64encode(video)\n",
        "    ipythondisplay.display(HTML(data='''<video alt=\"test\" autoplay \n",
        "                loop controls style=\"height: 400px;\">\n",
        "                <source src=\"data:video/mp4;base64,{0}\" type=\"video/mp4\" />\n",
        "             </video>'''.format(encoded.decode('ascii'))))\n",
        "  else: \n",
        "    print(\"Could not find video\")\n",
        "    \n",
        "\n",
        "def wrap_env(env):\n",
        "  env = Monitor(env, './video', force=True)\n",
        "  return env"
      ],
      "execution_count": 4,
      "outputs": []
    },
    {
      "cell_type": "markdown",
      "metadata": {
        "id": "UHkrflTWakKd"
      },
      "source": [
        "Import other packages:\n",
        "\n",
        "We will use Pytorch for building and learning our DQN network."
      ]
    },
    {
      "cell_type": "code",
      "metadata": {
        "id": "9KvZYSl6RrzD"
      },
      "source": [
        "import torch\n",
        "from torch import nn\n",
        "import copy\n",
        "from collections import deque\n",
        "import random\n",
        "from tqdm import tqdm\n",
        "import matplotlib.pyplot as plt\n",
        "\n",
        "random.seed(42)"
      ],
      "execution_count": 5,
      "outputs": []
    },
    {
      "cell_type": "markdown",
      "metadata": {
        "id": "zrLGCk-3ditk"
      },
      "source": [
        "## Run the game with random agent."
      ]
    },
    {
      "cell_type": "code",
      "metadata": {
        "id": "ZMcGALcWeWfh",
        "colab": {
          "base_uri": "https://localhost:8080/",
          "height": 456
        },
        "outputId": "08fadc1b-7a0b-403e-9efc-542c718a6c2e"
      },
      "source": [
        "from torch import randint\n",
        "from time import sleep\n",
        "\n",
        "env = wrap_env(gym.make('CartPole-v1'))\n",
        "reward_arr = []\n",
        "episode_count = 20\n",
        "for i in tqdm(range(episode_count)):\n",
        "    obs, done, rew = env.reset(), False, 0\n",
        "    env.render()\n",
        "    while not done:\n",
        "        A = randint(0, env.action_space.n, (1,))\n",
        "        obs, reward, done, info = env.step(A.item())\n",
        "        rew += reward\n",
        "        sleep(0.01)\n",
        "    reward_arr.append(rew)\n",
        "print(\"average reward per episode :\", sum(reward_arr) / len(reward_arr))\n",
        "env.close()\n",
        "show_video()"
      ],
      "execution_count": 6,
      "outputs": [
        {
          "output_type": "stream",
          "name": "stderr",
          "text": [
            "100%|██████████| 20/20 [00:06<00:00,  3.13it/s]"
          ]
        },
        {
          "output_type": "stream",
          "name": "stdout",
          "text": [
            "average reward per episode : 20.45\n"
          ]
        },
        {
          "output_type": "stream",
          "name": "stderr",
          "text": [
            "\n"
          ]
        },
        {
          "output_type": "display_data",
          "data": {
            "text/plain": [
              "<IPython.core.display.HTML object>"
            ],
            "text/html": [
              "<video alt=\"test\" autoplay \n",
              "                loop controls style=\"height: 400px;\">\n",
              "                <source src=\"data:video/mp4;base64,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\" type=\"video/mp4\" />\n",
              "             </video>"
            ]
          },
          "metadata": {}
        }
      ]
    },
    {
      "cell_type": "markdown",
      "metadata": {
        "id": "Ope0zHAjfXQh"
      },
      "source": [
        "The episode ends when the pole is more than 15 degrees from vertical, or the cart moves more than 2.4 units from the center. The video is short (< 1s) because the pole loses balance immediately. \n",
        "\n",
        "You can see that a random agent is having trouble balancing the CartPole, just like you. However, a difficult game for human may be very simple to a computer. Let's see how we can use DQN to train a agent. "
      ]
    },
    {
      "cell_type": "markdown",
      "metadata": {
        "id": "OjP_2jn3SFgv"
      },
      "source": [
        "## Experience Replay\n",
        "\n",
        "The technique of experience replay was first proposed in to resolve temporal correlation in the input data by mixing recent experiences as well past experiences, essentially forcing the input to become independent and identically distributed (i.i.d.). It has been shown that this greatly stabilizes\n",
        "and improves the DQN training procedure."
      ]
    },
    {
      "cell_type": "code",
      "metadata": {
        "id": "SoxW1Jlnk8mS"
      },
      "source": [
        "class ExperienceReplay(object):\n",
        "      def __init__(self, length):\n",
        "        self.experience_replay = deque(maxlen=length)\n",
        "\n",
        "      def collect(self, experience):\n",
        "        self.experience_replay.append(experience)\n",
        "        return\n",
        "\n",
        "      def sample_from_experience(self, sample_size):\n",
        "        if len(self.experience_replay) < sample_size:\n",
        "            sample_size = len(self.experience_replay)\n",
        "        sample = random.sample(self.experience_replay, sample_size)\n",
        "        state = torch.tensor([exp[0] for exp in sample]).float()\n",
        "        action = torch.tensor([exp[1] for exp in sample]).float()\n",
        "        reward = torch.tensor([exp[2] for exp in sample]).float()\n",
        "        next_state = torch.tensor([exp[3] for exp in sample]).float()\n",
        "        return state, action, reward, next_state\n"
      ],
      "execution_count": 7,
      "outputs": []
    },
    {
      "cell_type": "markdown",
      "metadata": {
        "id": "CgXwmV2im4Sx"
      },
      "source": [
        "## Build our DQN Network\n",
        "\n",
        "We will use a simple multi-layer neural network to learn the optimal actions. We will use Adam Optimizor and MSE loss for training. **Notice that the loss function and gamma is given to you in the class attribute.** "
      ]
    },
    {
      "cell_type": "code",
      "metadata": {
        "id": "Wmd1pfuRm7MQ"
      },
      "source": [
        "class DQN_Network:\n",
        "\n",
        "    def __init__(self, layer_size_list, lr, seed=1423):\n",
        "        torch.manual_seed(seed)\n",
        "        self.policy_net = self.create_network(layer_size_list)\n",
        "        self.target_net = copy.deepcopy(self.policy_net)\n",
        "  \n",
        "        self.loss_fn = torch.nn.MSELoss() # the loss function\n",
        "        self.optimizer = torch.optim.Adam(self.policy_net.parameters(), lr=lr)\n",
        "\n",
        "        self.step = 0\n",
        "        self.gamma = torch.tensor(0.95).float()\n",
        "        return\n",
        "\n",
        "    def create_network(self, layer_size_list):\n",
        "        assert len(layer_size_list) > 1\n",
        "\n",
        "        layers = []\n",
        "        for i in range(len(layer_size_list) - 1):\n",
        "            linear = nn.Linear(layer_size_list[i], layer_size_list[i + 1])\n",
        "\n",
        "            if i < len(layer_size_list) - 2:\n",
        "              activation = nn.Tanh()\n",
        "            else:\n",
        "              activation = nn.Identity()\n",
        "\n",
        "            layers += (linear, activation)\n",
        "        return nn.Sequential(*layers)\n",
        "\n",
        "    def load_pretrained_model(self, model_path):\n",
        "        self.policy_net.load_state_dict(torch.load(model_path))\n",
        "\n",
        "    def save_trained_model(self, model_path=\"cartpole-dqn.pth\"):\n",
        "        torch.save(self.policy_net.state_dict(), model_path)\n"
      ],
      "execution_count": 8,
      "outputs": []
    },
    {
      "cell_type": "markdown",
      "metadata": {
        "id": "xKVV16YctASm"
      },
      "source": [
        "## **[Your task]**: complete the function that chooses the next action\n",
        "\n",
        "Choose next action based on **$\\epsilon$-greedy**:\n",
        "\n",
        "\\begin{align}\\text{where} \\quad \\mathcal{a_{t+1}} = \\begin{cases}\n",
        "     \\text{argmax}_{a}Q(a, s)  & \\text{with probability }: 1 - \\epsilon, \\text{exploitation}\\\\\n",
        "     \\text{Uniform}\\{a_{1},...,a_{n}\\} & \\text{with probability}:   \\epsilon, \\text{exploration} \\\\\n",
        "   \\end{cases}\\end{align}"
      ]
    },
    {
      "cell_type": "code",
      "metadata": {
        "id": "iE0gVweYs8xW"
      },
      "source": [
        "def get_action(model, state, action_space_len, epsilon):\n",
        "    # We do not require gradient at this point, because this function will be used either\n",
        "    # during experience collection or during inference\n",
        "\n",
        "    with torch.no_grad():\n",
        "        Qp = model.policy_net(torch.from_numpy(state).float())\n",
        "\n",
        "    ## TODO: select and return action based on epsilon-greedy\n",
        "    Q, a = torch.max(Qp, axis=0)\n",
        "    if torch.rand(1,).item() > epsilon:\n",
        "        return a \n",
        "    return torch.randint(0, action_space_len, (1,))"
      ],
      "execution_count": 9,
      "outputs": []
    },
    {
      "cell_type": "markdown",
      "metadata": {
        "id": "iF9a5-IbazjQ"
      },
      "source": [
        "### **[Your task]**: complete the function that train the network for one step\n",
        "\n",
        "Here, you can find an ``train`` function that performs a\n",
        "single step of the optimization. \n",
        "\n",
        "For our training update rule, the loss you are trying to minimize is:\n",
        "\n",
        "\\begin{align}\\text{loss} = Q(s, a) - (r + \\gamma \\max_a Q(s', a))\\end{align}"
      ]
    },
    {
      "cell_type": "code",
      "metadata": {
        "id": "mtx4FAiab0Hp"
      },
      "source": [
        "def train(model, batch_size):\n",
        "    state, action, reward, next_state = memory.sample_from_experience(sample_size=batch_size)\n",
        "\n",
        "    # TODO: predict expected return of current state using main network\n",
        "    qp = model.policy_net(state)\n",
        "    exp_ret = torch.max(qp, axis=1)[0]\n",
        "    # TODO: get target return using target network\n",
        "    tar_ret = torch.max(model.target_net(next_state), axis=1)[0] * model.gamma + reward\n",
        "\n",
        "\n",
        "    # TODO: compute the loss\n",
        "    loss = model.loss_fn(exp_ret, tar_ret)\n",
        "    model.optimizer.zero_grad()\n",
        "    loss.backward(retain_graph=True)\n",
        "    model.optimizer.step()\n",
        "\n",
        "    model.step += 1\n",
        "    if model.step % 5 == 0:\n",
        "        model.target_net.load_state_dict(model.policy_net.state_dict())\n",
        "\n",
        "    return loss.item()"
      ],
      "execution_count": 10,
      "outputs": []
    },
    {
      "cell_type": "markdown",
      "metadata": {
        "id": "uskoe87Uz-Jg"
      },
      "source": [
        "### **[Your task]**: Finish the training loop\n",
        "\n",
        "In this part, you can play around with ```exp_replay_size```, ```episode```, ```epsilon``` and the \"episodo decay\" logic to train your model. **If you have done correctly, you will observe that the training time for the latter episodes is longer than the early episodes. This is because your agent is getting better and better at playing the game and thus each episode takes longer**"
      ]
    },
    {
      "cell_type": "code",
      "metadata": {
        "id": "3NfNnyD6SPpN",
        "colab": {
          "base_uri": "https://localhost:8080/"
        },
        "outputId": "44e92ce4-874d-4e99-8794-a45e225828d6"
      },
      "source": [
        "# Create the model\n",
        "env = gym.make('CartPole-v0')\n",
        "input_dim = env.observation_space.shape[0]\n",
        "output_dim = env.action_space.n\n",
        "agent = DQN_Network(layer_size_list=[input_dim, 64, output_dim], lr=1e-3)\n",
        "\n",
        "# Main training loop\n",
        "losses_list, reward_list, episode_len_list, epsilon_list = [], [], [], []\n",
        "\n",
        "# TODO: try different values, it normally takes more than 6k episodes to train\n",
        "exp_replay_size = 40\n",
        "memory = ExperienceReplay(exp_replay_size)\n",
        "episodes = 20000\n",
        "epsilon = 1# episilon start from 1 and decay gradually. \n",
        "\n",
        "# initiliaze experiance replay\n",
        "index = 0\n",
        "for i in range(exp_replay_size):\n",
        "    obs = env.reset()\n",
        "    done = False\n",
        "    while not done:\n",
        "        A = get_action(agent, obs, env.action_space.n, epsilon=1)\n",
        "        obs_next, reward, done, _ = env.step(A.item())\n",
        "        memory.collect([obs, A.item(), reward, obs_next])\n",
        "        obs = obs_next\n",
        "        index += 1\n",
        "        if index > exp_replay_size:\n",
        "            break\n",
        "\n",
        "index = 128\n",
        "for i in tqdm(range(episodes)):\n",
        "    obs, done, losses, ep_len, rew = env.reset(), False, 0, 0, 0\n",
        "    while not done:\n",
        "        ep_len += 1\n",
        "        A = get_action(agent, obs, env.action_space.n, epsilon)\n",
        "        obs_next, reward, done, _ = env.step(A.item())\n",
        "        memory.collect([obs, A.item(), reward, obs_next])\n",
        "\n",
        "        obs = obs_next\n",
        "        rew += reward\n",
        "        index += 1\n",
        "\n",
        "        if index > 128:\n",
        "            index = 0\n",
        "            for j in range(4):\n",
        "                loss = train(agent, batch_size=16)\n",
        "                losses += loss\n",
        "    \n",
        "    # TODO: add epsilon decay rule here! \n",
        "    if epsilon > 0.05:\n",
        "        epsilon = epsilon * 0.99\n",
        "\n",
        "    losses_list.append(losses / ep_len), reward_list.append(rew)\n",
        "    episode_len_list.append(ep_len), epsilon_list.append(epsilon)\n",
        "\n",
        "print(\"Saving trained model\")\n",
        "agent.save_trained_model(\"cartpole-dqn.pth\")"
      ],
      "execution_count": 19,
      "outputs": [
        {
          "output_type": "stream",
          "name": "stderr",
          "text": [
            "100%|██████████| 20000/20000 [04:06<00:00, 81.07it/s]"
          ]
        },
        {
          "output_type": "stream",
          "name": "stdout",
          "text": [
            "Saving trained model\n"
          ]
        },
        {
          "output_type": "stream",
          "name": "stderr",
          "text": [
            "\n"
          ]
        }
      ]
    },
    {
      "cell_type": "markdown",
      "metadata": {
        "id": "CCow7jNXf5YT"
      },
      "source": [
        "## Last Step: evaluate your trained model! **Make sure to include your visualizations (plot+video) in the notebook for your submission!**\n",
        "\n",
        "First we can plot the reward vs. episode. **If you have done correctly, you should see the reward can stabilize at 200 in later episodes**\\"
      ]
    },
    {
      "cell_type": "code",
      "metadata": {
        "id": "-Hy_FP7yeXA4",
        "colab": {
          "base_uri": "https://localhost:8080/",
          "height": 295
        },
        "outputId": "4fa40327-4101-44ec-d72e-36d2ad1b7210"
      },
      "source": [
        "def plot_reward(r):\n",
        "    plt.figure(2)\n",
        "    plt.clf()\n",
        "    plt.title('Result')\n",
        "    plt.xlabel('Episode')\n",
        "    plt.ylabel('Reward')\n",
        "    plt.plot(r)\n",
        "\n",
        "plot_reward(reward_list)"
      ],
      "execution_count": 20,
      "outputs": [
        {
          "output_type": "display_data",
          "data": {
            "text/plain": [
              "<Figure size 432x288 with 1 Axes>"
            ],
            "image/png": "[encoded data removed]"
          },
          "metadata": {
            "needs_background": "light"
          }
        }
      ]
    },
    {
      "cell_type": "markdown",
      "source": [
        "Next let check out how well your agent plays the game. **If you have done correctly, you should see a relatively longer video (> 3~4s) with a self-balancing pole.**"
      ],
      "metadata": {
        "id": "EixOpGakoyi4"
      }
    },
    {
      "cell_type": "code",
      "metadata": {
        "id": "EMEivKldTGVG",
        "colab": {
          "base_uri": "https://localhost:8080/",
          "height": 456
        },
        "outputId": "ebb724c8-b411-490c-920b-f91cb5c7c9e3"
      },
      "source": [
        "env = wrap_env(gym.make('CartPole-v1'))\n",
        "\n",
        "input_dim = env.observation_space.shape[0]\n",
        "output_dim = env.action_space.n\n",
        "model_validate = DQN_Network(layer_size_list=[input_dim, 64, output_dim], lr=1e-3)\n",
        "model_validate.load_pretrained_model(\"cartpole-dqn.pth\")\n",
        "\n",
        "reward_arr = []\n",
        "for i in tqdm(range(200)):\n",
        "    obs, done, rew = env.reset(), False, 0\n",
        "    env.render()\n",
        "    while not done:\n",
        "        A = get_action(model_validate, obs, env.action_space.n, epsilon=0)\n",
        "        obs, reward, done, info = env.step(A.item())\n",
        "        rew += reward\n",
        "        # sleep(0.01)\n",
        "\n",
        "    reward_arr.append(rew)\n",
        "print(\"average reward per episode :\", sum(reward_arr) / len(reward_arr))\n",
        "env.close()\n",
        "show_video()"
      ],
      "execution_count": 21,
      "outputs": [
        {
          "output_type": "stream",
          "name": "stderr",
          "text": [
            "100%|██████████| 200/200 [00:13<00:00, 14.94it/s]"
          ]
        },
        {
          "output_type": "stream",
          "name": "stdout",
          "text": [
            "average reward per episode : 185.725\n"
          ]
        },
        {
          "output_type": "stream",
          "name": "stderr",
          "text": [
            "\n"
          ]
        },
        {
          "output_type": "display_data",
          "data": {
            "text/plain": [
              "<IPython.core.display.HTML object>"
            ],
            "text/html": [
              "<video alt=\"test\" autoplay \n",
              "                loop controls style=\"height: 400px;\">\n",
              "                <source src=\"data:video/mp4;base64,AAAAIGZ0eXBpc29tAAACAGlzb21pc28yYXZjMW1wNDEAAAAIZnJlZQAAO5ttZGF0AAACrgYF//+q3EXpvebZSLeWLNgg2SPu73gyNjQgLSBjb3JlIDE1MiByMjg1NCBlOWE1OTAzIC0gSC4yNjQvTVBFRy00IEFWQyBjb2RlYyAtIENvcHlsZWZ0IDIwMDMtMjAxNyAtIGh0dHA6Ly93d3cudmlkZW9sYW4ub3JnL3gyNjQuaHRtbCAtIG9wdGlvbnM6IGNhYmFjPTEgcmVmPTMgZGVibG9jaz0xOjA6MCBhbmFseXNlPTB4MzoweDExMyBtZT1oZXggc3VibWU9NyBwc3k9MSBwc3lfcmQ9MS4wMDowLjAwIG1peGVkX3JlZj0xIG1lX3JhbmdlPTE2IGNocm9tYV9tZT0xIHRyZWxsaXM9MSA4eDhkY3Q9MSBjcW09MCBkZWFkem9uZT0yMSwxMSBmYXN0X3Bza2lwPTEgY2hyb21hX3FwX29mZnNldD0tMiB0aHJlYWRzPTMgbG9va2FoZWFkX3RocmVhZHM9MSBzbGljZWRfdGhyZWFkcz0wIG5yPTAgZGVjaW1hdGU9MSBpbnRlcmxhY2VkPTAgYmx1cmF5X2NvbXBhdD0wIGNvbnN0cmFpbmVkX2ludHJhPTAgYmZyYW1lcz0zIGJfcHlyYW1pZD0yIGJfYWRhcHQ9MSBiX2JpYXM9MCBkaXJlY3Q9MSB3ZWlnaHRiPTEgb3Blbl9nb3A9MCB3ZWlnaHRwPTIga2V5aW50PTI1MCBrZXlpbnRfbWluPTI1IHNjZW5lY3V0PTQwIGludHJhX3JlZnJlc2g9MCByY19sb29rYWhlYWQ9NDAgcmM9Y3JmIG1idHJlZT0xIGNyZj0yMy4wIHFjb21wPTAuNjAgcXBtaW49MCBxcG1heD02OSBxcHN0ZXA9NCBpcF9yYXRpbz0xLjQwIGFxPTE6MS4wMACAAAACKWWIhAAv//72rvzLK0cLlS4dWXuzUfLoSXL9iDB9aAAAAwAAAwAAJuKiZ0WFMeJsgAAALmAIWElDyDzETFWKgSqTHfZfKMQSMUUC4uACgJ5n/WPZhLKG28tLMvLGrLRN9Xn11pEVsQ717YbTyNULgxf0gRyZR35Hc+LhREVX09Nq7Ojk1sWmXU1VzhzggivqVWi1CZqmZOkk2bcWvO9HrOqR2nYpySYujBWDmD/w6m0OvOaULf9N2YcIFKMgzNtHymkf+B1vQpHFDmLo3Qu2iQ/059MiCPHJ/icw/UEUCrmbgYN6/H8lvGoRv/9H2McFeProqZDAAjMUVdklZKGxdRk+mfmnpOtggU3vc+5jlU0pj9c7+SohSOt4oTkebb797/95PJZnBrPBmDQ3VZtvsSrrZnw/qv5aIMdDSSZDxfNB7OjlkOJn2/GaGobuHE24Y+Xpbff6b/hcrqW7yQKXMjtMxgB+SEaxPP8u1/XqfwpqMv+Ecdgh5xylpTVNzgWxKG/cdgGXeuEVKwYi7YJU+OL6HtnVAf2LWRAtHi4nYYYOnX4o6+RZG4M4azOrlZ3IDkQbqR6rmjIMXwEYp/4UySwsfR8y6oWc237zEjH1XkLKC4rVBZRBSES8nUWAjz0/98wkxA5IydSI+pKcBR3CaGMSbbc3aUQyY9cGLFuBS3ewjW/BNonGECr72NUziDITvsp5fjmGXvk10XPkO3SLnwAAAwAAAwAAh4EAAADbQZokbEK//jhAAAEFG9KgBCPMWCyYNkmJkkI+QbvfOBa/oq5LPinRpfwycLI5lSGUy/sew0IiUf3zgGtQbcJsspRYXGdczzX8ZnyjVp9Ws+e8PrWFrACTZBG12VlhOz3zpdmT8RNuvwu8u4mV2TH1ZywLS0yd8vDo00Pe5+2nt8bVbB3mGmlORNSkIpSdz+WJ4PhSSw6PKcyP1ltHkgVyzbIQDnlxUkSnmh+oSfdAVGCfJkHxyvB0Tb1odi4ZfMsIqiIhSW0ADvJfc4DCdf05VsfHHmZQ3r9U0FJuAAAATUGeQniEfwAAFh2ezNIkiic/iBsRB2GuRdAFnYLBnqf4SfdiniZU2GHOwCEY22RchjdJwAtT6LcejPVbb/26dQAAAwAAB08tIzB4QJOBAAAAOgGeYXRH/wAADS8/Z8r7i9dlMo9wE09f8Ka/6dgAhjDRqE8dBCxbsVisd+zgAAADAAADAPlJSucsCvgAAABPAZ5jakf/AAAisjy/SOsn4Mfg2P7LrJMTQQ2766X75x+AXUVVfBa8BSAuPqRvwbsdkSAAe+bJymkGp79Eg/i+33MABICo7PiYEMF+uEBHwQAAAItBmmVJqEFomUwIX//+jLAAAEQDAVnADpHpx9uXXQKCBlpi5Ju7vfIw8KFr/+l208TA3RJNIRM+th3DCEPHB1CVrGytbf+QpRcx0gPZ23FwvULZRXkgqmfYgllo3PtcwrI2r3XnlX4tPB3nOw1GDeLzfOrhyY4L0XW1S/uXbLwy0j161lwLs47g4IghAAAAfkGahknhClJlMCGf/p4QAAAafhOd9/3qBWxnu3ew0B6NL1dO6EiEa79DONBDO1RgtLb9+vWMAAWmZ39rswaeyioV0R5W6xeS3lQVZU9K0EMewJEqCZEXAkfheOJjXMXnOaRTBXRJOHlYOiO7Pg87ymkp5smep9eWjSwitgvaFQAAAIpBmqpJ4Q6JlMCGf/6eEAAAQ0RsLkARL95f5gb9B06vI7QElJ71phxO85PzUx+LzVScQFHUU9+zl7k/h85B5uB3/6DcoYQ2watDeCMhl2AKw52ljzYGp7guNsChJwFzJ6z5yqe2BWRH/dIp4nNqJD/Ls8pFYhh8lNdj6Ha0guF61KZz86dTaQd+XSEAAAA/QZ7IRRE8I/8AABYXyb6Imiqr8EAayx2w8wwEdurR+W5AHPePVnwm001GfQJoAVWUTdEcAORM4o7pMq+1T/+AAAAAOAGe53RH/wAAIqwY7pzgIC09xRS+QQijf+TpUuiU/hH8645p3Es9IrjhY1P0Z3NNlnwzwxxlFLy8AAAAKQGe6WpH/wAAIrH/HEnQyGJ4/N6mOseQ3lgUJzzfEs0HhEK5J7eenRtxAAAAdkGa7kmoQWiZTAhn//6eEAAAQ3LLwXqpMAFhL/sBbB+b0Ose6dgJ+Cl4qjRrWdqUtbUebm5t3/ZEHTdoyxhPHe85im2aHhilAi580GUJz5tawOGZL+HjpaSzXRdXJd27o6y+ha1Kn+KYxQKxumwupx98xsPq+BQAAABSQZ8MRREsI/8AABYaWPyeowKaGF+Of9pA3Eg/lkRD0W0AoWbWf47diAvD1Fjj3YUYHLwdfyalTc7Dv1PH4JxtwALpQUvI6AmAoZZBLufEXbNl4AAAADYBnyt0R/8AACGsQkXWyoVFAJXbenJ8rkmqOmdflQOIugVx4amnJkXA8lME0A08z5ZgRka2y8EAAABEAZ8takf/AAAixzKe+X8jWvnrrgIYut5QqwGpnieygYfZ6FJUGKmd29LX2otrKf0AITRvLw+kzWqyU1WWSRrfCdwVS20AAACNQZsySahBbJlMCGf//p4QAABDRSpcgCsjt4G0wnTe9ZX+xPbMap8b/AlRkUggwQ8iDRa7pZZ2q21XuVvyX7z7ey8PMGCrpt2xngD6M94obdjBAJ7cbmC39YSbSjKz7Rp9CeFDacr+aOhDegdaMZHema/EgmULeyYyfBujDrVb0fKx0AN/nhSAbVLm+hphAAAAU0GfUEUVLCP/AAAWGAXE92Lure+YvzhbNDM1mKHmG918dhFNdS5TDwNO9c3GJQ46nHCG8HjWTb/0beIABagPAkin928EwdpPGxqDrlzfnBY2oZbYAAAATAGfb3RH/wAAIqw4KWh9AAuH2NHCkXgZhf3jcMW7rxTwvbTx3yTHlfknfS3QY39tJxm55YLLHFRTM+QTcnKU3ABohTBgR1ZSYr+OW2AAAAA8AZ9xakf/AAAirjHieYn1Ib1C8Tho0GxzlxpwIRpjx5H2tFvmgk9VRTEgvUubOZ9L5bhgZYjLCYVznHQ9AAAAi0GbdkmoQWyZTAhn//6eEAAAQ0Ry35AFb9WqVaFB3vTuXveMoun237sOL9silNTMwXYHtfCXOIRs8IWyb2Gem0Z8rTyMOaVVUQCia25AsPmMozozvEV//V7IGf/FQQaVRIruzqGGBFiMuuEIStp3XoOOATqRNdaa5I929FeAv+tmsK6Fjtc+nay8wBAAAABSQZ+URRUsI/8AABYFhBzpE5D36Fo3BLkJkHuomCZFZ4XQjmNG/7YezYTDAARCwEtcN2CVuxrGZD7AsPt9OFB0qtdVnwn8pWbk/BDdwJP2xqClJAAAAEkBn7N0R/8AACKpz2d7SYhxa5MmS45yIlY4PDrWNln3zYxKz8yKDA0GzEV8oVHel2zOAAA/Y8lYnP6JPI6beZkmjBb7qu6AabjhAAAARAGftWpH/wAAIq4x4m4P6bs5910QTckjg04gBbaHS8KgmiEX1k8GOY3Tk9YeoG85nUuZSJ2R+xPH6ANJ0aOUWe+x5TegAAAAcUGbukmoQWyZTAhn//6eEAAAQ0OXyQAgnZR+xtg/imbtdEZ0VWaqnbQkRdoWi5iOVB07RukvdHf5yztMbelct4A7PIwYfbJeBlGP+/LAs3Fl68vUYrLs2CYP3ETTD/+f6ifEaYfnenSyfkrHEbDjdQKhAAAAM0Gf2EUVLCP/AAAWIp8cn1bsRTCkflfUZ/99LiHalM7jYHMQIwF8XansdOe3XdQ1rCenwQAAADYBn/d0R/8AACLAuDKA2VABZCUfF9aPY+9KEiP5mbq2Xt04EqUnlInmD359fyK2vmuy90F43oAAAAAwAZ/5akf/AAAirjHRoDyCBZDvK6yB/MNbQ9Dv/1Evj9qSKLrhjKRfgNA0sn2F7N6BAAAAREGb/kmoQWyZTAhn//6eEAAAQ7pvO+XPXWFTYfNAjMLv4mfURNN63IBropU0kGXslQAEQ1Rwa0fr1n57Cl0Rn+MVw2ZaAAAAKkGeHEUVLCP/AAAWJTc/XlAV9uk9UvCX5z91kpabzvkaVPT1K9FeycrerQAAACoBnjt0R/8AACKpzxlr7zOyz4KnwhJ020Eyco9f2skGvgvRxJbV2dR03oEAAAAxAZ49akf/AAAhrjMFGgLKTIvljBo6ABc97qpYphC3h19u8xNXpUmTg2tsaGQ01wxcEAAAAElBmiJJqEFsmUwIZ//+nhAAAEFD1XfnfSrLUv4Ynsu9Z6Q0tPSUZ/+kvNQAk7FgwWgJ5XXRADKc3x3RmLL69kJivjnpmOgoQ52AAAAANkGeQEUVLCP/AAAVkp9NsIZkkzx5yA+UF7wblUCHaK6IAIdUWKrsBfXOQr0baUsDujxtRc4ccQAAACwBnn90R/8AACGpz+65LgqRnkAJVA/97nJ6kmT5wZYQRtSXxlzhQTKmG7gOmAAAACcBnmFqR/8AACGuMvr9EIzfDoxIAeaMj1WKfskWwNDWOoW6KC+AjjkAAABGQZpmSahBbJlMCGf//p4QAABBQ9VPLpwf7L7FM/6ZtnULE9V0PiRiSAEI/gs5QI9+0axnSgYuRkSRQ2S7n5rsIrvRIC9DgAAAACxBnoRFFSwj/wAAFYgLLPujf1+yT8z6GQwK2JVCr1dP5xfl0U2pJzQu0pFTtwAAAFYBnqN0R/8AACGpzsWThXQ25kQSjmY5DvR7iif/73S7NnePM/9x+Jv2LqEdZCkKHATjlwGwYN/LpHwWkhMAAmzfEhTlBCVkb873RYlKPN7yMHXrNXZ3HQAAACIBnqVqR/8AACG9la264lpZBgtPxbpS7cZn1thYWRcLbPJhAAAARUGaqkmoQWyZTAhn//6eEAAAQVDrkZgcs1ouk0ClC8kUXQ1aIMSxipKvboKENeOr6qs49dOCq2815KsvmeaGdwPgnACvgQAAAD1BnshFFSwj/wAAFZKfBMDCYRTCkfq0fdgrVdW7dcknbEROn2wAOyCSbIgNjmb6oIpQIljDsUX4LPupkXJAAAAANAGe53RH/wAAIanPGWvvM7LPiTHsz6oxiBaWYIAJYpuAZwm+TUvXGfqC9G7IKTkbAfUgtxwAAAApAZ7pakf/AAAhrjI1Ctflwa3/Tx0+6DTbDUo12+9MgglaZotqoR0T5MEAAABhQZruSahBbJlMCGf//p4QAABBum875kvdYVM2BYAAFwE+EquL/ZmMGNLp+YH0ayoJ7ZoBi8EUp9iX52F7RNTiQx84xCKOEZVFYYMkLQAxEDbhHPmqkCPcH+GwwtupmMd69AAAADdBnwxFFSwj/wAAFZU3P15J0w9Jn8nqP8HZneJOgwBDt3c7FHtQKtVb7jXPJmv1UJ3IsDz8ulyQAAAAOAGfK3RH/wAAIcC4hXL1yqw/Ua/z1ALsie84iJachz7s+92A2KMhwAuoBC+6Dv4DqMllOEbqstxxAAAALwGfLWpH/wAAIK4yurRrNQAWLO4e71Bd1rtZtML+ZlR7d9GMjS+bAdXvKPMOrlxxAAAAfEGbMkmoQWyZTAhn//6eEAAAP15wxm9Ai7RjudckgFEhoeABdA+GRWIdxjOjUxY8Hfhg3vHLGKKTrLsFHL/LKZaf5TRyor9LpkBENILxJ0ldazpJfKEEPzD+BLfgEUSERS13OGdMoQ56HyGEtxZhjtyEsmoRiMoreoH2gdcAAABOQZ9QRRUsI/8AABUCnwnO7NdzaeE2ACcYlBPj/R0nAYW+KZZi1gJMJME8dumu4pS+FHFvnZwv9Yu6YPYaidMInjACyOpRHMUdKV5v8FdMAAAAMgGfb3RH/wAAIMC5oRuKtAAEsfmiPHG1hJNK1SkJIYPdWPiVIta3ol1vScm50p+h2zswAAAARAGfcWpH/wAAIK4x4m4SdprMQAF1AIW+14ljns/NfqHkQMfH+OGVDFlKdRLsj8bXhwe6hpAtyzJq/d4kIk3PU+WzGD1ZAAAAU0GbdkmoQWyZTAhn//6eEAAAP16A8DwAWFh/kxAGUV1qPoWhzORmQ7p3vovg3v9kDoq/z21pOXbhNdxEGxCQZ1QzGlWbFsN4fQn6tKr0GQY6gGG4AAAAMkGflEUVLCP/AAAVAp6otENIh368K7BJCMuMZMTYRKSVlljQtIHb2jzWEzKXhKtJq83TAAAARQGfs3RH/wAAIKnPTrtwCT1ACWE2DoztEmhrBkUza07i6CXzqtFhY1HP76ymTKUfUuRL4LG91Ltrf9cwPjZFXJiu3B7P0wAAADQBn7VqR/8AACCuMS/Rk6gAW3V86rZMzoL4XABcnEccwAM+c0MGXCrnpTmiSWGFjA/ihbPTAAAAeUGbukmoQWyZTAhn//6eEAAAP7wnOtABB0jK5dvgAFKvQPjPzxY4UReS+4GrLRybrHsrJbkWFC9u5HJLUWJzT3NoN+GI/JrNYzL5ywm+VBKp4ZQ0g3w0nSud6juFBVKyoC5Bw6nxbI21z1pNPZJNUZ9bnDewvDKkIoEAAABiQZ/YRRUsI/8AABULX1cWcAAmgAggNjIVml4q1Vr7E2Kg2PYanRWEHiuvwyPypUYgizY3F86YNdL9UG1RRdlgd2lSKrDGL+xuQO1sGpeLz919Eix4Uqz9d3eqDvpWgY/PebEAAAA4AZ/3dEf/AAAgqc7Fk4Vz9N5fInzMMo1Q/WPuj3zlMwABLHm31ihnuKB16lRveVVWRQx/ldla7pgAAAAzAZ/5akf/AAAgsf0EB55m5dm7RCrNxxAvMg1I69cFk3QWGGHDKQCflYFBIzJQ9y387Y9NAAAAWUGb/kmoQWyZTAhf//6MsAAAPlyDcgACrt/9sH42cDfz5y3/SSor1x4TvkNL1vGaCcCzHFHf5YyCgvjxy+2Ad+M9D0HwNpkgcdOx54coFQ3n1WdtjYBLsTASAAAASUGeHEUVLCP/AAAUgDm3sBC5c8GJwaTREq+piVjyd4QKa9LIgYM1iuPsShM7QJHupes4zkX3LebDxZPqAqEonNb1P8K+lgjMod0AAAA5AZ47dEf/AAAftulzRjGAaYUwwuTCpLyFcSgwk+AAuer4E72g9ru20vyoVjBgMtKa5EL0LiH5O/0xAAAANgGePWpH/wAAH8bAaKYrp725ogNgAtGe9jf0+xgAZz9FKZ1xy6c9ENmop8H4hVy83RP8Fg7cQQAAAENBmiFJqEFsmUwIZ//+nhAAAD4HLnNt3QSJWjRVnaVL+U0ClByWuS0EKw7fQQnhM066OPj4FjC+fX+7W/e2/d21X7rwAAAASUGeX0UVLCP/AAAUe5RUsXK5JIXq6SQAPv2V6bnveeBdk8I6VtYXcj9kUZjiyM4Gyt7cftUH+xeNGQ9j45506cXD/5sS4h7IykEAAABFAZ5gakf/AAAfuacF3q+cEALM/3kNC2s/3AYci2t304nBbCLe5WELAtbVlHLcwESOWmyh+TOq/uQHTesBGIMRQ/j5V/rYAAAAa0GaZUmoQWyZTAhf//6MsAAAPlyTtxe/xnCI3WACG8UhlAMhk0/PZCWmeNKQMviAh+zeuMkloQ3v6+4X5QTd0LvHuMmvDdE3Dc3u4rjjpoCdodKiSpb/rI96krjmMptqpx9Pxa7/4XCB7yG9AAAAYUGeg0UVLCP/AAAUeyVMiAyoE6AoWxHmmSguzcosRz4B5jv1BEWGoNJhc34hRT/gcZwJ7hFTUFD/gG5CgGVhvz6pd3o4kO4cUFCTSGoksGYFyh37LKUoBr95Ka/5rR3bd3QAAAAnAZ6idEf/AAAftujxT4aAfpXVlMxYv7DPKzxOiTNFvSk8m7XzOuu7AAAASgGepGpH/wAAH7mmf1I0CBgA4L1QAWDTavPx4fuuiTvm0qzz66e39U9UvWz4v8sO3em9sKxqJJ8J1IT3cHc5hRrs6zZHtOen1PbBAAAAg0GaqUmoQWyZTAhf//6MsAAAPrwln3+pRgBPROOuAt+RvTvhDxmvAUsL06RSTGE5L7R+uGAq+WEZqh+XIhMv72lrPcye2CXf6Ci8MnpN8SCbyHmUrNKGlrh9hkctXWCeN1WksknGboycMEl9eP2SMoG30X2xBabHbqMmG9Ud5oKkuAchAAAAREGex0UVLCP/AAAUdTbK9S1ebONE5Bv6tstv/GAEdhOdy2vujAK7Ir28mhOsYGdzWYJAqoryERvjdOZQ9RvReDBywbuhAAAANgGe5nRH/wAAH7iGr+fQBIeCWYAFWep/elrDgjC1sdp5PXmO6T7WQy3tdpFpi8jc40iOJ6W/owAAADsBnuhqR/8AAB8WwMu7Qk+bQALFlvvBle6HkUiqYByYFmYSOgyNpnzNzz4JWUQ2+xK+xST0kAuOmeT6MAAAAGJBmutJqEFsmUwUTDP//p4QAAA8nkPGbz+76L0HM3z7r8L1ai+wFcLFzOgHuPTCxMA9ye3JBb67g4bg2v/1+o3iMNmbzpOxDE5KknR46Zhz8RiU4IYkKx+KdZYDUGvRaIcPgQAAADkBnwpqR/8AAB8ePeFac2JxAALZG3j867aMRgBTFV6Gqmi8RQIxDXitzqPU97V1A/SQkDoNCMbptHYAAABOQZsPSeEKUmUwIX/+jLAAADz8k7vceGAgBKh2dVQZSwxILEzbaW/Xl58hU4OBy+KqkTaWiyLhUjHeSWG5xoVvDn9mUBcbttrhMF62AsNsAAAAO0GfLUU0TCP/AAAT4f2RC18aQC+RfOb2elzP9oaqJHwy6ROSek8JxQLF+XwT4EQcElQw2YTv1yCe8vPlAAAAQwGfTHRH/wAAHrSi4HX0ADIAFz1fAnbz++pDGBTQdl1H2tfyoGqf8KjnNBl4h2Ddxl1+MAZQtK8mcPYZs1ZnororekEAAABKAZ9Oakf/AAAfCb+qYAiSZqLAY8i3b45VGJRiaybopoDAQo4UKEqrRTxwrqy4bWnsvEV2ZWZ5cHwFmZxNVMbQlcIzVD5awhQNQ+UAAABaQZtTSahBaJlMCF///oywAAA9XCc90HtYPZbeJYCVBo7QMftQJcA6bvamZEPMXdYFCsm8WmCnGPiyjUycKAf7p3WD0P669YfsrWqS7fQqj0r8PqgttVZjR5HmAAAAS0GfcUURLCP/AAAT5STirZdLhAmnkF+0m+1SqJ4GCbImNo6kU8+yURYGlV8QxmZg/6ztqi5wvx2x+Qkl72O1eQl1vewVHTBVxLrLygAAAFcBn5B0R/8AAB8G6Ar24JlIGQAOC9T9LAVdrxl+0If9cjGyBWhcxB0TVXF0tvv2QhQBI+XnDKdsUwceJTsDKFLK+muHGlmcX/dfCvy8Saox9gXEFm3D7ykAAABRAZ+Sakf/AAAeWagIJBdgAkcLgBgTXPmClVNkc3+RQ2CJCgwM4Kn5ZtWz8bQ3YIGFoszgZAVgsxmqfFIS2vAZphrxs5RHBNxs2ylRbTr31fVgAAAAXUGblkmoQWyZTAhf//6MsAAAO8u/pJw79VPFhmDfgK0+VBSDuupABetnbCpphVNVbYzVEwKmriizfVD+m3yINrPBoS6MFpsDlE0SbIwUI6fuAzOR67lBPKD4NMCfggAAAEdBn7RFFSwj/wAAE1W+Wu1ACZSIAJq1jRjvame7WVPH9ebKrlcaDW6X7/h2lRWFMFfNhiBU62NaFueqlJXWKOKaHXdsmpwMMQAAAFMBn9VqR/8AAB4Ekz6vUkAakd9uTzs71WAzp7wi4SRh7axYXZh1Y2pbi/i1LPT1e7/gjdU9tcmYU8vNApCVpcaxiUAa3JNQQ9UqZPo1VBOho70f8wAAAGRBm9pJqEFsmUwIX//+jLAAADucpEyjeLNOfeouH9BbTP236g+GbEJNSPTCHAlzqiHbFapPn+c+4vhHsBhZVdCDnBUJYE2LLEdYjNQNMZYV8Q7tQyfWvv9/AltRnfhajyIM5ZMrAAAAU0Gf+EUVLCP/AAATXSVUAzuDu/8Mpgb4uu8BT3GcnDTOr9ByUD5mFpUSxJmXOhF9GgAnyrMUmG6EGCB4fQVYEEKwwncMsIqK6EMMwrd5ydKGtIaZAAAASgGeF3RH/wAAHmgs/y8T9E5/IeE9YUN9kfBAzoi3rK30b0KmWmMc8j9PX5wgFKNkQYSCACdsYAPE/34k+IVcPvycHbgoXDsteVpgAAAAMwGeGWpH/wAAHmZjZ6knWhqXjbHagEAKOI7Ve+PGitVcMC1Ahu8m1j7Le1dPJolcTw6NMQAAAE9BmhtJqEFsmUwIX//+jLAAADv8Jz/c09AHrlz1GJtSEHzIi0rlbM76r/7h+MlnM7+PlEoVTIpAiCG8nD1/3Ymc5AB+6RC4LZ8wuLCgQTbgAAAAX0GaPknhClJlMCF//oywAAA6PIM5ou0CSPCeNywpDUhfPMHrDXndkqav3S/kQouC4MOj6ZNHICD4AIbID8cw5FA7JTLyjXs7/sW08QBieLN8A8dxMG576dN31dKwVQgJAAAAQEGeXEU0TCP/AAAS3V+Ey+DMqAHbRzmMuFPFpRJzDCEA/XMjPd76i27eoTINAB1d3ceoxJBPevhTT5D44lkqyHkAAAA0AZ59akf/AAAdtmOZe7E8FRvKmx3gpxK7a5HC+RcDcMYp4AENZ7PamVLxIOWZxrhjX2Uh4AAAAGlBmmJJqEFomUwIX//+jLAAADpH26M+hIAiPvhT8GqlanjBG7p2Hn76LtsKES5H7yF9hDY8Zto/TdW6E+Yvy7N06KW1K0HeQQdZFmcEKNQkNi0E2tqlCRrpP+YwBU6J+OP+PVsvH2NrNoAAAABNQZ6ARREsI/8AABLVvjvs1An8vGVZz6Qzl0RwAuKzMWkOS7vwVZvQIcNX+OSnVw8JOrpdyx0YzHrVsvwRqEWh4qaVhPIiVe46zswj63UAAABBAZ6/dEf/AAAdpnJAjt3sTtf9FykwWbs7ZWdLIEMhFdRvsBAEO/hzOVzG2nNAATq5aI0o8QeA+xGmvihXUa6f90AAAABBAZ6hakf/AAAdqaZ/UiKsQxgslTJF/T4dk1D93N2xgch0bR490q3LgAffEJzHEvoMOCPD/MIgrhQyiv2sFwXcboEAAABSQZqlSahBbJlMCF///oywAAA6nCc90HtYPYcGEXNx1wy18ySQnWzPFl7IqUEMdJFRnEDQIoUPYr5XIcs1MRteplo1bMu58NgoyX6jx2zANI8CZAAAADVBnsNFFSwj/wAAEtXgvirgkCMtrjPZhXmMFry/Hre0p+0lAcUxWblrDiS6qJ13oMFhbF3IFwAAAEUBnuRqR/8AAB2si7ARj6jqsvBbenQCHALFt1t+1l3L4IM0xqSxOuWKNS8jxaJACV9CkWEmosv0LffZ8DVqYXm9wFoO6+8AAAB1QZrnSahBbJlMFEwz//6eEAAAOH5QJEAFuiC/ZNydGvj2kk1QArUTuTM3YR4cNf/p0U/1gy7gWtGqXFD8eZdTg628tqh5dVKj9OQPdzwi1fOywelS67s4bsoevf/6y2dNv/q+OotLzjy+ICKiwiE5pA1A1vS5AAAARwGfBmpH/wAAHQZjmXuxO/r8w3afnNGRYfi9zqN06hk2729YDb/F55Hr93NN0AI92oMKYZ0qvwqy2JMbENQjoQuPQ6vaqvuBAAAAekGbC0nhClJlMCGf/p4QAAA4hzmP30Fdnw2+FsSekYbEM7K/9juDvorgOs+cuYblHkw5R7wATqsO+hJwMnk9za/ynPdP78SrakYdzgbL/5fzV6dY+mVpRvaYYNcspsk2MzL3CSe6U0Hj5UH5WsO8E+4j8JRimBaR7/vAAAAAUkGfKUU0TCP/AAASYj5hPwBExqCQVCvRvMZo7/pAFmV5bU/+Jp2zlqROLE9U1K1m0kQK8v1l4nsfsQvCL8yTzNNQjYxKFhTJxXeNVCeRCGy/BUgAAAA8AZ9IdEf/AAAc9nMXFRJdBCAnNOZHWGkfvXTH8EaFn6uLKf4L4F8kViIf/hsjQ4hxUe9wiByf0tXwQsGrAAAAOQGfSmpH/wAAHPjs2nDfPGK/ynSbaRdboAYsZ42SgREdoXczn0KHb+mP3bC4pva5JVjzl/EIIkZwcAAAAGZBm09JqEFomUwIZ//+nhAAADjcJzrUOQdIyvozRUTL0aN6fSmLEHlE8/KraCBeSE2alHtqnBmyUzlG/JKvN4AHI4zAvABtADHzYR1y0f7bvuOOENSB1iYeo86x3mmAQx8V95SLJAYAAAAtQZ9tRREsI/8AABJX8RJKZuKdi08LBVrzsfnh2NWMtjd5hmIMo24pVmI/HsHBAAAAOAGfjHRH/wAAHQgs/y8OzjqCLplQ5sIEX+EGFv5rYoF3qI/Z/osxXqxZqTIGisa1AB+fcH1leugDAAAAOgGfjmpH/wAAHEjt/0vRqOHDfbF/PCBju1MGIQewxgOoJyoqYAHqmPfXxXm0vDdXjHe2vu61dUD++GEAAACOQZuTSahBbJlMCF///oywAAA3izaw3AIpODTxYVtKEtQpVs4BgYoOKVNrtKyrp4g+4hZl2B26aAnm8ZJfhsEj9uqc0FgLBShWDlHMF5amD/IQeNOjJDk3eeDg+6eaG5s0Iq4bbA2h4OnOv4PX9w98qb5Csz/O8m51iiDYEyODBIEibaJPA2EhFjgPNxz18QAAAFRBn7FFFSwj/wAAEdXgu+zKX9mv5RR71rWP79uGx4WyS4nTEGUsSXhD1GGIeOty0BUnuQArh/AGgH0veHKMLGvmNwIcHzM4bfIBUjLZM4P2n7yiriAAAAA3AZ/QdEf/AAAcRnJAjJS+a+wZP8iD8b74NLvlVkfYZ0R6k+tb00rN8kt+cpnPlrRUDMixkvvTiQAAAD8Bn9JqR/8AABxI7Npw7AkeGd5gGIQKAXkXCbgvxmZcGsrKLO3/VF0X5iZoXEPi/3lSgAlfqPaau/Q/fR7n+aAAAABzQZvXSahBbJlMCF///oywAAA33Cc91U2OBFyht98BuvwVBTRVP2m5lmjgzA+FWShA086CdydmIBRRrVmxgg46hbexpDb/8Km01HZTyYz1LR9Bqc2usVPL8UGB/IejBbaNe42F5zkU7C0K2vT0Sh2APnsjvwAAAEFBn/VFFSwj/wAAEdf+frR9OG1NYHcJyKrV59A/iA6pqWwBVGEYM1QEyUAAF1rLjMLzEmoebbPXKoHW713AePE+aQAAAD4BnhR0R/8AABxIjY3FBo8EF4FZgOf7jfMR2jwB3X+tQLFZvXVJMiHwNm4AIAQe83CBKo/xOzvuRuOUk7OHgAAAADMBnhZqR/8AABun2n8mQBsCAf/1p30hvn5zHyv98pOyY0TT3bGAT4DTanDNvHTuIQ+WcPEAAABtQZoZSahBbJlMFEwv//6MsAAANksGouYAV54y9tm1IQ5rcqoBTh6V8TM1RpJFju/mT0ziR7pbcmHCDwm5sPXnWJTTnPHohxRjy4nuCTeQ8gQZm0N6pQWWr49gcBTKthzfQYJO2CCzcS4h+/deQQAAADkBnjhqR/8AABun2mF0Z3pmdTLbkdqvTGKQNzt9phGwM9oLmuyYWFKt+d/1Jnn485RCFCv2yMVn/4AAAAB1QZo9SeEKUmUwIX/+jLAAADacJz/dTe+KADjGMEeD5XsP3/pY9Ni3wAuB8ZiMWaPzezabl6o+JLSLjUxMWHwkLti9//5DxMuGFe0HZF0s3hKFfMZRzkmYMUXjljurLgu8eJk0t+14Rc//RwG9xaIrYZOqliAhAAAAOUGeW0U0TCP/AAARWAWfW4iYgLAZ+snMIN3lBzTH5XkP4WmPuu0uv3GeR0A30s+jTaRxXbwkQrTfVAAAAEABnnp0R/8AABuaPpMXoeZzE2b/lcdPHdpmQBbEY6lkJzbxpsdvq3yat71sXAA/CuJCayAoNpIJxVw+1nb4IBlpAAAARQGefGpH/wAAGwfafy+bLlUEoFpOQWbMEAAtjVxeiVh0zge0mA6sC6BDRf+bzKoLsHh9iKAEZqZzG8kFGzrBEX8wUvn1QQAAAJNBmn9JqEFomUwU8M/+nhAAADSz56rzy9gx/mhhVEaNKaT6YfQ25kVy6ficKeCeoX24/5D84p7Z/bjbUf13Y6VgIfo88i8QswtHiJSy+3IvqFDMjYe+UlFqQU6VTEP4F+J39xt5Jw2k6MO/zX/QhcN1NFvG+uLAGarInHaT0IPPFezvLGkYWPPVrwJfjqhQqOVaPgsAAAA9AZ6eakf/AAAa/F9j9I21MODCQS1oI9BpWtGVUpXYcN5U2OdZ4wuQHoH5keSaR4nRQW/iY7GJ3CzZgSloMAAAAJJBmoNJ4QpSZTAhn/6eEAAANPwlrc/nIboAWmPvVL+AB108VcXKE1LjdG8MsBgF6WRLV6R7hexQQFxMZ7LelpY74mSroLoMlZM1DSn0x8Qg/UqnAYNrBJfrn6e/0t8PHKr8ZYo8xgnf1FKrFMwk9O0XuKpqdbRFToY38dliC6J3oxpc6A7OtIvN3vK1Xa4/CixNwQAAADhBnqFFNEwj/wAAEOI/PmQYFM6k08g2GZuqXC7sIsFnIAcow8JRfM7AkWozSMSDXUIwwiBtDJEGHAAAAEABnsB0R/8AABsIxMxM7onFy/Q7il90xUU69AvGfq37XF+Mf+6YYMhMvrBpKNLts8ZsBJqjZw5hz8o+2ugNuCHBAAAARwGewmpH/wAAGv+OtJfUdDhsNJipDwWgxK+s7xmb7iB2JNa6p8L/UX+pL1JAdr34jjuBkAEHvNwgo9FuieD6OLtuA4uU//vgAAAAbkGax0moQWiZTAhf//6MsAAAM9di4/ZwADbf8nVJOgt13pFacJjDO/Irc2F56gMHxTLnqbyfHhO2tFGkc/ONFkc6zGEkt+NVBepmWWfWkoHDxe1unOoyPIsTxzP1V0arjn5tVyVMzoKrlRYKqT8TAAAATkGe5UURLCP/AAAQTQiz6ogS95cZZtF9yPtLBFigAyFsyMQSM463juqDjEgJAxTIDrDyQOd8685Hg0kLw0IARK0mOJdJyYzLuffXRs7n4QAAAEkBnwR0R/8AABpZudcyJfFUz1MY5QAkvt494zdnTWnPm5ZyzJZuqj0cIlga7Tb+FRH8LNB6GWo3evzEt8knQihLwyLupzYsv8fBAAAAUAGfBmpH/wAAGltSkkAIv+79satjDbZeHoSd1W+Uzt6PxvqFkCUjX1AFi1dsah8BqrNeU7EBtZiRMkguSNZPkxM5GWaL5RgZr8Py1PpiLCDTAAAAfEGbC0moQWyZTAhf//6MsAAANB62ftu1HmGHMvvifM/82WEPre/jGGm9KK3i82gAIi0VW6r/ff+5/k7ln7tlD8ref4LcP1qZ4WqTLVPQkqpbY/7bICbXXv5aq+5DlCZZ6cpLwjkPFx3PQm9ZX8f1YWsqWbrDBsgTQaHrWTAAAAA+QZ8pRRUsI/8AABBX8UCEEhsQh/MB2ydIuomcqsO9SSj5OQAC2mRvg4ew4v64wPn5FnxEUlkrErFHWPLi9CkAAABHAZ9IdEf/AAAaW/6xRe56WhTMxr3yIX5rP6wsLGfSvLK+jK4v2LArktQ8nYpzrndhABKDsDIjwVP3Z/ksXWtTA+ZlxnuduTkAAAA/AZ9Kakf/AAAZu4Oxpe8Q2oABbH//AIaSXsr21E3Q5xmzFAOlp7SVS7Mskldr1JPFX+zCsWNAMXv7iNou/OTgAAAAcUGbT0moQWyZTAhf//6MsAAAMtwnPdbfxYADj2l4Bwn8Z7XTsLdbcWYfGMQGrFjia7XNcisRYi3uyVYIRS9mkT4qcjCaUezWeVhIo0bpDogbeJ7NB4rTI0DjYC/Vx3mrMtDOpEJGSBcxxpGTw5gFINDFAAAAQUGfbUUVLCP/AAAP44PQ/gCt38zzdEnHdKa9l38JAjO6sR7BIsMuvo+/rvnCFig/AIKLNAo5zen4mbQKtTMEzZxBAAAATwGfjHRH/wAAGcjEzE52YhAKld7T7cOFAxaFplhXXPb8R7gbNN2AyXgABOJEvO2NwDKfPMOB3EnwuDNP1ikq5yVRVEkIlP2bN/FXHzCdg3UAAABOAZ+Oakf/AAAZv462Dd9xbBH6GgTAp5dHrqAxRbBgDcbO1ea93KCDoHD1ygsEp/RezFgAITc0859dUcsvWSiko4O8cfSWandL1rTp4bjNAAAAbEGbkUmoQWyZTBRML//+jLAAADFLEdcgAvjGzFuVlpC1gAOPWO1rPLtq45toGshHrX6gmm4frjsZq1FgUbZXseIis2Q8S1dIbSJQ2LD+2DpVGU7uJ4OWaG8VNGKr5f+7hPFLad1H+q6tCZGhYAAAAEEBn7BqR/8AABkn2nqxGt7VvMrfN91PDBDTKFbTm7J6QTsa9pFNGlpJDULOYJ+MUgUorwAJj0KJK0PLkl8pDlZjMAAAAIBBm7VJ4QpSZTAhf/6MsAAAMZwnP23S21EW9fMscHIQACq6f+/gFIr354nDvg1pxU2uJ0BYPBiIl1f1ATo6ndu9aNTGMQc6SXVh1i7vKQ62sFeHqVxTSkQrIbJzGVGyg0bMnmeXf9sTo9aC/e+2EVoCQ7XMsrd8M1PjWSQPwiZH3QAAAExBn9NFNEwj/wAAD4fxubiqAKx540frCE0SPcF478NsBbqPcNSIuTH38X8LvEH8xic6ArxhXXV4Yvnx0zvhe+i7aZC+CtY9XlHNnzo3AAAAOwGf8nRH/wAAGSNrIGj6wDCWKZAWdaIRct6NoBYtNWvuC7LOp0vGdkNIAB+/9wKsGOXxy35iwWt1M5ZpAAAAMgGf9GpH/wAAGR9+1FWOhx8Ppwj2Aym8zK0eYnUctprbte92ir/AutLcyjGkQxPINP8hAAAAYEGb9kmoQWiZTAhf//6MsAAAMArOiTVBbe977MWL6PEARM7eAnz2QODmjNlGf+3+62z1+4M+LqBNvhMxClxfqJGAa9Aj0WhF0wQii7HNYvNJYFEW3Jswtpqt7PgV3KOXMgAAAGxBmhpJ4QpSZTAhf/6MsAAAMFwnP227bURb14839Qaen4SbJfBAXpyKoVWCjNzEIHNCCZilQQfqvo6GYx+yphY+zLIJdDVz+p4gGnCABDeKcqW5Xvqlf0khek2ZL7SSjIU+ruWzAdvqA1xcNFUAAABCQZ44RTRMI/8AAA8v8cQbgcfJ4JGUPVfmdN0jcrGxLy8GXgidm9bCdz1q6zVtIpEINXc4kZw6tLXIcr54OAs9ZlLhAAAANgGeV3RH/wAAGHnFPePAS3XKumNkCBS/Eb1f72jjxCpJbRFeGbRRQU/uHVYfkS00WCu0c4YpcAAAAEcBnllqR/8AABfnl6UlgjY3uv69TnOePHiib/53ihnD+kQgOp6lYjc7W2xLyiNvTzsmNgACY9C93+QPc+Y0DQunPXfXp+YYAwAAAHZBmltJqEFomUwIX//+jLAAAC7ef6jbgCtFa7FsnV1M8ojVS/fQbI+GFuYDaUjoiL4ubKOokbVV+9E6iZ1EG6NcXcM8NXbFpeHN9ttvfg0YLx3Wxsrzsne4v7psiTPr24v0lneuNZnMGDY46R7cJhVgQ1H+2e6gAAAAZkGaf0nhClJlMCF//oywAAAvHMuTQMB1s8D12HRGVOHIaajdn80a+dQkFvM3EcZcttt9jhyNurWW4k5kkABjDcAdEIXSUnTtmq/WEUfJSMljGnO9Tt1vnGwR+9TEoAlfMC9ZCn/GMQAAAE9Bnp1FNEwj/wAADtfxxBuCEsJhgALaH6l6e7+qnKt0q6w6dFwTj4jAuzAoO7Am00CjyCWLWn+IWlGOSiFgm17BOWyYzUTw+A26FwSWjCqFAAAAUAGevHRH/wAAF9nC6Auy0Sji7PmS5ZNgxR85EuQNB2DWsOHrphpvtVsvKnjzSRM6igj5dtA0gAH87SHJm2qxmcFkXF7Xf2KATEtmzgd0KgQgAAAAOgGevmpH/wAAF0FVow+n81OS+oq8nXdTndzAYsYdL9JFqM4jRk8ieqW1uO2LqJuiiBfvQ0Xf/sVRNJAAAABdQZqhSahBaJlMFPC//oywAAAttSacUHdQ6dTRwZWmgAG6oAiNqwfePYQyAUrPwXlR+QWqLDYYTpvddHiIE0g/kvSbxgEoeIG0GXXRINCJ5ZqpCZsz9218VlbvOJrBAAAAQAGewGpH/wAAF0tjuweEzc2zGRbofGBH7FyBHQu0B43DE1LD2AE0R0hozHw8y4wf2FegAAPy4aSqyl8h/QuwKy8AAACDQZrFSeEKUmUwIV/+OEAAALH7V92T9Oh5YN7KlSlqUvhqBMPUheqfav4La1whjQCuvnYhELYlKXnGIt1I8YOt5YvYbtT7wERVceIIZvsR+hcUT43ABLjC16pRR4avnWhRUEhz5osuJWAi1Xf4YWxjhs7gmlulfND4zbsAF45MmUtL8YkAAABPQZ7jRTRMI/8AAA5/+ogxhGM2AAolXTabL5IPait+ZqB3t1PkRr7VZCAK4whpWEO4Cfhqx27ecvR1ziUfZJZqomAf82hfoTCUT/32hrkccAAAAD0BnwJ0R/8AABdBWQeMPB6copFLgcZ8+IhV6fh60LUC3hAUJzooeqWyMny8MWAEsZ/3Sox/+IxXszM+9VTBAAAAPgGfBGpH/wAAFrtdatpc7w3Fa6iAhDlEANOFk+ra5otm48aylsPMBoM+JzcNTI+NOKo5JjL59lAOfHHNeR4dAAAAo0GbCEmoQWiZTAhP//3xAAADAaf03MWOeKWqTk6fGjP1OfiN3wAQ+FV6dsTESTDTwQO9b6sBaFXDYGKoeMLcuCmqw/Pxl4EebeZv7WsuawLOG/MXtHTlP3LITePBiZO0hDOPbBO8W2NXUCscc1GOD9kPExCHvI/H29YGux8d7t2QzqOoLTGXtrLQpcGvaclwjJmzrNGlInP82al59PWoQK1Vq1UAAABwQZ8mRREsI/8AAA4n6j58zeTJH23dmHwuAdoAihAUqWPLgMBtWIzmmXf2D6GJTOyCRkXP5+0cN3mgiOXskeAthxoBM3QrKUuZTwDvVt842D1KhyGjv9cKYWRPv7/XOnHqyCb1Wxm6RV4JJq5dfNXN3QAAAGMBn0dqR/8AABYZwFJphHCD/apMzBx3jQAsOnmxe1gOOab2fupPx/j4DQU2yYK+KCWeFsvb5sT/29oEizQXurIp5pHf/4OZZDaBYIIOrshy6I/M57SHzVGNWrpT8kR5ieTnjmgAAABYQZtJSahBbJlMCEf//eEAAAMA8/orXhR+qIQMpLRgBdRs0XjUxDE32SSAevep3Jp4ern732pTbLigdyDjQZGKnFc8nqGL3SDg4CkrHsxJvuH5RvuqWYTsOgAAAEJBm2pJ4QpSZTAj//yEAAADADO+T+rDMJcmvq6I1RpWNlATABs5ArcZLoAXZ51WLb2c39yrWwkwVrMBxNO+f1BdB4EAAArfbW9vdgAAAGxtdmhkAAAAAAAAAAAAAAAAAAAD6AAADVwAAQAAAQAAAAAAAAAAAAAAAAEAAAAAAAAAAAAAAAAAAAABAAAAAAAAAAAAAAAAAABAAAAAAAAAAAAAAAAAAAAAAAAAAAAAAAAAAAAAAAAAAgAACgl0cmFrAAAAXHRraGQAAAADAAAAAAAAAAAAAAABAAAAAAAADVwAAAAAAAAAAAAAAAAAAAAAAAEAAAAAAAAAAAAAAAAAAAABAAAAAAAAAAAAAAAAAABAAAAAAlgAAAGQAAAAAAAkZWR0cwAAABxlbHN0AAAAAAAAAAEAAA1cAAACAAABAAAAAAmBbWRpYQAAACBtZGhkAAAAAAAAAAAAAAAAAAAyAAAAqwBVxAAAAAAALWhkbHIAAAAAAAAAAHZpZGUAAAAAAAAAAAAAAABWaWRlb0hhbmRsZXIAAAAJLG1pbmYAAAAUdm1oZAAAAAEAAAAAAAAAAAAAACRkaW5mAAAAHGRyZWYAAAAAAAAAAQAAAAx1cmwgAAAAAQAACOxzdGJsAAAAmHN0c2QAAAAAAAAAAQAAAIhhdmMxAAAAAAAAAAEAAAAAAAAAAAAAAAAAAAAAAlgBkABIAAAASAAAAAAAAAABAAAAAAAAAAAAAAAAAAAAAAAAAAAAAAAAAAAAAAAAAAAAGP//AAAAMmF2Y0MBZAAf/+EAGWdkAB+s2UCYM+XhAAADAAEAAAMAZA8YMZYBAAZo6+PLIsAAAAAYc3R0cwAAAAAAAAABAAAAqwAAAQAAAAAUc3RzcwAAAAAAAAABAAAAAQAABTBjdHRzAAAAAAAAAKQAAAABAAACAAAAAAEAAAUAAAAAAQAAAgAAAAABAAAAAAAAAAEAAAEAAAAAAgAAAgAAAAABAAAFAAAAAAEAAAIAAAAAAQAAAAAAAAABAAABAAAAAAEAAAUAAAAAAQAAAgAAAAABAAAAAAAAAAEAAAEAAAAAAQAABQAAAAABAAACAAAAAAEAAAAAAAAAAQAAAQAAAAABAAAFAAAAAAEAAAIAAAAAAQAAAAAAAAABAAABAAAAAAEAAAUAAAAAAQAAAgAAAAABAAAAAAAAAAEAAAEAAAAAAQAABQAAAAABAAACAAAAAAEAAAAAAAAAAQAAAQAAAAABAAAFAAAAAAEAAAIAAAAAAQAAAAAAAAABAAABAAAAAAEAAAUAAAAAAQAAAgAAAAABAAAAAAAAAAEAAAEAAAAAAQAABQAAAAABAAACAAAAAAEAAAAAAAAAAQAAAQAAAAABAAAFAAAAAAEAAAIAAAAAAQAAAAAAAAABAAABAAAAAAEAAAUAAAAAAQAAAgAAAAABAAAAAAAAAAEAAAEAAAAAAQAABQAAAAABAAACAAAAAAEAAAAAAAAAAQAAAQAAAAABAAAFAAAAAAEAAAIAAAAAAQAAAAAAAAABAAABAAAAAAEAAAUAAAAAAQAAAgAAAAABAAAAAAAAAAEAAAEAAAAAAQAABAAAAAACAAABAAAAAAEAAAUAAAAAAQAAAgAAAAABAAAAAAAAAAEAAAEAAAAAAQAABQAAAAABAAACAAAAAAEAAAAAAAAAAQAAAQAAAAABAAADAAAAAAEAAAEAAAAAAQAABQAAAAABAAACAAAAAAEAAAAAAAAAAQAAAQAAAAABAAAFAAAAAAEAAAIAAAAAAQAAAAAAAAABAAABAAAAAAEAAAQAAAAAAgAAAQAAAAABAAAFAAAAAAEAAAIAAAAAAQAAAAAAAAABAAABAAAAAAEAAAIAAAAAAQAABAAAAAACAAABAAAAAAEAAAUAAAAAAQAAAgAAAAABAAAAAAAAAAEAAAEAAAAAAQAABAAAAAACAAABAAAAAAEAAAMAAAAAAQAAAQAAAAABAAAFAAAAAAEAAAIAAAAAAQAAAAAAAAABAAABAAAAAAEAAAUAAAAAAQAAAgAAAAABAAAAAAAAAAEAAAEAAAAAAQAABQAAAAABAAACAAAAAAEAAAAAAAAAAQAAAQAAAAABAAAFAAAAAAEAAAIAAAAAAQAAAAAAAAABAAABAAAAAAEAAAMAAAAAAQAAAQAAAAABAAAFAAAAAAEAAAIAAAAAAQAAAAAAAAABAAABAAAAAAEAAAMAAAAAAQAAAQAAAAABAAAFAAAAAAEAAAIAAAAAAQAAAAAAAAABAAABAAAAAAEAAAUAAAAAAQAAAgAAAAABAAAAAAAAAAEAAAEAAAAAAQAABQAAAAABAAACAAAAAAEAAAAAAAAAAQAAAQAAAAABAAAFAAAAAAEAAAIAAAAAAQAAAAAAAAABAAABAAAAAAEAAAMAAAAAAQAAAQAAAAABAAAFAAAAAAEAAAIAAAAAAQAAAAAAAAABAAABAAAAAAEAAAIAAAAAAQAABQAAAAABAAACAAAAAAEAAAAAAAAAAQAAAQAAAAABAAACAAAAAAEAAAUAAAAAAQAAAgAAAAABAAAAAAAAAAEAAAEAAAAAAQAAAwAAAAABAAABAAAAAAEAAAUAAAAAAQAAAgAAAAABAAAAAAAAAAEAAAEAAAAAAQAABAAAAAACAAABAAAAAAIAAAIAAAAAHHN0c2MAAAAAAAAAAQAAAAEAAACrAAAAAQAAAsBzdHN6AAAAAAAAAAAAAACrAAAE3wAAAN8AAABRAAAAPgAAAFMAAACPAAAAggAAAI4AAABDAAAAPAAAAC0AAAB6AAAAVgAAADoAAABIAAAAkQAAAFcAAABQAAAAQAAAAI8AAABWAAAATQAAAEgAAAB1AAAANwAAADoAAAA0AAAASAAAAC4AAAAuAAAANQAAAE0AAAA6AAAAMAAAACsAAABKAAAAMAAAAFoAAAAmAAAASQAAAEEAAAA4AAAALQAAAGUAAAA7AAAAPAAAADMAAACAAAAAUgAAADYAAABIAAAAVwAAADYAAABJAAAAOAAAAH0AAABmAAAAPAAAADcAAABdAAAATQAAAD0AAAA6AAAARwAAAE0AAABJAAAAbwAAAGUAAAArAAAATgAAAIcAAABIAAAAOgAAAD8AAABmAAAAPQAAAFIAAAA/AAAARwAAAE4AAABeAAAATwAAAFsAAABVAAAAYQAAAEsAAABXAAAAaAAAAFcAAABOAAAANwAAAFMAAABjAAAARAAAADgAAABtAAAAUQAAAEUAAABFAAAAVgAAADkAAABJAAAAeQAAAEsAAAB+AAAAVgAAAEAAAAA9AAAAagAAADEAAAA8AAAAPgAAAJIAAABYAAAAOwAAAEMAAAB3AAAARQAAAEIAAAA3AAAAcQAAAD0AAAB5AAAAPQAAAEQAAABJAAAAlwAAAEEAAACWAAAAPAAAAEQAAABLAAAAcgAAAFIAAABNAAAAVAAAAIAAAABCAAAASwAAAEMAAAB1AAAARQAAAFMAAABSAAAAcAAAAEUAAACEAAAAUAAAAD8AAAA2AAAAZAAAAHAAAABGAAAAOgAAAEsAAAB6AAAAagAAAFMAAABUAAAAPgAAAGEAAABEAAAAhwAAAFMAAABBAAAAQgAAAKcAAAB0AAAAZwAAAFwAAABGAAAAFHN0Y28AAAAAAAAAAQAAADAAAABidWR0YQAAAFptZXRhAAAAAAAAACFoZGxyAAAAAAAAAABtZGlyYXBwbAAAAAAAAAAAAAAAAC1pbHN0AAAAJal0b28AAAAdZGF0YQAAAAEAAAAATGF2ZjU3LjgzLjEwMA==\" type=\"video/mp4\" />\n",
              "             </video>"
            ]
          },
          "metadata": {}
        }
      ]
    },
    {
      "cell_type": "code",
      "metadata": {
        "id": "VTAa6RAWTKZJ"
      },
      "source": [
        ""
      ],
      "execution_count": null,
      "outputs": []
    }
  ]
}