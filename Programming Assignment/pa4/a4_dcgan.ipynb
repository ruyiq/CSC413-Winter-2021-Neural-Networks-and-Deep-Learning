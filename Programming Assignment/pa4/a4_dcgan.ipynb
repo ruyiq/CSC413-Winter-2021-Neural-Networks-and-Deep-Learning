{
  "nbformat": 4,
  "nbformat_minor": 0,
  "metadata": {
    "accelerator": "GPU",
    "colab": {
      "name": "a4_dcgan.ipynb",
      "provenance": [],
      "collapsed_sections": [
        "9DaTdRNuUra7",
        "u0KxX0sDpXKb",
        "m1E_jDaBLT1P"
      ]
    },
    "kernelspec": {
      "display_name": "Python 3",
      "language": "python",
      "name": "python3"
    },
    "language_info": {
      "codemirror_mode": {
        "name": "ipython",
        "version": 3
      },
      "file_extension": ".py",
      "mimetype": "text/x-python",
      "name": "python",
      "nbconvert_exporter": "python",
      "pygments_lexer": "ipython3",
      "version": "3.7.6"
    }
  },
  "cells": [
    {
      "cell_type": "markdown",
      "metadata": {
        "id": "TjPTaRB4mpCd"
      },
      "source": [
        "# Colab FAQ\n",
        "\n",
        "For some basic overview and features offered in Colab notebooks, check out: [Overview of Colaboratory Features](https://colab.research.google.com/notebooks/basic_features_overview.ipynb)\n",
        "\n",
        "You need to use the colab GPU for this assignmentby selecting:\n",
        "\n",
        "> **Runtime**   →   **Change runtime type**   →   **Hardware Accelerator: GPU**"
      ]
    },
    {
      "cell_type": "markdown",
      "metadata": {
        "id": "s9IS9B9-yUU5"
      },
      "source": [
        "# Setup PyTorch\n",
        "All files are stored at /content/csc421/a4/ folder\n"
      ]
    },
    {
      "cell_type": "code",
      "metadata": {
        "id": "Z-6MQhMOlHXD",
        "colab": {
          "base_uri": "https://localhost:8080/"
        },
        "outputId": "0f03174f-0ef5-48f3-da6c-93206775a903"
      },
      "source": [
        "######################################################################\n",
        "# Setup python environment and change the current working directory\n",
        "######################################################################\n",
        "!pip install torch torchvision\n",
        "!pip install imageio\n",
        "\n",
        "!pip install matplotlib\n",
        "\n",
        "%mkdir -p /content/csc413/a4/\n",
        "%cd /content/csc413/a4"
      ],
      "execution_count": 1,
      "outputs": [
        {
          "output_type": "stream",
          "name": "stdout",
          "text": [
            "Requirement already satisfied: torch in /usr/local/lib/python3.7/dist-packages (1.10.0+cu111)\n",
            "Requirement already satisfied: torchvision in /usr/local/lib/python3.7/dist-packages (0.11.1+cu111)\n",
            "Requirement already satisfied: typing-extensions in /usr/local/lib/python3.7/dist-packages (from torch) (4.1.1)\n",
            "Requirement already satisfied: pillow!=8.3.0,>=5.3.0 in /usr/local/lib/python3.7/dist-packages (from torchvision) (7.1.2)\n",
            "Requirement already satisfied: numpy in /usr/local/lib/python3.7/dist-packages (from torchvision) (1.21.5)\n",
            "Requirement already satisfied: imageio in /usr/local/lib/python3.7/dist-packages (2.4.1)\n",
            "Requirement already satisfied: pillow in /usr/local/lib/python3.7/dist-packages (from imageio) (7.1.2)\n",
            "Requirement already satisfied: numpy in /usr/local/lib/python3.7/dist-packages (from imageio) (1.21.5)\n",
            "Requirement already satisfied: matplotlib in /usr/local/lib/python3.7/dist-packages (3.2.2)\n",
            "Requirement already satisfied: pyparsing!=2.0.4,!=2.1.2,!=2.1.6,>=2.0.1 in /usr/local/lib/python3.7/dist-packages (from matplotlib) (3.0.8)\n",
            "Requirement already satisfied: cycler>=0.10 in /usr/local/lib/python3.7/dist-packages (from matplotlib) (0.11.0)\n",
            "Requirement already satisfied: numpy>=1.11 in /usr/local/lib/python3.7/dist-packages (from matplotlib) (1.21.5)\n",
            "Requirement already satisfied: python-dateutil>=2.1 in /usr/local/lib/python3.7/dist-packages (from matplotlib) (2.8.2)\n",
            "Requirement already satisfied: kiwisolver>=1.0.1 in /usr/local/lib/python3.7/dist-packages (from matplotlib) (1.4.2)\n",
            "Requirement already satisfied: typing-extensions in /usr/local/lib/python3.7/dist-packages (from kiwisolver>=1.0.1->matplotlib) (4.1.1)\n",
            "Requirement already satisfied: six>=1.5 in /usr/local/lib/python3.7/dist-packages (from python-dateutil>=2.1->matplotlib) (1.15.0)\n",
            "/content/csc413/a4\n"
          ]
        }
      ]
    },
    {
      "cell_type": "markdown",
      "metadata": {
        "id": "9DaTdRNuUra7"
      },
      "source": [
        "# Helper code"
      ]
    },
    {
      "cell_type": "markdown",
      "metadata": {
        "id": "4BIpGwANoQOg"
      },
      "source": [
        "## Utility functions"
      ]
    },
    {
      "cell_type": "code",
      "metadata": {
        "id": "D-UJHBYZkh7f"
      },
      "source": [
        "import os\n",
        "\n",
        "import numpy as np\n",
        "import matplotlib.pyplot as plt\n",
        "\n",
        "import torch\n",
        "from torch import nn\n",
        "from torch.nn import Parameter\n",
        "import torch.nn.functional as F\n",
        "import torch.optim as optim\n",
        "from torch.autograd import Variable\n",
        "from torch.utils.data import DataLoader\n",
        "from torchvision import datasets\n",
        "from torchvision import transforms\n",
        "\n",
        "from six.moves.urllib.request import urlretrieve\n",
        "import tarfile\n",
        "\n",
        "import imageio\n",
        "from urllib.error import URLError\n",
        "from urllib.error import HTTPError\n",
        "\n",
        "\n",
        "def get_file(fname,\n",
        "             origin,\n",
        "             untar=False,\n",
        "             extract=False,\n",
        "             archive_format='auto',\n",
        "             cache_dir='data'):\n",
        "    datadir = os.path.join(cache_dir)\n",
        "    if not os.path.exists(datadir):\n",
        "        os.makedirs(datadir)\n",
        "\n",
        "    if untar:\n",
        "        untar_fpath = os.path.join(datadir, fname)\n",
        "        fpath = untar_fpath + '.tar.gz'\n",
        "    else:\n",
        "        fpath = os.path.join(datadir, fname)\n",
        "\n",
        "    print(fpath)\n",
        "    if not os.path.exists(fpath):\n",
        "        print('Downloading data from', origin)\n",
        "\n",
        "        error_msg = 'URL fetch failure on {}: {} -- {}'\n",
        "        try:\n",
        "            try:\n",
        "                urlretrieve(origin, fpath)\n",
        "            except URLError as e:\n",
        "                raise Exception(error_msg.format(origin, e.errno, e.reason))\n",
        "            except HTTPError as e:\n",
        "                raise Exception(error_msg.format(origin, e.code, e.msg))\n",
        "        except (Exception, KeyboardInterrupt) as e:\n",
        "            if os.path.exists(fpath):\n",
        "                os.remove(fpath)\n",
        "            raise\n",
        "\n",
        "    if untar:\n",
        "        if not os.path.exists(untar_fpath):\n",
        "            print('Extracting file.')\n",
        "            with tarfile.open(fpath) as archive:\n",
        "                archive.extractall(datadir)\n",
        "        return untar_fpath\n",
        "\n",
        "    return fpath\n",
        "\n",
        "\n",
        "class AttrDict(dict):\n",
        "    def __init__(self, *args, **kwargs):\n",
        "        super(AttrDict, self).__init__(*args, **kwargs)\n",
        "        self.__dict__ = self\n",
        "\n",
        "                \n",
        "def to_var(tensor, cuda=True):\n",
        "    \"\"\"Wraps a Tensor in a Variable, optionally placing it on the GPU.\n",
        "\n",
        "        Arguments:\n",
        "            tensor: A Tensor object.\n",
        "            cuda: A boolean flag indicating whether to use the GPU.\n",
        "\n",
        "        Returns:\n",
        "            A Variable object, on the GPU if cuda==True.\n",
        "    \"\"\"\n",
        "    if cuda:\n",
        "        return Variable(tensor.cuda())\n",
        "    else:\n",
        "        return Variable(tensor)\n",
        "\n",
        "    \n",
        "def to_data(x):\n",
        "    \"\"\"Converts variable to numpy.\"\"\"\n",
        "    if torch.cuda.is_available():\n",
        "        x = x.cpu()\n",
        "    return x.data.numpy()\n",
        "\n",
        "\n",
        "def create_dir(directory):\n",
        "    \"\"\"Creates a directory if it doesn't already exist.\n",
        "    \"\"\"\n",
        "    if not os.path.exists(directory):\n",
        "        os.makedirs(directory)\n",
        "\n",
        "\n",
        "def gan_checkpoint(iteration, G, D, opts):\n",
        "    \"\"\"Saves the parameters of the generator G and discriminator D.\n",
        "    \"\"\"\n",
        "    G_path = os.path.join(opts.checkpoint_dir, 'G.pkl')\n",
        "    D_path = os.path.join(opts.checkpoint_dir, 'D.pkl')\n",
        "    torch.save(G.state_dict(), G_path)\n",
        "    torch.save(D.state_dict(), D_path)\n",
        "\n",
        "def load_checkpoint(opts):\n",
        "    \"\"\"Loads the generator and discriminator models from checkpoints.\n",
        "    \"\"\"\n",
        "    G_path = os.path.join(opts.load, 'G.pkl')\n",
        "    D_path = os.path.join(opts.load, 'D_.pkl')\n",
        "\n",
        "    G = DCGenerator(noise_size=opts.noise_size, conv_dim=opts.g_conv_dim, spectral_norm=opts.spectral_norm)\n",
        "    D = DCDiscriminator(conv_dim=opts.d_conv_dim)\n",
        "\n",
        "    G.load_state_dict(torch.load(G_path, map_location=lambda storage, loc: storage))\n",
        "    D.load_state_dict(torch.load(D_path, map_location=lambda storage, loc: storage))\n",
        "\n",
        "    if torch.cuda.is_available():\n",
        "        G.cuda()\n",
        "        D.cuda()\n",
        "        print('Models moved to GPU.')\n",
        "\n",
        "    return G, D\n",
        "\n",
        "\n",
        "def merge_images(sources, targets, opts):\n",
        "    \"\"\"Creates a grid consisting of pairs of columns, where the first column in\n",
        "    each pair contains images source images and the second column in each pair\n",
        "    contains images generated by the CycleGAN from the corresponding images in\n",
        "    the first column.\n",
        "    \"\"\"\n",
        "    _, _, h, w = sources.shape\n",
        "    row = int(np.sqrt(opts.batch_size))\n",
        "    merged = np.zeros([3, row * h, row * w * 2])\n",
        "    for (idx, s, t) in (zip(range(row ** 2), sources, targets, )):\n",
        "        i = idx // row\n",
        "        j = idx % row\n",
        "        merged[:, i * h:(i + 1) * h, (j * 2) * h:(j * 2 + 1) * h] = s\n",
        "        merged[:, i * h:(i + 1) * h, (j * 2 + 1) * h:(j * 2 + 2) * h] = t\n",
        "    return merged.transpose(1, 2, 0)\n",
        "\n",
        "\n",
        "def generate_gif(directory_path, keyword=None):\n",
        "    images = []\n",
        "    for filename in sorted(os.listdir(directory_path)):\n",
        "        if filename.endswith(\".png\") and (keyword is None or keyword in filename):\n",
        "            img_path = os.path.join(directory_path, filename)\n",
        "            print(\"adding image {}\".format(img_path))\n",
        "            images.append(imageio.imread(img_path))\n",
        "\n",
        "    if keyword:\n",
        "        imageio.mimsave(\n",
        "            os.path.join(directory_path, 'anim_{}.gif'.format(keyword)), images)\n",
        "    else:\n",
        "        imageio.mimsave(os.path.join(directory_path, 'anim.gif'), images)\n",
        "\n",
        "\n",
        "def create_image_grid(array, ncols=None):\n",
        "    \"\"\"\n",
        "    \"\"\"\n",
        "    num_images, channels, cell_h, cell_w = array.shape\n",
        "    if not ncols:\n",
        "        ncols = int(np.sqrt(num_images))\n",
        "    nrows = int(np.math.floor(num_images / float(ncols)))\n",
        "    result = np.zeros((cell_h * nrows, cell_w * ncols, channels), dtype=array.dtype)\n",
        "    for i in range(0, nrows):\n",
        "        for j in range(0, ncols):\n",
        "            result[i * cell_h:(i + 1) * cell_h, j * cell_w:(j + 1) * cell_w, :] = array[i * ncols + j].transpose(1, 2,\n",
        "                                                                                                                 0)\n",
        "\n",
        "    if channels == 1:\n",
        "        result = result.squeeze()\n",
        "    return result\n",
        "\n",
        "\n",
        "def gan_save_samples(G, fixed_noise, iteration, opts):\n",
        "    generated_images = G(fixed_noise)\n",
        "    generated_images = to_data(generated_images)\n",
        "\n",
        "    grid = create_image_grid(generated_images)\n",
        "\n",
        "    # merged = merge_images(X, fake_Y, opts)\n",
        "    path = os.path.join(opts.sample_dir, 'sample-{:06d}.png'.format(iteration))\n",
        "    imageio.imwrite(path, grid)\n",
        "    print('Saved {}'.format(path))"
      ],
      "execution_count": 2,
      "outputs": []
    },
    {
      "cell_type": "markdown",
      "metadata": {
        "id": "pbvpn4MaV0I1"
      },
      "source": [
        "## Data loader"
      ]
    },
    {
      "cell_type": "code",
      "metadata": {
        "id": "XVT4TNTOV3Eg"
      },
      "source": [
        "def get_emoji_loader(emoji_type, opts):\n",
        "    \"\"\"Creates training and test data loaders.\n",
        "    \"\"\"\n",
        "    transform = transforms.Compose([\n",
        "                    transforms.Scale(opts.image_size),\n",
        "                    transforms.ToTensor(),\n",
        "                    transforms.Normalize((0.5, 0.5, 0.5), (0.5, 0.5, 0.5))\n",
        "                ])\n",
        "\n",
        "    train_path = os.path.join('data/emojis', emoji_type)\n",
        "    test_path = os.path.join('data/emojis', 'Test_{}'.format(emoji_type))\n",
        "\n",
        "    train_dataset = datasets.ImageFolder(train_path, transform)\n",
        "    test_dataset = datasets.ImageFolder(test_path, transform)\n",
        "\n",
        "    train_dloader = DataLoader(dataset=train_dataset, batch_size=opts.batch_size, shuffle=True, num_workers=opts.num_workers)\n",
        "    test_dloader = DataLoader(dataset=test_dataset, batch_size=opts.batch_size, shuffle=False, num_workers=opts.num_workers)\n",
        "\n",
        "    return train_dloader, test_dloader"
      ],
      "execution_count": 3,
      "outputs": []
    },
    {
      "cell_type": "markdown",
      "metadata": {
        "id": "bRWfRdmVVjUl"
      },
      "source": [
        "## Training and evaluation code"
      ]
    },
    {
      "cell_type": "code",
      "metadata": {
        "id": "nSIhQp41q_Nu"
      },
      "source": [
        "def print_models(G_XtoY, G_YtoX, D_X, D_Y):\n",
        "    \"\"\"Prints model information for the generators and discriminators.\n",
        "    \"\"\"\n",
        "    print(\"                 G                     \")\n",
        "    print(\"---------------------------------------\")\n",
        "    print(G_XtoY)\n",
        "    print(\"---------------------------------------\")\n",
        "\n",
        "    print(\"                  D                    \")\n",
        "    print(\"---------------------------------------\")\n",
        "    print(D_X)\n",
        "    print(\"---------------------------------------\")\n",
        "\n",
        "\n",
        "def create_model(opts):\n",
        "    \"\"\"Builds the generators and discriminators.\n",
        "    \"\"\"\n",
        "    ### GAN\n",
        "    G = DCGenerator(noise_size=opts.noise_size, conv_dim=opts.g_conv_dim, spectral_norm=opts.spectral_norm)\n",
        "    D = DCDiscriminator(conv_dim=opts.d_conv_dim, spectral_norm=opts.spectral_norm)\n",
        "\n",
        "    print_models(G, None, D, None)\n",
        "\n",
        "    if torch.cuda.is_available():\n",
        "        G.cuda()\n",
        "        D.cuda()\n",
        "        print('Models moved to GPU.')\n",
        "    return G, D\n",
        "\n",
        "def train(opts):\n",
        "    \"\"\"Loads the data, creates checkpoint and sample directories, and starts the training loop.\n",
        "    \"\"\"\n",
        "\n",
        "    # Create train and test dataloaders for images from the two domains X and Y\n",
        "    dataloader_X, test_dataloader_X = get_emoji_loader(emoji_type=opts.X, opts=opts)\n",
        "    \n",
        "    # Create checkpoint and sample directories\n",
        "    create_dir(opts.checkpoint_dir)\n",
        "    create_dir(opts.sample_dir)\n",
        "\n",
        "    # Start training\n",
        "    if opts.least_squares_gan:\n",
        "        G, D = gan_training_loop_leastsquares(dataloader_X, test_dataloader_X, opts)\n",
        "    else:\n",
        "        G, D = gan_training_loop_regular(dataloader_X, test_dataloader_X, opts)\n",
        "        \n",
        "    return G, D\n",
        "\n",
        "def print_opts(opts):\n",
        "    \"\"\"Prints the values of all command-line arguments.\n",
        "    \"\"\"\n",
        "    print('=' * 80)\n",
        "    print('Opts'.center(80))\n",
        "    print('-' * 80)\n",
        "    for key in opts.__dict__:\n",
        "        if opts.__dict__[key]:\n",
        "            print('{:>30}: {:<30}'.format(key, opts.__dict__[key]).center(80))\n",
        "    print('=' * 80)\n"
      ],
      "execution_count": 4,
      "outputs": []
    },
    {
      "cell_type": "markdown",
      "metadata": {
        "id": "bXNsLNkOn38w"
      },
      "source": [
        "# Your code for generators and discriminators"
      ]
    },
    {
      "cell_type": "markdown",
      "metadata": {
        "id": "u0KxX0sDpXKb"
      },
      "source": [
        "## Helper modules"
      ]
    },
    {
      "cell_type": "code",
      "metadata": {
        "id": "y7s0etAmpUgT"
      },
      "source": [
        "def sample_noise(batch_size, dim):\n",
        "    \"\"\"\n",
        "    Generate a PyTorch Tensor of uniform random noise.\n",
        "\n",
        "    Input:\n",
        "    - batch_size: Integer giving the batch size of noise to generate.\n",
        "    - dim: Integer giving the dimension of noise to generate.\n",
        "\n",
        "    Output:\n",
        "    - A PyTorch Tensor of shape (batch_size, dim, 1, 1) containing uniform\n",
        "      random noise in the range (-1, 1).\n",
        "    \"\"\"\n",
        "    return to_var(torch.rand(batch_size, dim) * 2 - 1).unsqueeze(2).unsqueeze(3)\n",
        "  \n",
        "\n",
        "def upconv(in_channels, out_channels, kernel_size, stride=2, padding=2, batch_norm=True, spectral_norm=False):\n",
        "    \"\"\"Creates a upsample-and-convolution layer, with optional batch normalization.\n",
        "    \"\"\"\n",
        "    layers = []\n",
        "    if stride>1:\n",
        "        layers.append(nn.Upsample(scale_factor=stride))\n",
        "    conv_layer = nn.Conv2d(in_channels=in_channels, out_channels=out_channels, kernel_size=kernel_size, stride=1, padding=padding, bias=False)\n",
        "    if spectral_norm:\n",
        "        layers.append(SpectralNorm(conv_layer))\n",
        "    else:\n",
        "        layers.append(conv_layer)\n",
        "    if batch_norm:\n",
        "        layers.append(nn.BatchNorm2d(out_channels))\n",
        "    return nn.Sequential(*layers)\n",
        "\n",
        "\n",
        "def conv(in_channels, out_channels, kernel_size, stride=2, padding=2, batch_norm=True, init_zero_weights=False, spectral_norm=False):\n",
        "    \"\"\"Creates a convolutional layer, with optional batch normalization.\n",
        "    \"\"\"\n",
        "    layers = []\n",
        "    conv_layer = nn.Conv2d(in_channels=in_channels, out_channels=out_channels, kernel_size=kernel_size, stride=stride, padding=padding, bias=False)\n",
        "    if init_zero_weights:\n",
        "        conv_layer.weight.data = torch.randn(out_channels, in_channels, kernel_size, kernel_size) * 0.001\n",
        "            \n",
        "    if spectral_norm:\n",
        "        layers.append(SpectralNorm(conv_layer))\n",
        "    else:\n",
        "        layers.append(conv_layer)\n",
        "\n",
        "    if batch_norm:\n",
        "        layers.append(nn.BatchNorm2d(out_channels))\n",
        "    return nn.Sequential(*layers)\n",
        "  \n",
        "\n",
        "class ResnetBlock(nn.Module):\n",
        "    def __init__(self, conv_dim):\n",
        "        super(ResnetBlock, self).__init__()\n",
        "        self.conv_layer = conv(in_channels=conv_dim, out_channels=conv_dim, kernel_size=3, stride=1, padding=1)\n",
        "\n",
        "    def forward(self, x):\n",
        "        out = x + self.conv_layer(x)\n",
        "        return out"
      ],
      "execution_count": 5,
      "outputs": []
    },
    {
      "cell_type": "markdown",
      "metadata": {
        "id": "S0_YbBwe5k35"
      },
      "source": [
        "## DCGAN"
      ]
    },
    {
      "cell_type": "markdown",
      "metadata": {
        "id": "m1E_jDaBLT1P"
      },
      "source": [
        "### Spectral Norm class"
      ]
    },
    {
      "cell_type": "code",
      "metadata": {
        "id": "2hy97i1-LT1Q"
      },
      "source": [
        "def l2normalize(v, eps=1e-12):\n",
        "    return v / (v.norm() + eps)\n",
        "\n",
        "\n",
        "class SpectralNorm(nn.Module):\n",
        "    def __init__(self, module, name='weight', power_iterations=1):\n",
        "        super(SpectralNorm, self).__init__()\n",
        "        self.module = module\n",
        "        self.name = name\n",
        "        self.power_iterations = power_iterations\n",
        "        if not self._made_params():\n",
        "            self._make_params()\n",
        "\n",
        "    def _update_u_v(self):\n",
        "        u = getattr(self.module, self.name + \"_u\")\n",
        "        v = getattr(self.module, self.name + \"_v\")\n",
        "        w = getattr(self.module, self.name + \"_bar\")\n",
        "\n",
        "        height = w.data.shape[0]\n",
        "        for _ in range(self.power_iterations):\n",
        "            v.data = l2normalize(torch.mv(torch.t(w.view(height,-1).data), u.data))\n",
        "            u.data = l2normalize(torch.mv(w.view(height,-1).data, v.data))\n",
        "\n",
        "        # sigma = torch.dot(u.data, torch.mv(w.view(height,-1).data, v.data))\n",
        "        sigma = u.dot(w.view(height, -1).mv(v))\n",
        "        setattr(self.module, self.name, w / sigma.expand_as(w))\n",
        "\n",
        "    def _made_params(self):\n",
        "        try:\n",
        "            u = getattr(self.module, self.name + \"_u\")\n",
        "            v = getattr(self.module, self.name + \"_v\")\n",
        "            w = getattr(self.module, self.name + \"_bar\")\n",
        "            return True\n",
        "        except AttributeError:\n",
        "            return False\n",
        "\n",
        "    def _make_params(self):\n",
        "        w = getattr(self.module, self.name)\n",
        "\n",
        "        height = w.data.shape[0]\n",
        "        width = w.view(height, -1).data.shape[1]\n",
        "\n",
        "        u = Parameter(w.data.new(height).normal_(0, 1), requires_grad=False)\n",
        "        v = Parameter(w.data.new(width).normal_(0, 1), requires_grad=False)\n",
        "        u.data = l2normalize(u.data)\n",
        "        v.data = l2normalize(v.data)\n",
        "        w_bar = Parameter(w.data)\n",
        "\n",
        "        del self.module._parameters[self.name]\n",
        "\n",
        "        self.module.register_parameter(self.name + \"_u\", u)\n",
        "        self.module.register_parameter(self.name + \"_v\", v)\n",
        "        self.module.register_parameter(self.name + \"_bar\", w_bar)\n",
        "\n",
        "    def forward(self, *args):\n",
        "        self._update_u_v()\n",
        "        return self.module.forward(*args)"
      ],
      "execution_count": 6,
      "outputs": []
    },
    {
      "cell_type": "markdown",
      "metadata": {
        "id": "_BAfi_8yWB3y"
      },
      "source": [
        "### **[Your Task]** GAN generator"
      ]
    },
    {
      "cell_type": "code",
      "metadata": {
        "id": "9ztmyA5Ro67o"
      },
      "source": [
        "class DCGenerator(nn.Module):\n",
        "    def __init__(self, noise_size, conv_dim, spectral_norm=False):\n",
        "        super(DCGenerator, self).__init__()\n",
        "\n",
        "        self.conv_dim = conv_dim\n",
        "        ###########################################\n",
        "        ##   FILL THIS IN: CREATE ARCHITECTURE   ##\n",
        "        ###########################################\n",
        "\n",
        "        self.linear_bn = upconv(noise_size, 4*4*4*conv_dim, kernel_size=1, stride=1, padding=0, spectral_norm=spectral_norm)\n",
        "        self.upconv1 = upconv(4*conv_dim, 2*conv_dim, kernel_size=5, stride=2, padding=2, spectral_norm=spectral_norm)\n",
        "        self.upconv2 = upconv(2*conv_dim, conv_dim, kernel_size=5, stride=2, padding=2, spectral_norm=spectral_norm) \n",
        "        self.upconv3 = upconv(conv_dim, 3, kernel_size=5, stride=2, padding=2, batch_norm=False, spectral_norm=spectral_norm)\n",
        "\n",
        "    def forward(self, z):\n",
        "        \"\"\"Generates an image given a sample of random noise.\n",
        "\n",
        "            Input\n",
        "            -----\n",
        "                z: BS x noise_size x 1 x 1   -->  BSx100x1x1 (during training)\n",
        "\n",
        "            Output\n",
        "            ------\n",
        "                out: BS x channels x image_width x image_height  -->  BSx3x32x32 (during training)\n",
        "        \"\"\"\n",
        "        batch_size = z.size(0)\n",
        "        \n",
        "        out = F.relu(self.linear_bn(z)).view(-1, self.conv_dim*4, 4, 4)    # BS x 128 x 4 x 4\n",
        "        out = F.relu(self.upconv1(out))  # BS x 64 x 8 x 8\n",
        "        out = F.relu(self.upconv2(out))  # BS x 32 x 16 x 16\n",
        "        out = F.tanh(self.upconv3(out))  # BS x 3 x 32 x 32\n",
        "        \n",
        "        out_size = out.size()\n",
        "        if out_size != torch.Size([batch_size, 3, 32, 32]):\n",
        "            raise ValueError(\"expect {} x 3 x 32 x 32, but get {}\".format(batch_size, out_size))\n",
        "        return out\n"
      ],
      "execution_count": 7,
      "outputs": []
    },
    {
      "cell_type": "markdown",
      "metadata": {
        "id": "cG4uqAVPp8_B"
      },
      "source": [
        "### GAN discriminator"
      ]
    },
    {
      "cell_type": "code",
      "metadata": {
        "id": "0GkjXydnqARR"
      },
      "source": [
        "class DCDiscriminator(nn.Module):\n",
        "    \"\"\"Defines the architecture of the discriminator network.\n",
        "       Note: Both discriminators D_X and D_Y have the same architecture in this assignment.\n",
        "    \"\"\"\n",
        "    def __init__(self, conv_dim=64, spectral_norm=False):\n",
        "        super(DCDiscriminator, self).__init__()\n",
        "\n",
        "\n",
        "        self.conv1 = conv(in_channels=3, out_channels=conv_dim, kernel_size=5, stride=2, spectral_norm=spectral_norm)\n",
        "        self.conv2 = conv(in_channels=conv_dim, out_channels=conv_dim*2, kernel_size=5, stride=2, spectral_norm=spectral_norm)\n",
        "        self.conv3 = conv(in_channels=conv_dim*2, out_channels=conv_dim*4, kernel_size=5, stride=2, spectral_norm=spectral_norm)\n",
        "        self.conv4 = conv(in_channels=conv_dim*4, out_channels=1, kernel_size=5, stride=2, padding=1, batch_norm=False, spectral_norm=spectral_norm)\n",
        "\n",
        "    def forward(self, x):\n",
        "        batch_size = x.size(0)\n",
        "\n",
        "        out = F.relu(self.conv1(x))    # BS x 64 x 16 x 16\n",
        "        out = F.relu(self.conv2(out))    # BS x 64 x 8 x 8\n",
        "        out = F.relu(self.conv3(out))    # BS x 64 x 4 x 4\n",
        "\n",
        "        out = self.conv4(out).squeeze()\n",
        "        out_size = out.size()\n",
        "        if out_size != torch.Size([batch_size,]):\n",
        "            raise ValueError(\"expect {} x 1, but get {}\".format(batch_size, out_size))\n",
        "        return out"
      ],
      "execution_count": 8,
      "outputs": []
    },
    {
      "cell_type": "markdown",
      "metadata": {
        "id": "G8RtBMu55ysm"
      },
      "source": [
        "### **[Your Task]** GAN training loop \n",
        "\n",
        "\n",
        "*   Regular GAN\n",
        "*   Least Squares GAN\n",
        "\n"
      ]
    },
    {
      "cell_type": "code",
      "metadata": {
        "id": "MxIJ2Zua51KI"
      },
      "source": [
        "def gan_training_loop_regular(dataloader, test_dataloader, opts):\n",
        "    \"\"\"Runs the training loop.\n",
        "        * Saves checkpoint every opts.checkpoint_every iterations\n",
        "        * Saves generated samples every opts.sample_every iterations\n",
        "    \"\"\"\n",
        "\n",
        "    # Create generators and discriminators\n",
        "    G, D = create_model(opts)\n",
        "\n",
        "    g_params = G.parameters()  # Get generator parameters\n",
        "    d_params = D.parameters()  # Get discriminator parameters\n",
        "\n",
        "    # Create optimizers for the generators and discriminators\n",
        "    g_optimizer = optim.Adam(g_params, opts.lr, [opts.beta1, opts.beta2])\n",
        "    d_optimizer = optim.Adam(d_params, opts.lr * 2., [opts.beta1, opts.beta2])\n",
        "\n",
        "    train_iter = iter(dataloader)\n",
        "\n",
        "    test_iter = iter(test_dataloader)\n",
        "\n",
        "    # Get some fixed data from domains X and Y for sampling. These are images that are held\n",
        "    # constant throughout training, that allow us to inspect the model's performance.\n",
        "    fixed_noise = sample_noise(100, opts.noise_size)  # # 100 x noise_size x 1 x 1\n",
        "\n",
        "    iter_per_epoch = len(train_iter)\n",
        "    total_train_iters = opts.train_iters\n",
        "\n",
        "    losses = {\"iteration\": [], \"D_fake_loss\": [], \"D_real_loss\": [], \"G_loss\": []}\n",
        "    \n",
        "    gp_weight = 1\n",
        "\n",
        "    adversarial_loss = torch.nn.BCEWithLogitsLoss() # Use this loss\n",
        "\n",
        "    try:\n",
        "        for iteration in range(1, opts.train_iters + 1):\n",
        "\n",
        "            # Reset data_iter for each epoch\n",
        "            if iteration % iter_per_epoch == 0:\n",
        "                train_iter = iter(dataloader)\n",
        "\n",
        "            real_images, real_labels = train_iter.next()\n",
        "            real_images, real_labels = to_var(real_images), to_var(real_labels).long().squeeze()\n",
        "            \n",
        "            ones = Variable(torch.Tensor(real_images.shape[0]).float().cuda().fill_(1.0), requires_grad=False)\n",
        "            zeros = Variable(torch.Tensor(real_images.shape[0]).float().cuda().fill_(0.0), requires_grad=False)\n",
        "\n",
        "            for d_i in range(opts.d_train_iters):\n",
        "                d_optimizer.zero_grad()\n",
        "\n",
        "                # FILL THIS IN\n",
        "                # 1. Compute the discriminator loss on real images\n",
        "                D_real_loss = adversarial_loss(D(real_images), ones)\n",
        "\n",
        "                # 2. Sample noise\n",
        "                noise = sample_noise(real_images.shape[0], opts.noise_size) \n",
        "\n",
        "                # 3. Generate fake images from the noise\n",
        "                fake_images = G(noise)    \n",
        "\n",
        "                # 4. Compute the discriminator loss on the fake images\n",
        "                D_fake_loss = adversarial_loss(D(fake_images), zeros)\n",
        "\n",
        "                # ---- Gradient Penalty ----\n",
        "                if opts.gradient_penalty:\n",
        "                    alpha = torch.rand(real_images.shape[0], 1, 1, 1)\n",
        "                    alpha = alpha.expand_as(real_images).cuda()\n",
        "                    interp_images = Variable(alpha * real_images.data + (1 - alpha) * fake_images.data, requires_grad=True).cuda()\n",
        "                    D_interp_output = D(interp_images)\n",
        "\n",
        "                    gradients = torch.autograd.grad(outputs=D_interp_output, inputs=interp_images,\n",
        "                                                    grad_outputs=torch.ones(D_interp_output.size()).cuda(),\n",
        "                                                    create_graph=True, retain_graph=True)[0]\n",
        "                    gradients = gradients.view(real_images.shape[0], -1)\n",
        "                    gradients_norm = torch.sqrt(torch.sum(gradients ** 2, dim=1) + 1e-12)\n",
        "\n",
        "                    gp = gp_weight * gradients_norm.mean()\n",
        "                else:\n",
        "                    gp = 0.0\n",
        "\n",
        "                # --------------------------\n",
        "                # 5. Compute the total discriminator loss\n",
        "                D_total_loss = D_real_loss + D_fake_loss + gp\n",
        "\n",
        "                D_total_loss.backward()\n",
        "                d_optimizer.step()\n",
        "\n",
        "            ###########################################\n",
        "            ###          TRAIN THE GENERATOR        ###\n",
        "            ###########################################\n",
        "\n",
        "            g_optimizer.zero_grad()\n",
        "\n",
        "            # FILL THIS IN\n",
        "            # 1. Sample noise\n",
        "            noise = sample_noise(real_images.shape[0], opts.noise_size)\n",
        "\n",
        "            # 2. Generate fake images from the noise\n",
        "            fake_images = G(noise)\n",
        "\n",
        "            # 3. Compute the generator loss\n",
        "            G_loss = adversarial_loss(D(fake_images), ones)\n",
        "            \n",
        "            G_loss.backward()\n",
        "            g_optimizer.step()\n",
        "\n",
        "            # Print the log info\n",
        "            if iteration % opts.log_step == 0:\n",
        "                losses['iteration'].append(iteration)\n",
        "                losses['D_real_loss'].append(D_real_loss.item())\n",
        "                losses['D_fake_loss'].append(D_fake_loss.item())\n",
        "                losses['G_loss'].append(G_loss.item())\n",
        "                print('Iteration [{:4d}/{:4d}] | D_real_loss: {:6.4f} | D_fake_loss: {:6.4f} | G_loss: {:6.4f}'.format(\n",
        "                    iteration, total_train_iters, D_real_loss.item(), D_fake_loss.item(), G_loss.item()))\n",
        "\n",
        "            # Save the generated samples\n",
        "            if iteration % opts.sample_every == 0:\n",
        "                gan_save_samples(G, fixed_noise, iteration, opts)\n",
        "\n",
        "            # Save the model parameters\n",
        "            if iteration % opts.checkpoint_every == 0:\n",
        "                gan_checkpoint(iteration, G, D, opts)\n",
        "\n",
        "    except KeyboardInterrupt:\n",
        "        print('Exiting early from training.')\n",
        "        return G, D\n",
        "\n",
        "    plt.figure()\n",
        "    plt.plot(losses['iteration'], losses['D_real_loss'], label='D_real')\n",
        "    plt.plot(losses['iteration'], losses['D_fake_loss'], label='D_fake')\n",
        "    plt.plot(losses['iteration'], losses['G_loss'], label='G')\n",
        "    plt.legend()\n",
        "    plt.savefig(os.path.join(opts.sample_dir, 'losses.png'))\n",
        "    plt.close()\n",
        "    return G, D"
      ],
      "execution_count": 9,
      "outputs": []
    },
    {
      "cell_type": "code",
      "source": [
        "def gan_training_loop_leastsquares(dataloader, test_dataloader, opts):\n",
        "    \"\"\"Runs the training loop.\n",
        "        * Saves checkpoint every opts.checkpoint_every iterations\n",
        "        * Saves generated samples every opts.sample_every iterations\n",
        "    \"\"\"\n",
        "\n",
        "    # Create generators and discriminators\n",
        "    G, D = create_model(opts)\n",
        "\n",
        "    g_params = G.parameters()  # Get generator parameters\n",
        "    d_params = D.parameters()  # Get discriminator parameters\n",
        "\n",
        "    # Create optimizers for the generators and discriminators\n",
        "    g_optimizer = optim.Adam(g_params, opts.lr, [opts.beta1, opts.beta2])\n",
        "    d_optimizer = optim.Adam(d_params, opts.lr * 2., [opts.beta1, opts.beta2])\n",
        "\n",
        "    train_iter = iter(dataloader)\n",
        "\n",
        "    test_iter = iter(test_dataloader)\n",
        "\n",
        "    # Get some fixed data from domains X and Y for sampling. These are images that are held\n",
        "    # constant throughout training, that allow us to inspect the model's performance.\n",
        "    fixed_noise = sample_noise(100, opts.noise_size)  # # 100 x noise_size x 1 x 1\n",
        "\n",
        "    iter_per_epoch = len(train_iter)\n",
        "    total_train_iters = opts.train_iters\n",
        "\n",
        "    losses = {\"iteration\": [], \"D_fake_loss\": [], \"D_real_loss\": [], \"G_loss\": []}\n",
        "\n",
        "    #adversarial_loss = torch.nn.BCEWithLogitsLoss()\n",
        "    gp_weight = 1\n",
        "\n",
        "    try:\n",
        "        for iteration in range(1, opts.train_iters + 1):\n",
        "\n",
        "            # Reset data_iter for each epoch\n",
        "            if iteration % iter_per_epoch == 0:\n",
        "                train_iter = iter(dataloader)\n",
        "\n",
        "            real_images, real_labels = train_iter.next()\n",
        "            real_images, real_labels = to_var(real_images), to_var(real_labels).long().squeeze()\n",
        "\n",
        "\n",
        "            for d_i in range(opts.d_train_iters):\n",
        "                d_optimizer.zero_grad()\n",
        "\n",
        "                # FILL THIS IN\n",
        "                # 1. Compute the discriminator loss on real images\n",
        "                D_real_loss = torch.mean((D(real_images) - 1) ** 2)\n",
        "\n",
        "                # 2. Sample noise\n",
        "                noise = sample_noise(real_images.shape[0], opts.noise_size) \n",
        "\n",
        "                # 3. Generate fake images from the noise\n",
        "                fake_images = G(noise)   \n",
        "\n",
        "                # 4. Compute the discriminator loss on the fake images\n",
        "                D_fake_loss = torch.mean(D(fake_images) ** 2) \n",
        "\n",
        "                # ---- Gradient Penalty ----\n",
        "                if opts.gradient_penalty:\n",
        "                    alpha = torch.rand(real_images.shape[0], 1, 1, 1)\n",
        "                    alpha = alpha.expand_as(real_images).cuda()\n",
        "                    interp_images = Variable(alpha * real_images.data + (1 - alpha) * fake_images.data, requires_grad=True).cuda()\n",
        "                    D_interp_output = D(interp_images)\n",
        "\n",
        "                    gradients = torch.autograd.grad(outputs=D_interp_output, inputs=interp_images,\n",
        "                                                    grad_outputs=torch.ones(D_interp_output.size()).cuda(),\n",
        "                                                    create_graph=True, retain_graph=True)[0]\n",
        "                    gradients = gradients.view(real_images.shape[0], -1)\n",
        "                    gradients_norm = torch.sqrt(torch.sum(gradients ** 2, dim=1) + 1e-12)\n",
        "\n",
        "                    gp = gp_weight * gradients_norm.mean()\n",
        "                else:\n",
        "                    gp = 0.0\n",
        "\n",
        "                # --------------------------\n",
        "                # 5. Compute the total discriminator loss\n",
        "                D_total_loss = (D_real_loss + D_fake_loss + gp) / 2\n",
        "                D_total_loss.backward()\n",
        "                d_optimizer.step()\n",
        "\n",
        "            ###########################################\n",
        "            ###          TRAIN THE GENERATOR        ###\n",
        "            ###########################################\n",
        "\n",
        "            g_optimizer.zero_grad()\n",
        "\n",
        "            # FILL THIS IN\n",
        "            # 1. Sample noise\n",
        "            noise = sample_noise(opts.batch_size, opts.noise_size)\n",
        "\n",
        "            # 2. Generate fake images from the noise\n",
        "            fake_images = G(noise) \n",
        "            # 3. Compute the generator loss\n",
        "            G_loss = torch.mean((D(fake_images) - 1) ** 2) \n",
        "            \n",
        "            G_loss.backward()\n",
        "            g_optimizer.step()\n",
        "\n",
        "            # Print the log info\n",
        "            if iteration % opts.log_step == 0:\n",
        "                losses['iteration'].append(iteration)\n",
        "                losses['D_real_loss'].append(D_real_loss.item())\n",
        "                losses['D_fake_loss'].append(D_fake_loss.item())\n",
        "                losses['G_loss'].append(G_loss.item())\n",
        "                print('Iteration [{:4d}/{:4d}] | D_real_loss: {:6.4f} | D_fake_loss: {:6.4f} | G_loss: {:6.4f}'.format(\n",
        "                    iteration, total_train_iters, D_real_loss.item(), D_fake_loss.item(), G_loss.item()))\n",
        "\n",
        "            # Save the generated samples\n",
        "            if iteration % opts.sample_every == 0:\n",
        "                gan_save_samples(G, fixed_noise, iteration, opts)\n",
        "\n",
        "            # Save the model parameters\n",
        "            if iteration % opts.checkpoint_every == 0:\n",
        "                gan_checkpoint(iteration, G, D, opts)\n",
        "\n",
        "    except KeyboardInterrupt:\n",
        "        print('Exiting early from training.')\n",
        "        return G, D\n",
        "\n",
        "    plt.figure()\n",
        "    plt.plot(losses['iteration'], losses['D_real_loss'], label='D_real')\n",
        "    plt.plot(losses['iteration'], losses['D_fake_loss'], label='D_fake')\n",
        "    plt.plot(losses['iteration'], losses['G_loss'], label='G')\n",
        "    plt.legend()\n",
        "    plt.savefig(os.path.join(opts.sample_dir, 'losses.png'))\n",
        "    plt.close()\n",
        "    return G, D"
      ],
      "metadata": {
        "id": "cCla1-2mezfn"
      },
      "execution_count": 10,
      "outputs": []
    },
    {
      "cell_type": "markdown",
      "metadata": {
        "id": "XuNFd6LNo0-o"
      },
      "source": [
        "# **[Your Task]** Training\n"
      ]
    },
    {
      "cell_type": "markdown",
      "metadata": {
        "id": "kiUwiOITHTW4"
      },
      "source": [
        "## Download dataset"
      ]
    },
    {
      "cell_type": "code",
      "metadata": {
        "id": "xwcFjsEpHRbI",
        "colab": {
          "base_uri": "https://localhost:8080/"
        },
        "outputId": "8cbf6f87-05b0-4aa4-a9cc-f0d578561faa"
      },
      "source": [
        "######################################################################\n",
        "# Download Translation datasets\n",
        "######################################################################\n",
        "data_fpath = get_file(fname='emojis', \n",
        "                         origin='http://www.cs.toronto.edu/~jba/emojis.tar.gz', \n",
        "                         untar=True)"
      ],
      "execution_count": 11,
      "outputs": [
        {
          "output_type": "stream",
          "name": "stdout",
          "text": [
            "data/emojis.tar.gz\n",
            "Downloading data from http://www.cs.toronto.edu/~jba/emojis.tar.gz\n",
            "Extracting file.\n"
          ]
        }
      ]
    },
    {
      "cell_type": "markdown",
      "metadata": {
        "id": "hmQmyJDSRFKR"
      },
      "source": [
        "## Train DCGAN"
      ]
    },
    {
      "cell_type": "code",
      "metadata": {
        "id": "0LKaRF1jwhH7",
        "scrolled": true,
        "colab": {
          "base_uri": "https://localhost:8080/"
        },
        "outputId": "5e8b4717-f0aa-4603-8ba7-fca0f41217c0"
      },
      "source": [
        "SEED = 11\n",
        "\n",
        "# Set the random seed manually for reproducibility.\n",
        "np.random.seed(SEED)\n",
        "torch.manual_seed(SEED)\n",
        "if torch.cuda.is_available():\n",
        "    torch.cuda.manual_seed(SEED)\n",
        "\n",
        "\n",
        "args = AttrDict()\n",
        "args_dict = {\n",
        "              'image_size':32, \n",
        "              'g_conv_dim':32, \n",
        "              'd_conv_dim':64,\n",
        "              'noise_size':100,\n",
        "              'num_workers': 0,\n",
        "              'train_iters':20000,\n",
        "              'X':'Windows',  # options: 'Windows' / 'Apple'\n",
        "              'Y': None,\n",
        "              'lr':0.00003,\n",
        "              'beta1':0.5,\n",
        "              'beta2':0.999,\n",
        "              'batch_size':32, \n",
        "              'checkpoint_dir': 'results/checkpoints_gan_gp1_lr3e-5',\n",
        "              'sample_dir': 'results/samples_gan_gp1_lr3e-5',\n",
        "              'load': None,\n",
        "              'log_step':200,\n",
        "              'sample_every':200,\n",
        "              'checkpoint_every':1000,\n",
        "              'spectral_norm': False,\n",
        "              'gradient_penalty': True,\n",
        "              'least_squares_gan': True,\n",
        "              'd_train_iters': 1\n",
        "}\n",
        "args.update(args_dict)\n",
        "\n",
        "print_opts(args)\n",
        "G, D = train(args)\n",
        "\n",
        "generate_gif(\"results/samples_gan_gp1_lr3e-5\")"
      ],
      "execution_count": 12,
      "outputs": [
        {
          "output_type": "stream",
          "name": "stdout",
          "text": [
            "================================================================================\n",
            "                                      Opts                                      \n",
            "--------------------------------------------------------------------------------\n",
            "                             image_size: 32                                     \n",
            "                             g_conv_dim: 32                                     \n",
            "                             d_conv_dim: 64                                     \n",
            "                             noise_size: 100                                    \n",
            "                            train_iters: 20000                                  \n",
            "                                      X: Windows                                \n",
            "                                     lr: 3e-05                                  \n",
            "                                  beta1: 0.5                                    \n",
            "                                  beta2: 0.999                                  \n",
            "                             batch_size: 32                                     \n",
            "                       checkpoint_dir: results/checkpoints_gan_gp1_lr3e-5       \n",
            "                             sample_dir: results/samples_gan_gp1_lr3e-5         \n",
            "                               log_step: 200                                    \n",
            "                           sample_every: 200                                    \n",
            "                       checkpoint_every: 1000                                   \n",
            "                       gradient_penalty: 1                                      \n",
            "                      least_squares_gan: 1                                      \n",
            "                          d_train_iters: 1                                      \n",
            "================================================================================\n",
            "                 G                     \n",
            "---------------------------------------\n",
            "DCGenerator(\n",
            "  (linear_bn): Sequential(\n",
            "    (0): Conv2d(100, 2048, kernel_size=(1, 1), stride=(1, 1), bias=False)\n",
            "    (1): BatchNorm2d(2048, eps=1e-05, momentum=0.1, affine=True, track_running_stats=True)\n",
            "  )\n",
            "  (upconv1): Sequential(\n",
            "    (0): Upsample(scale_factor=2.0, mode=nearest)\n",
            "    (1): Conv2d(128, 64, kernel_size=(5, 5), stride=(1, 1), padding=(2, 2), bias=False)\n",
            "    (2): BatchNorm2d(64, eps=1e-05, momentum=0.1, affine=True, track_running_stats=True)\n",
            "  )\n",
            "  (upconv2): Sequential(\n",
            "    (0): Upsample(scale_factor=2.0, mode=nearest)\n",
            "    (1): Conv2d(64, 32, kernel_size=(5, 5), stride=(1, 1), padding=(2, 2), bias=False)\n",
            "    (2): BatchNorm2d(32, eps=1e-05, momentum=0.1, affine=True, track_running_stats=True)\n",
            "  )\n",
            "  (upconv3): Sequential(\n",
            "    (0): Upsample(scale_factor=2.0, mode=nearest)\n",
            "    (1): Conv2d(32, 3, kernel_size=(5, 5), stride=(1, 1), padding=(2, 2), bias=False)\n",
            "  )\n",
            ")\n",
            "---------------------------------------\n",
            "                  D                    \n",
            "---------------------------------------\n",
            "DCDiscriminator(\n",
            "  (conv1): Sequential(\n",
            "    (0): Conv2d(3, 64, kernel_size=(5, 5), stride=(2, 2), padding=(2, 2), bias=False)\n",
            "    (1): BatchNorm2d(64, eps=1e-05, momentum=0.1, affine=True, track_running_stats=True)\n",
            "  )\n",
            "  (conv2): Sequential(\n",
            "    (0): Conv2d(64, 128, kernel_size=(5, 5), stride=(2, 2), padding=(2, 2), bias=False)\n",
            "    (1): BatchNorm2d(128, eps=1e-05, momentum=0.1, affine=True, track_running_stats=True)\n",
            "  )\n",
            "  (conv3): Sequential(\n",
            "    (0): Conv2d(128, 256, kernel_size=(5, 5), stride=(2, 2), padding=(2, 2), bias=False)\n",
            "    (1): BatchNorm2d(256, eps=1e-05, momentum=0.1, affine=True, track_running_stats=True)\n",
            "  )\n",
            "  (conv4): Sequential(\n",
            "    (0): Conv2d(256, 1, kernel_size=(5, 5), stride=(2, 2), padding=(1, 1), bias=False)\n",
            "  )\n",
            ")\n",
            "---------------------------------------\n"
          ]
        },
        {
          "output_type": "stream",
          "name": "stderr",
          "text": [
            "/usr/local/lib/python3.7/dist-packages/torchvision/transforms/transforms.py:317: UserWarning: The use of the transforms.Scale transform is deprecated, please use transforms.Resize instead.\n",
            "  warnings.warn(\"The use of the transforms.Scale transform is deprecated, \" +\n"
          ]
        },
        {
          "output_type": "stream",
          "name": "stdout",
          "text": [
            "Models moved to GPU.\n"
          ]
        },
        {
          "output_type": "stream",
          "name": "stderr",
          "text": [
            "/usr/local/lib/python3.7/dist-packages/PIL/Image.py:960: UserWarning: Palette images with Transparency expressed in bytes should be converted to RGBA images\n",
            "  \"Palette images with Transparency expressed in bytes should be \"\n",
            "/usr/local/lib/python3.7/dist-packages/torch/nn/functional.py:1795: UserWarning: nn.functional.tanh is deprecated. Use torch.tanh instead.\n",
            "  warnings.warn(\"nn.functional.tanh is deprecated. Use torch.tanh instead.\")\n",
            "WARNING:root:Lossy conversion from float32 to uint8. Range [-0.975042998790741, 0.9984283447265625]. Convert image to uint8 prior to saving to suppress this warning.\n"
          ]
        },
        {
          "output_type": "stream",
          "name": "stdout",
          "text": [
            "Iteration [ 200/20000] | D_real_loss: 0.0163 | D_fake_loss: 0.0599 | G_loss: 0.7127\n",
            "Saved results/samples_gan_gp1_lr3e-5/sample-000200.png\n"
          ]
        },
        {
          "output_type": "stream",
          "name": "stderr",
          "text": [
            "WARNING:root:Lossy conversion from float32 to uint8. Range [-0.9326841235160828, 0.9957078099250793]. Convert image to uint8 prior to saving to suppress this warning.\n"
          ]
        },
        {
          "output_type": "stream",
          "name": "stdout",
          "text": [
            "Iteration [ 400/20000] | D_real_loss: 0.0176 | D_fake_loss: 0.0403 | G_loss: 0.8739\n",
            "Saved results/samples_gan_gp1_lr3e-5/sample-000400.png\n"
          ]
        },
        {
          "output_type": "stream",
          "name": "stderr",
          "text": [
            "WARNING:root:Lossy conversion from float32 to uint8. Range [-0.9400200843811035, 0.9951281547546387]. Convert image to uint8 prior to saving to suppress this warning.\n"
          ]
        },
        {
          "output_type": "stream",
          "name": "stdout",
          "text": [
            "Iteration [ 600/20000] | D_real_loss: 0.0175 | D_fake_loss: 0.0390 | G_loss: 0.6597\n",
            "Saved results/samples_gan_gp1_lr3e-5/sample-000600.png\n"
          ]
        },
        {
          "output_type": "stream",
          "name": "stderr",
          "text": [
            "WARNING:root:Lossy conversion from float32 to uint8. Range [-0.9517062902450562, 0.9984010457992554]. Convert image to uint8 prior to saving to suppress this warning.\n"
          ]
        },
        {
          "output_type": "stream",
          "name": "stdout",
          "text": [
            "Iteration [ 800/20000] | D_real_loss: 0.0528 | D_fake_loss: 0.0124 | G_loss: 0.6457\n",
            "Saved results/samples_gan_gp1_lr3e-5/sample-000800.png\n"
          ]
        },
        {
          "output_type": "stream",
          "name": "stderr",
          "text": [
            "WARNING:root:Lossy conversion from float32 to uint8. Range [-0.964020848274231, 0.996073305606842]. Convert image to uint8 prior to saving to suppress this warning.\n"
          ]
        },
        {
          "output_type": "stream",
          "name": "stdout",
          "text": [
            "Iteration [1000/20000] | D_real_loss: 0.0120 | D_fake_loss: 0.0283 | G_loss: 0.8992\n",
            "Saved results/samples_gan_gp1_lr3e-5/sample-001000.png\n"
          ]
        },
        {
          "output_type": "stream",
          "name": "stderr",
          "text": [
            "WARNING:root:Lossy conversion from float32 to uint8. Range [-0.9758458733558655, 0.9917340874671936]. Convert image to uint8 prior to saving to suppress this warning.\n"
          ]
        },
        {
          "output_type": "stream",
          "name": "stdout",
          "text": [
            "Iteration [1200/20000] | D_real_loss: 0.0236 | D_fake_loss: 0.0073 | G_loss: 0.6803\n",
            "Saved results/samples_gan_gp1_lr3e-5/sample-001200.png\n"
          ]
        },
        {
          "output_type": "stream",
          "name": "stderr",
          "text": [
            "WARNING:root:Lossy conversion from float32 to uint8. Range [-0.9782357215881348, 0.9969800710678101]. Convert image to uint8 prior to saving to suppress this warning.\n"
          ]
        },
        {
          "output_type": "stream",
          "name": "stdout",
          "text": [
            "Iteration [1400/20000] | D_real_loss: 0.0200 | D_fake_loss: 0.0097 | G_loss: 0.8178\n",
            "Saved results/samples_gan_gp1_lr3e-5/sample-001400.png\n"
          ]
        },
        {
          "output_type": "stream",
          "name": "stderr",
          "text": [
            "WARNING:root:Lossy conversion from float32 to uint8. Range [-0.9487990140914917, 0.9946955442428589]. Convert image to uint8 prior to saving to suppress this warning.\n"
          ]
        },
        {
          "output_type": "stream",
          "name": "stdout",
          "text": [
            "Iteration [1600/20000] | D_real_loss: 0.0226 | D_fake_loss: 0.0091 | G_loss: 0.7339\n",
            "Saved results/samples_gan_gp1_lr3e-5/sample-001600.png\n"
          ]
        },
        {
          "output_type": "stream",
          "name": "stderr",
          "text": [
            "WARNING:root:Lossy conversion from float32 to uint8. Range [-0.9588093757629395, 0.991301417350769]. Convert image to uint8 prior to saving to suppress this warning.\n"
          ]
        },
        {
          "output_type": "stream",
          "name": "stdout",
          "text": [
            "Iteration [1800/20000] | D_real_loss: 0.0072 | D_fake_loss: 0.0155 | G_loss: 0.9431\n",
            "Saved results/samples_gan_gp1_lr3e-5/sample-001800.png\n"
          ]
        },
        {
          "output_type": "stream",
          "name": "stderr",
          "text": [
            "WARNING:root:Lossy conversion from float32 to uint8. Range [-0.9460310935974121, 0.9822648167610168]. Convert image to uint8 prior to saving to suppress this warning.\n"
          ]
        },
        {
          "output_type": "stream",
          "name": "stdout",
          "text": [
            "Iteration [2000/20000] | D_real_loss: 0.0066 | D_fake_loss: 0.0109 | G_loss: 0.8196\n",
            "Saved results/samples_gan_gp1_lr3e-5/sample-002000.png\n"
          ]
        },
        {
          "output_type": "stream",
          "name": "stderr",
          "text": [
            "WARNING:root:Lossy conversion from float32 to uint8. Range [-0.9103524684906006, 0.9625742435455322]. Convert image to uint8 prior to saving to suppress this warning.\n"
          ]
        },
        {
          "output_type": "stream",
          "name": "stdout",
          "text": [
            "Iteration [2200/20000] | D_real_loss: 0.0093 | D_fake_loss: 0.0212 | G_loss: 0.8481\n",
            "Saved results/samples_gan_gp1_lr3e-5/sample-002200.png\n"
          ]
        },
        {
          "output_type": "stream",
          "name": "stderr",
          "text": [
            "WARNING:root:Lossy conversion from float32 to uint8. Range [-0.8894826173782349, 0.9446902871131897]. Convert image to uint8 prior to saving to suppress this warning.\n"
          ]
        },
        {
          "output_type": "stream",
          "name": "stdout",
          "text": [
            "Iteration [2400/20000] | D_real_loss: 0.0350 | D_fake_loss: 0.0050 | G_loss: 0.7527\n",
            "Saved results/samples_gan_gp1_lr3e-5/sample-002400.png\n"
          ]
        },
        {
          "output_type": "stream",
          "name": "stderr",
          "text": [
            "WARNING:root:Lossy conversion from float32 to uint8. Range [-0.86473149061203, 0.9327479600906372]. Convert image to uint8 prior to saving to suppress this warning.\n"
          ]
        },
        {
          "output_type": "stream",
          "name": "stdout",
          "text": [
            "Iteration [2600/20000] | D_real_loss: 0.0295 | D_fake_loss: 0.0169 | G_loss: 0.6751\n",
            "Saved results/samples_gan_gp1_lr3e-5/sample-002600.png\n"
          ]
        },
        {
          "output_type": "stream",
          "name": "stderr",
          "text": [
            "WARNING:root:Lossy conversion from float32 to uint8. Range [-0.8098011612892151, 0.9098462462425232]. Convert image to uint8 prior to saving to suppress this warning.\n"
          ]
        },
        {
          "output_type": "stream",
          "name": "stdout",
          "text": [
            "Iteration [2800/20000] | D_real_loss: 0.0068 | D_fake_loss: 0.0315 | G_loss: 0.6959\n",
            "Saved results/samples_gan_gp1_lr3e-5/sample-002800.png\n"
          ]
        },
        {
          "output_type": "stream",
          "name": "stderr",
          "text": [
            "WARNING:root:Lossy conversion from float32 to uint8. Range [-0.8244832158088684, 0.8950652480125427]. Convert image to uint8 prior to saving to suppress this warning.\n"
          ]
        },
        {
          "output_type": "stream",
          "name": "stdout",
          "text": [
            "Iteration [3000/20000] | D_real_loss: 0.0025 | D_fake_loss: 0.0673 | G_loss: 0.9230\n",
            "Saved results/samples_gan_gp1_lr3e-5/sample-003000.png\n"
          ]
        },
        {
          "output_type": "stream",
          "name": "stderr",
          "text": [
            "WARNING:root:Lossy conversion from float32 to uint8. Range [-0.8196578025817871, 0.8906780481338501]. Convert image to uint8 prior to saving to suppress this warning.\n"
          ]
        },
        {
          "output_type": "stream",
          "name": "stdout",
          "text": [
            "Iteration [3200/20000] | D_real_loss: 0.0031 | D_fake_loss: 0.0219 | G_loss: 1.0661\n",
            "Saved results/samples_gan_gp1_lr3e-5/sample-003200.png\n"
          ]
        },
        {
          "output_type": "stream",
          "name": "stderr",
          "text": [
            "WARNING:root:Lossy conversion from float32 to uint8. Range [-0.8362118601799011, 0.8607050180435181]. Convert image to uint8 prior to saving to suppress this warning.\n"
          ]
        },
        {
          "output_type": "stream",
          "name": "stdout",
          "text": [
            "Iteration [3400/20000] | D_real_loss: 0.0032 | D_fake_loss: 0.0488 | G_loss: 0.7676\n",
            "Saved results/samples_gan_gp1_lr3e-5/sample-003400.png\n"
          ]
        },
        {
          "output_type": "stream",
          "name": "stderr",
          "text": [
            "WARNING:root:Lossy conversion from float32 to uint8. Range [-0.7431290149688721, 0.8648856282234192]. Convert image to uint8 prior to saving to suppress this warning.\n"
          ]
        },
        {
          "output_type": "stream",
          "name": "stdout",
          "text": [
            "Iteration [3600/20000] | D_real_loss: 0.0304 | D_fake_loss: 0.0070 | G_loss: 0.8323\n",
            "Saved results/samples_gan_gp1_lr3e-5/sample-003600.png\n"
          ]
        },
        {
          "output_type": "stream",
          "name": "stderr",
          "text": [
            "WARNING:root:Lossy conversion from float32 to uint8. Range [-0.7637638449668884, 0.8930045962333679]. Convert image to uint8 prior to saving to suppress this warning.\n"
          ]
        },
        {
          "output_type": "stream",
          "name": "stdout",
          "text": [
            "Iteration [3800/20000] | D_real_loss: 0.0033 | D_fake_loss: 0.0039 | G_loss: 0.9809\n",
            "Saved results/samples_gan_gp1_lr3e-5/sample-003800.png\n"
          ]
        },
        {
          "output_type": "stream",
          "name": "stderr",
          "text": [
            "WARNING:root:Lossy conversion from float32 to uint8. Range [-0.735470712184906, 0.8007658123970032]. Convert image to uint8 prior to saving to suppress this warning.\n"
          ]
        },
        {
          "output_type": "stream",
          "name": "stdout",
          "text": [
            "Iteration [4000/20000] | D_real_loss: 0.0034 | D_fake_loss: 0.0069 | G_loss: 0.9324\n",
            "Saved results/samples_gan_gp1_lr3e-5/sample-004000.png\n"
          ]
        },
        {
          "output_type": "stream",
          "name": "stderr",
          "text": [
            "WARNING:root:Lossy conversion from float32 to uint8. Range [-0.7591060400009155, 0.7977496385574341]. Convert image to uint8 prior to saving to suppress this warning.\n"
          ]
        },
        {
          "output_type": "stream",
          "name": "stdout",
          "text": [
            "Iteration [4200/20000] | D_real_loss: 0.0164 | D_fake_loss: 0.0053 | G_loss: 1.0243\n",
            "Saved results/samples_gan_gp1_lr3e-5/sample-004200.png\n"
          ]
        },
        {
          "output_type": "stream",
          "name": "stderr",
          "text": [
            "WARNING:root:Lossy conversion from float32 to uint8. Range [-0.7431526184082031, 0.8213779926300049]. Convert image to uint8 prior to saving to suppress this warning.\n"
          ]
        },
        {
          "output_type": "stream",
          "name": "stdout",
          "text": [
            "Iteration [4400/20000] | D_real_loss: 0.0791 | D_fake_loss: 0.0050 | G_loss: 0.6496\n",
            "Saved results/samples_gan_gp1_lr3e-5/sample-004400.png\n"
          ]
        },
        {
          "output_type": "stream",
          "name": "stderr",
          "text": [
            "WARNING:root:Lossy conversion from float32 to uint8. Range [-0.7254646420478821, 0.8051471710205078]. Convert image to uint8 prior to saving to suppress this warning.\n"
          ]
        },
        {
          "output_type": "stream",
          "name": "stdout",
          "text": [
            "Iteration [4600/20000] | D_real_loss: 0.0072 | D_fake_loss: 0.0058 | G_loss: 0.9794\n",
            "Saved results/samples_gan_gp1_lr3e-5/sample-004600.png\n"
          ]
        },
        {
          "output_type": "stream",
          "name": "stderr",
          "text": [
            "WARNING:root:Lossy conversion from float32 to uint8. Range [-0.7467992305755615, 0.7313195466995239]. Convert image to uint8 prior to saving to suppress this warning.\n"
          ]
        },
        {
          "output_type": "stream",
          "name": "stdout",
          "text": [
            "Iteration [4800/20000] | D_real_loss: 0.0035 | D_fake_loss: 0.0035 | G_loss: 0.7870\n",
            "Saved results/samples_gan_gp1_lr3e-5/sample-004800.png\n"
          ]
        },
        {
          "output_type": "stream",
          "name": "stderr",
          "text": [
            "WARNING:root:Lossy conversion from float32 to uint8. Range [-0.758536696434021, 0.7433973550796509]. Convert image to uint8 prior to saving to suppress this warning.\n"
          ]
        },
        {
          "output_type": "stream",
          "name": "stdout",
          "text": [
            "Iteration [5000/20000] | D_real_loss: 0.0111 | D_fake_loss: 0.0027 | G_loss: 0.8240\n",
            "Saved results/samples_gan_gp1_lr3e-5/sample-005000.png\n"
          ]
        },
        {
          "output_type": "stream",
          "name": "stderr",
          "text": [
            "WARNING:root:Lossy conversion from float32 to uint8. Range [-0.7056695818901062, 0.7620059847831726]. Convert image to uint8 prior to saving to suppress this warning.\n"
          ]
        },
        {
          "output_type": "stream",
          "name": "stdout",
          "text": [
            "Iteration [5200/20000] | D_real_loss: 0.0630 | D_fake_loss: 0.0209 | G_loss: 0.7465\n",
            "Saved results/samples_gan_gp1_lr3e-5/sample-005200.png\n"
          ]
        },
        {
          "output_type": "stream",
          "name": "stderr",
          "text": [
            "WARNING:root:Lossy conversion from float32 to uint8. Range [-0.7079907655715942, 0.7527878284454346]. Convert image to uint8 prior to saving to suppress this warning.\n"
          ]
        },
        {
          "output_type": "stream",
          "name": "stdout",
          "text": [
            "Iteration [5400/20000] | D_real_loss: 0.0097 | D_fake_loss: 0.0042 | G_loss: 1.0162\n",
            "Saved results/samples_gan_gp1_lr3e-5/sample-005400.png\n"
          ]
        },
        {
          "output_type": "stream",
          "name": "stderr",
          "text": [
            "WARNING:root:Lossy conversion from float32 to uint8. Range [-0.7392240762710571, 0.7578766942024231]. Convert image to uint8 prior to saving to suppress this warning.\n"
          ]
        },
        {
          "output_type": "stream",
          "name": "stdout",
          "text": [
            "Iteration [5600/20000] | D_real_loss: 0.0056 | D_fake_loss: 0.0104 | G_loss: 1.2734\n",
            "Saved results/samples_gan_gp1_lr3e-5/sample-005600.png\n"
          ]
        },
        {
          "output_type": "stream",
          "name": "stderr",
          "text": [
            "WARNING:root:Lossy conversion from float32 to uint8. Range [-0.6935944557189941, 0.7642244100570679]. Convert image to uint8 prior to saving to suppress this warning.\n"
          ]
        },
        {
          "output_type": "stream",
          "name": "stdout",
          "text": [
            "Iteration [5800/20000] | D_real_loss: 0.0075 | D_fake_loss: 0.0027 | G_loss: 1.0607\n",
            "Saved results/samples_gan_gp1_lr3e-5/sample-005800.png\n"
          ]
        },
        {
          "output_type": "stream",
          "name": "stderr",
          "text": [
            "WARNING:root:Lossy conversion from float32 to uint8. Range [-0.6945757269859314, 0.7634979486465454]. Convert image to uint8 prior to saving to suppress this warning.\n"
          ]
        },
        {
          "output_type": "stream",
          "name": "stdout",
          "text": [
            "Iteration [6000/20000] | D_real_loss: 0.0224 | D_fake_loss: 0.0034 | G_loss: 0.9875\n",
            "Saved results/samples_gan_gp1_lr3e-5/sample-006000.png\n"
          ]
        },
        {
          "output_type": "stream",
          "name": "stderr",
          "text": [
            "WARNING:root:Lossy conversion from float32 to uint8. Range [-0.7255783081054688, 0.7464570999145508]. Convert image to uint8 prior to saving to suppress this warning.\n"
          ]
        },
        {
          "output_type": "stream",
          "name": "stdout",
          "text": [
            "Iteration [6200/20000] | D_real_loss: 0.0086 | D_fake_loss: 0.0030 | G_loss: 0.9880\n",
            "Saved results/samples_gan_gp1_lr3e-5/sample-006200.png\n"
          ]
        },
        {
          "output_type": "stream",
          "name": "stderr",
          "text": [
            "WARNING:root:Lossy conversion from float32 to uint8. Range [-0.6988444924354553, 0.8009183406829834]. Convert image to uint8 prior to saving to suppress this warning.\n"
          ]
        },
        {
          "output_type": "stream",
          "name": "stdout",
          "text": [
            "Iteration [6400/20000] | D_real_loss: 0.0296 | D_fake_loss: 0.0044 | G_loss: 0.9928\n",
            "Saved results/samples_gan_gp1_lr3e-5/sample-006400.png\n"
          ]
        },
        {
          "output_type": "stream",
          "name": "stderr",
          "text": [
            "WARNING:root:Lossy conversion from float32 to uint8. Range [-0.6933971643447876, 0.7346985340118408]. Convert image to uint8 prior to saving to suppress this warning.\n"
          ]
        },
        {
          "output_type": "stream",
          "name": "stdout",
          "text": [
            "Iteration [6600/20000] | D_real_loss: 0.0071 | D_fake_loss: 0.0142 | G_loss: 0.8300\n",
            "Saved results/samples_gan_gp1_lr3e-5/sample-006600.png\n"
          ]
        },
        {
          "output_type": "stream",
          "name": "stderr",
          "text": [
            "WARNING:root:Lossy conversion from float32 to uint8. Range [-0.710349440574646, 0.7641526460647583]. Convert image to uint8 prior to saving to suppress this warning.\n"
          ]
        },
        {
          "output_type": "stream",
          "name": "stdout",
          "text": [
            "Iteration [6800/20000] | D_real_loss: 0.0020 | D_fake_loss: 0.0057 | G_loss: 0.9453\n",
            "Saved results/samples_gan_gp1_lr3e-5/sample-006800.png\n"
          ]
        },
        {
          "output_type": "stream",
          "name": "stderr",
          "text": [
            "WARNING:root:Lossy conversion from float32 to uint8. Range [-0.7171877026557922, 0.7457884550094604]. Convert image to uint8 prior to saving to suppress this warning.\n"
          ]
        },
        {
          "output_type": "stream",
          "name": "stdout",
          "text": [
            "Iteration [7000/20000] | D_real_loss: 0.0245 | D_fake_loss: 0.0271 | G_loss: 1.1570\n",
            "Saved results/samples_gan_gp1_lr3e-5/sample-007000.png\n"
          ]
        },
        {
          "output_type": "stream",
          "name": "stderr",
          "text": [
            "WARNING:root:Lossy conversion from float32 to uint8. Range [-0.6854821443557739, 0.735000491142273]. Convert image to uint8 prior to saving to suppress this warning.\n"
          ]
        },
        {
          "output_type": "stream",
          "name": "stdout",
          "text": [
            "Iteration [7200/20000] | D_real_loss: 0.0103 | D_fake_loss: 0.0160 | G_loss: 1.1201\n",
            "Saved results/samples_gan_gp1_lr3e-5/sample-007200.png\n"
          ]
        },
        {
          "output_type": "stream",
          "name": "stderr",
          "text": [
            "WARNING:root:Lossy conversion from float32 to uint8. Range [-0.7146375179290771, 0.7293112277984619]. Convert image to uint8 prior to saving to suppress this warning.\n"
          ]
        },
        {
          "output_type": "stream",
          "name": "stdout",
          "text": [
            "Iteration [7400/20000] | D_real_loss: 0.0034 | D_fake_loss: 0.0036 | G_loss: 0.8627\n",
            "Saved results/samples_gan_gp1_lr3e-5/sample-007400.png\n"
          ]
        },
        {
          "output_type": "stream",
          "name": "stderr",
          "text": [
            "WARNING:root:Lossy conversion from float32 to uint8. Range [-0.6460005044937134, 0.7458280920982361]. Convert image to uint8 prior to saving to suppress this warning.\n"
          ]
        },
        {
          "output_type": "stream",
          "name": "stdout",
          "text": [
            "Iteration [7600/20000] | D_real_loss: 0.0170 | D_fake_loss: 0.0042 | G_loss: 0.7287\n",
            "Saved results/samples_gan_gp1_lr3e-5/sample-007600.png\n"
          ]
        },
        {
          "output_type": "stream",
          "name": "stderr",
          "text": [
            "WARNING:root:Lossy conversion from float32 to uint8. Range [-0.6951987743377686, 0.7378019094467163]. Convert image to uint8 prior to saving to suppress this warning.\n"
          ]
        },
        {
          "output_type": "stream",
          "name": "stdout",
          "text": [
            "Iteration [7800/20000] | D_real_loss: 0.0030 | D_fake_loss: 0.0131 | G_loss: 1.2147\n",
            "Saved results/samples_gan_gp1_lr3e-5/sample-007800.png\n"
          ]
        },
        {
          "output_type": "stream",
          "name": "stderr",
          "text": [
            "WARNING:root:Lossy conversion from float32 to uint8. Range [-0.731897234916687, 0.7539048194885254]. Convert image to uint8 prior to saving to suppress this warning.\n"
          ]
        },
        {
          "output_type": "stream",
          "name": "stdout",
          "text": [
            "Iteration [8000/20000] | D_real_loss: 0.0090 | D_fake_loss: 0.0175 | G_loss: 0.9421\n",
            "Saved results/samples_gan_gp1_lr3e-5/sample-008000.png\n"
          ]
        },
        {
          "output_type": "stream",
          "name": "stderr",
          "text": [
            "WARNING:root:Lossy conversion from float32 to uint8. Range [-0.6416217088699341, 0.7431498765945435]. Convert image to uint8 prior to saving to suppress this warning.\n"
          ]
        },
        {
          "output_type": "stream",
          "name": "stdout",
          "text": [
            "Iteration [8200/20000] | D_real_loss: 0.0026 | D_fake_loss: 0.0305 | G_loss: 1.0188\n",
            "Saved results/samples_gan_gp1_lr3e-5/sample-008200.png\n"
          ]
        },
        {
          "output_type": "stream",
          "name": "stderr",
          "text": [
            "WARNING:root:Lossy conversion from float32 to uint8. Range [-0.6926038265228271, 0.7751413583755493]. Convert image to uint8 prior to saving to suppress this warning.\n"
          ]
        },
        {
          "output_type": "stream",
          "name": "stdout",
          "text": [
            "Iteration [8400/20000] | D_real_loss: 0.0055 | D_fake_loss: 0.0110 | G_loss: 0.8980\n",
            "Saved results/samples_gan_gp1_lr3e-5/sample-008400.png\n"
          ]
        },
        {
          "output_type": "stream",
          "name": "stderr",
          "text": [
            "WARNING:root:Lossy conversion from float32 to uint8. Range [-0.6491807699203491, 0.7650054097175598]. Convert image to uint8 prior to saving to suppress this warning.\n"
          ]
        },
        {
          "output_type": "stream",
          "name": "stdout",
          "text": [
            "Iteration [8600/20000] | D_real_loss: 0.0072 | D_fake_loss: 0.0081 | G_loss: 1.0151\n",
            "Saved results/samples_gan_gp1_lr3e-5/sample-008600.png\n"
          ]
        },
        {
          "output_type": "stream",
          "name": "stderr",
          "text": [
            "WARNING:root:Lossy conversion from float32 to uint8. Range [-0.6734850406646729, 0.7461397051811218]. Convert image to uint8 prior to saving to suppress this warning.\n"
          ]
        },
        {
          "output_type": "stream",
          "name": "stdout",
          "text": [
            "Iteration [8800/20000] | D_real_loss: 0.0031 | D_fake_loss: 0.0038 | G_loss: 0.8223\n",
            "Saved results/samples_gan_gp1_lr3e-5/sample-008800.png\n"
          ]
        },
        {
          "output_type": "stream",
          "name": "stderr",
          "text": [
            "WARNING:root:Lossy conversion from float32 to uint8. Range [-0.6516615152359009, 0.7821905612945557]. Convert image to uint8 prior to saving to suppress this warning.\n"
          ]
        },
        {
          "output_type": "stream",
          "name": "stdout",
          "text": [
            "Iteration [9000/20000] | D_real_loss: 0.0287 | D_fake_loss: 0.0087 | G_loss: 0.6902\n",
            "Saved results/samples_gan_gp1_lr3e-5/sample-009000.png\n"
          ]
        },
        {
          "output_type": "stream",
          "name": "stderr",
          "text": [
            "WARNING:root:Lossy conversion from float32 to uint8. Range [-0.6685245037078857, 0.7645395398139954]. Convert image to uint8 prior to saving to suppress this warning.\n"
          ]
        },
        {
          "output_type": "stream",
          "name": "stdout",
          "text": [
            "Iteration [9200/20000] | D_real_loss: 0.0035 | D_fake_loss: 0.0409 | G_loss: 1.0487\n",
            "Saved results/samples_gan_gp1_lr3e-5/sample-009200.png\n"
          ]
        },
        {
          "output_type": "stream",
          "name": "stderr",
          "text": [
            "WARNING:root:Lossy conversion from float32 to uint8. Range [-0.6670396327972412, 0.752442479133606]. Convert image to uint8 prior to saving to suppress this warning.\n"
          ]
        },
        {
          "output_type": "stream",
          "name": "stdout",
          "text": [
            "Iteration [9400/20000] | D_real_loss: 0.0034 | D_fake_loss: 0.0032 | G_loss: 1.0470\n",
            "Saved results/samples_gan_gp1_lr3e-5/sample-009400.png\n"
          ]
        },
        {
          "output_type": "stream",
          "name": "stderr",
          "text": [
            "WARNING:root:Lossy conversion from float32 to uint8. Range [-0.7123697996139526, 0.7726695537567139]. Convert image to uint8 prior to saving to suppress this warning.\n"
          ]
        },
        {
          "output_type": "stream",
          "name": "stdout",
          "text": [
            "Iteration [9600/20000] | D_real_loss: 0.0020 | D_fake_loss: 0.0054 | G_loss: 0.9618\n",
            "Saved results/samples_gan_gp1_lr3e-5/sample-009600.png\n"
          ]
        },
        {
          "output_type": "stream",
          "name": "stderr",
          "text": [
            "WARNING:root:Lossy conversion from float32 to uint8. Range [-0.7160000801086426, 0.7617393136024475]. Convert image to uint8 prior to saving to suppress this warning.\n"
          ]
        },
        {
          "output_type": "stream",
          "name": "stdout",
          "text": [
            "Iteration [9800/20000] | D_real_loss: 0.0039 | D_fake_loss: 0.0101 | G_loss: 0.9008\n",
            "Saved results/samples_gan_gp1_lr3e-5/sample-009800.png\n"
          ]
        },
        {
          "output_type": "stream",
          "name": "stderr",
          "text": [
            "WARNING:root:Lossy conversion from float32 to uint8. Range [-0.6618440747261047, 0.7564784288406372]. Convert image to uint8 prior to saving to suppress this warning.\n"
          ]
        },
        {
          "output_type": "stream",
          "name": "stdout",
          "text": [
            "Iteration [10000/20000] | D_real_loss: 0.0161 | D_fake_loss: 0.0145 | G_loss: 0.9866\n",
            "Saved results/samples_gan_gp1_lr3e-5/sample-010000.png\n"
          ]
        },
        {
          "output_type": "stream",
          "name": "stderr",
          "text": [
            "WARNING:root:Lossy conversion from float32 to uint8. Range [-0.6842575073242188, 0.7651945352554321]. Convert image to uint8 prior to saving to suppress this warning.\n"
          ]
        },
        {
          "output_type": "stream",
          "name": "stdout",
          "text": [
            "Iteration [10200/20000] | D_real_loss: 0.0193 | D_fake_loss: 0.0034 | G_loss: 1.1902\n",
            "Saved results/samples_gan_gp1_lr3e-5/sample-010200.png\n"
          ]
        },
        {
          "output_type": "stream",
          "name": "stderr",
          "text": [
            "WARNING:root:Lossy conversion from float32 to uint8. Range [-0.7039087414741516, 0.7045583724975586]. Convert image to uint8 prior to saving to suppress this warning.\n"
          ]
        },
        {
          "output_type": "stream",
          "name": "stdout",
          "text": [
            "Iteration [10400/20000] | D_real_loss: 0.0023 | D_fake_loss: 0.0060 | G_loss: 1.0614\n",
            "Saved results/samples_gan_gp1_lr3e-5/sample-010400.png\n"
          ]
        },
        {
          "output_type": "stream",
          "name": "stderr",
          "text": [
            "WARNING:root:Lossy conversion from float32 to uint8. Range [-0.6807524561882019, 0.7758539915084839]. Convert image to uint8 prior to saving to suppress this warning.\n"
          ]
        },
        {
          "output_type": "stream",
          "name": "stdout",
          "text": [
            "Iteration [10600/20000] | D_real_loss: 0.0016 | D_fake_loss: 0.0022 | G_loss: 0.8295\n",
            "Saved results/samples_gan_gp1_lr3e-5/sample-010600.png\n"
          ]
        },
        {
          "output_type": "stream",
          "name": "stderr",
          "text": [
            "WARNING:root:Lossy conversion from float32 to uint8. Range [-0.6902527809143066, 0.7716104984283447]. Convert image to uint8 prior to saving to suppress this warning.\n"
          ]
        },
        {
          "output_type": "stream",
          "name": "stdout",
          "text": [
            "Iteration [10800/20000] | D_real_loss: 0.0442 | D_fake_loss: 0.0035 | G_loss: 0.7901\n",
            "Saved results/samples_gan_gp1_lr3e-5/sample-010800.png\n"
          ]
        },
        {
          "output_type": "stream",
          "name": "stderr",
          "text": [
            "WARNING:root:Lossy conversion from float32 to uint8. Range [-0.6580121517181396, 0.7686383128166199]. Convert image to uint8 prior to saving to suppress this warning.\n"
          ]
        },
        {
          "output_type": "stream",
          "name": "stdout",
          "text": [
            "Iteration [11000/20000] | D_real_loss: 0.0053 | D_fake_loss: 0.0042 | G_loss: 1.0305\n",
            "Saved results/samples_gan_gp1_lr3e-5/sample-011000.png\n"
          ]
        },
        {
          "output_type": "stream",
          "name": "stderr",
          "text": [
            "WARNING:root:Lossy conversion from float32 to uint8. Range [-0.6606979370117188, 0.7946919798851013]. Convert image to uint8 prior to saving to suppress this warning.\n"
          ]
        },
        {
          "output_type": "stream",
          "name": "stdout",
          "text": [
            "Iteration [11200/20000] | D_real_loss: 0.0146 | D_fake_loss: 0.0028 | G_loss: 0.8475\n",
            "Saved results/samples_gan_gp1_lr3e-5/sample-011200.png\n"
          ]
        },
        {
          "output_type": "stream",
          "name": "stderr",
          "text": [
            "WARNING:root:Lossy conversion from float32 to uint8. Range [-0.7326182723045349, 0.7905998229980469]. Convert image to uint8 prior to saving to suppress this warning.\n"
          ]
        },
        {
          "output_type": "stream",
          "name": "stdout",
          "text": [
            "Iteration [11400/20000] | D_real_loss: 0.0039 | D_fake_loss: 0.0041 | G_loss: 1.0821\n",
            "Saved results/samples_gan_gp1_lr3e-5/sample-011400.png\n"
          ]
        },
        {
          "output_type": "stream",
          "name": "stderr",
          "text": [
            "WARNING:root:Lossy conversion from float32 to uint8. Range [-0.681801438331604, 0.7520378232002258]. Convert image to uint8 prior to saving to suppress this warning.\n"
          ]
        },
        {
          "output_type": "stream",
          "name": "stdout",
          "text": [
            "Iteration [11600/20000] | D_real_loss: 0.0040 | D_fake_loss: 0.0044 | G_loss: 0.9007\n",
            "Saved results/samples_gan_gp1_lr3e-5/sample-011600.png\n"
          ]
        },
        {
          "output_type": "stream",
          "name": "stderr",
          "text": [
            "WARNING:root:Lossy conversion from float32 to uint8. Range [-0.6779338121414185, 0.7555912137031555]. Convert image to uint8 prior to saving to suppress this warning.\n"
          ]
        },
        {
          "output_type": "stream",
          "name": "stdout",
          "text": [
            "Iteration [11800/20000] | D_real_loss: 0.0045 | D_fake_loss: 0.0041 | G_loss: 0.8370\n",
            "Saved results/samples_gan_gp1_lr3e-5/sample-011800.png\n"
          ]
        },
        {
          "output_type": "stream",
          "name": "stderr",
          "text": [
            "WARNING:root:Lossy conversion from float32 to uint8. Range [-0.6328908205032349, 0.8057841062545776]. Convert image to uint8 prior to saving to suppress this warning.\n"
          ]
        },
        {
          "output_type": "stream",
          "name": "stdout",
          "text": [
            "Iteration [12000/20000] | D_real_loss: 0.0077 | D_fake_loss: 0.0252 | G_loss: 1.1603\n",
            "Saved results/samples_gan_gp1_lr3e-5/sample-012000.png\n"
          ]
        },
        {
          "output_type": "stream",
          "name": "stderr",
          "text": [
            "WARNING:root:Lossy conversion from float32 to uint8. Range [-0.6849592924118042, 0.7776780128479004]. Convert image to uint8 prior to saving to suppress this warning.\n"
          ]
        },
        {
          "output_type": "stream",
          "name": "stdout",
          "text": [
            "Iteration [12200/20000] | D_real_loss: 0.0207 | D_fake_loss: 0.0045 | G_loss: 0.9753\n",
            "Saved results/samples_gan_gp1_lr3e-5/sample-012200.png\n"
          ]
        },
        {
          "output_type": "stream",
          "name": "stderr",
          "text": [
            "WARNING:root:Lossy conversion from float32 to uint8. Range [-0.6689584851264954, 0.7952107191085815]. Convert image to uint8 prior to saving to suppress this warning.\n"
          ]
        },
        {
          "output_type": "stream",
          "name": "stdout",
          "text": [
            "Iteration [12400/20000] | D_real_loss: 0.0540 | D_fake_loss: 0.0124 | G_loss: 0.9775\n",
            "Saved results/samples_gan_gp1_lr3e-5/sample-012400.png\n"
          ]
        },
        {
          "output_type": "stream",
          "name": "stderr",
          "text": [
            "WARNING:root:Lossy conversion from float32 to uint8. Range [-0.6870803833007812, 0.7650653123855591]. Convert image to uint8 prior to saving to suppress this warning.\n"
          ]
        },
        {
          "output_type": "stream",
          "name": "stdout",
          "text": [
            "Iteration [12600/20000] | D_real_loss: 0.0231 | D_fake_loss: 0.0072 | G_loss: 0.8215\n",
            "Saved results/samples_gan_gp1_lr3e-5/sample-012600.png\n"
          ]
        },
        {
          "output_type": "stream",
          "name": "stderr",
          "text": [
            "WARNING:root:Lossy conversion from float32 to uint8. Range [-0.6620132923126221, 0.801320493221283]. Convert image to uint8 prior to saving to suppress this warning.\n"
          ]
        },
        {
          "output_type": "stream",
          "name": "stdout",
          "text": [
            "Iteration [12800/20000] | D_real_loss: 0.0014 | D_fake_loss: 0.0040 | G_loss: 0.9196\n",
            "Saved results/samples_gan_gp1_lr3e-5/sample-012800.png\n"
          ]
        },
        {
          "output_type": "stream",
          "name": "stderr",
          "text": [
            "WARNING:root:Lossy conversion from float32 to uint8. Range [-0.6686222553253174, 0.7557296752929688]. Convert image to uint8 prior to saving to suppress this warning.\n"
          ]
        },
        {
          "output_type": "stream",
          "name": "stdout",
          "text": [
            "Iteration [13000/20000] | D_real_loss: 0.0213 | D_fake_loss: 0.0190 | G_loss: 1.0732\n",
            "Saved results/samples_gan_gp1_lr3e-5/sample-013000.png\n"
          ]
        },
        {
          "output_type": "stream",
          "name": "stderr",
          "text": [
            "WARNING:root:Lossy conversion from float32 to uint8. Range [-0.6496219635009766, 0.7432961463928223]. Convert image to uint8 prior to saving to suppress this warning.\n"
          ]
        },
        {
          "output_type": "stream",
          "name": "stdout",
          "text": [
            "Iteration [13200/20000] | D_real_loss: 0.0657 | D_fake_loss: 0.0026 | G_loss: 0.7659\n",
            "Saved results/samples_gan_gp1_lr3e-5/sample-013200.png\n"
          ]
        },
        {
          "output_type": "stream",
          "name": "stderr",
          "text": [
            "WARNING:root:Lossy conversion from float32 to uint8. Range [-0.6949765682220459, 0.7414821982383728]. Convert image to uint8 prior to saving to suppress this warning.\n"
          ]
        },
        {
          "output_type": "stream",
          "name": "stdout",
          "text": [
            "Iteration [13400/20000] | D_real_loss: 0.0062 | D_fake_loss: 0.0064 | G_loss: 0.9711\n",
            "Saved results/samples_gan_gp1_lr3e-5/sample-013400.png\n"
          ]
        },
        {
          "output_type": "stream",
          "name": "stderr",
          "text": [
            "WARNING:root:Lossy conversion from float32 to uint8. Range [-0.668384313583374, 0.740874171257019]. Convert image to uint8 prior to saving to suppress this warning.\n"
          ]
        },
        {
          "output_type": "stream",
          "name": "stdout",
          "text": [
            "Iteration [13600/20000] | D_real_loss: 0.0018 | D_fake_loss: 0.0608 | G_loss: 0.6824\n",
            "Saved results/samples_gan_gp1_lr3e-5/sample-013600.png\n"
          ]
        },
        {
          "output_type": "stream",
          "name": "stderr",
          "text": [
            "WARNING:root:Lossy conversion from float32 to uint8. Range [-0.6675564646720886, 0.7557609677314758]. Convert image to uint8 prior to saving to suppress this warning.\n"
          ]
        },
        {
          "output_type": "stream",
          "name": "stdout",
          "text": [
            "Iteration [13800/20000] | D_real_loss: 0.0086 | D_fake_loss: 0.0039 | G_loss: 0.9037\n",
            "Saved results/samples_gan_gp1_lr3e-5/sample-013800.png\n"
          ]
        },
        {
          "output_type": "stream",
          "name": "stderr",
          "text": [
            "WARNING:root:Lossy conversion from float32 to uint8. Range [-0.6606005430221558, 0.7699748277664185]. Convert image to uint8 prior to saving to suppress this warning.\n"
          ]
        },
        {
          "output_type": "stream",
          "name": "stdout",
          "text": [
            "Iteration [14000/20000] | D_real_loss: 0.0319 | D_fake_loss: 0.0074 | G_loss: 1.1373\n",
            "Saved results/samples_gan_gp1_lr3e-5/sample-014000.png\n"
          ]
        },
        {
          "output_type": "stream",
          "name": "stderr",
          "text": [
            "WARNING:root:Lossy conversion from float32 to uint8. Range [-0.6678588390350342, 0.7560577988624573]. Convert image to uint8 prior to saving to suppress this warning.\n"
          ]
        },
        {
          "output_type": "stream",
          "name": "stdout",
          "text": [
            "Iteration [14200/20000] | D_real_loss: 0.0040 | D_fake_loss: 0.0037 | G_loss: 1.0042\n",
            "Saved results/samples_gan_gp1_lr3e-5/sample-014200.png\n"
          ]
        },
        {
          "output_type": "stream",
          "name": "stderr",
          "text": [
            "WARNING:root:Lossy conversion from float32 to uint8. Range [-0.6537603139877319, 0.7577499151229858]. Convert image to uint8 prior to saving to suppress this warning.\n"
          ]
        },
        {
          "output_type": "stream",
          "name": "stdout",
          "text": [
            "Iteration [14400/20000] | D_real_loss: 0.0022 | D_fake_loss: 0.0019 | G_loss: 1.0623\n",
            "Saved results/samples_gan_gp1_lr3e-5/sample-014400.png\n"
          ]
        },
        {
          "output_type": "stream",
          "name": "stderr",
          "text": [
            "WARNING:root:Lossy conversion from float32 to uint8. Range [-0.9132364988327026, 0.6427608132362366]. Convert image to uint8 prior to saving to suppress this warning.\n"
          ]
        },
        {
          "output_type": "stream",
          "name": "stdout",
          "text": [
            "Iteration [14600/20000] | D_real_loss: 0.0062 | D_fake_loss: 0.0024 | G_loss: 1.0504\n",
            "Saved results/samples_gan_gp1_lr3e-5/sample-014600.png\n"
          ]
        },
        {
          "output_type": "stream",
          "name": "stderr",
          "text": [
            "WARNING:root:Lossy conversion from float32 to uint8. Range [-0.6912165284156799, 0.7370966672897339]. Convert image to uint8 prior to saving to suppress this warning.\n"
          ]
        },
        {
          "output_type": "stream",
          "name": "stdout",
          "text": [
            "Iteration [14800/20000] | D_real_loss: 0.0177 | D_fake_loss: 0.0962 | G_loss: 1.0702\n",
            "Saved results/samples_gan_gp1_lr3e-5/sample-014800.png\n"
          ]
        },
        {
          "output_type": "stream",
          "name": "stderr",
          "text": [
            "WARNING:root:Lossy conversion from float32 to uint8. Range [-0.7004510760307312, 0.7946134209632874]. Convert image to uint8 prior to saving to suppress this warning.\n"
          ]
        },
        {
          "output_type": "stream",
          "name": "stdout",
          "text": [
            "Iteration [15000/20000] | D_real_loss: 0.0021 | D_fake_loss: 0.0089 | G_loss: 1.0710\n",
            "Saved results/samples_gan_gp1_lr3e-5/sample-015000.png\n"
          ]
        },
        {
          "output_type": "stream",
          "name": "stderr",
          "text": [
            "WARNING:root:Lossy conversion from float32 to uint8. Range [-0.6563104391098022, 0.7579030394554138]. Convert image to uint8 prior to saving to suppress this warning.\n"
          ]
        },
        {
          "output_type": "stream",
          "name": "stdout",
          "text": [
            "Iteration [15200/20000] | D_real_loss: 0.0019 | D_fake_loss: 0.0029 | G_loss: 0.9633\n",
            "Saved results/samples_gan_gp1_lr3e-5/sample-015200.png\n"
          ]
        },
        {
          "output_type": "stream",
          "name": "stderr",
          "text": [
            "WARNING:root:Lossy conversion from float32 to uint8. Range [-0.6834723353385925, 0.7821928262710571]. Convert image to uint8 prior to saving to suppress this warning.\n"
          ]
        },
        {
          "output_type": "stream",
          "name": "stdout",
          "text": [
            "Iteration [15400/20000] | D_real_loss: 0.0035 | D_fake_loss: 0.0168 | G_loss: 1.1354\n",
            "Saved results/samples_gan_gp1_lr3e-5/sample-015400.png\n"
          ]
        },
        {
          "output_type": "stream",
          "name": "stderr",
          "text": [
            "WARNING:root:Lossy conversion from float32 to uint8. Range [-0.6761251091957092, 0.7287490367889404]. Convert image to uint8 prior to saving to suppress this warning.\n"
          ]
        },
        {
          "output_type": "stream",
          "name": "stdout",
          "text": [
            "Iteration [15600/20000] | D_real_loss: 0.0033 | D_fake_loss: 0.0033 | G_loss: 1.1497\n",
            "Saved results/samples_gan_gp1_lr3e-5/sample-015600.png\n"
          ]
        },
        {
          "output_type": "stream",
          "name": "stderr",
          "text": [
            "WARNING:root:Lossy conversion from float32 to uint8. Range [-0.6628851294517517, 0.7236833572387695]. Convert image to uint8 prior to saving to suppress this warning.\n"
          ]
        },
        {
          "output_type": "stream",
          "name": "stdout",
          "text": [
            "Iteration [15800/20000] | D_real_loss: 0.0029 | D_fake_loss: 0.0017 | G_loss: 1.0778\n",
            "Saved results/samples_gan_gp1_lr3e-5/sample-015800.png\n"
          ]
        },
        {
          "output_type": "stream",
          "name": "stderr",
          "text": [
            "WARNING:root:Lossy conversion from float32 to uint8. Range [-0.6721173524856567, 0.6997975707054138]. Convert image to uint8 prior to saving to suppress this warning.\n"
          ]
        },
        {
          "output_type": "stream",
          "name": "stdout",
          "text": [
            "Iteration [16000/20000] | D_real_loss: 0.0030 | D_fake_loss: 0.0017 | G_loss: 1.1868\n",
            "Saved results/samples_gan_gp1_lr3e-5/sample-016000.png\n"
          ]
        },
        {
          "output_type": "stream",
          "name": "stderr",
          "text": [
            "WARNING:root:Lossy conversion from float32 to uint8. Range [-0.6610993146896362, 0.7417498826980591]. Convert image to uint8 prior to saving to suppress this warning.\n"
          ]
        },
        {
          "output_type": "stream",
          "name": "stdout",
          "text": [
            "Iteration [16200/20000] | D_real_loss: 0.0031 | D_fake_loss: 0.0026 | G_loss: 1.0898\n",
            "Saved results/samples_gan_gp1_lr3e-5/sample-016200.png\n"
          ]
        },
        {
          "output_type": "stream",
          "name": "stderr",
          "text": [
            "WARNING:root:Lossy conversion from float32 to uint8. Range [-0.6976563334465027, 0.7161883115768433]. Convert image to uint8 prior to saving to suppress this warning.\n"
          ]
        },
        {
          "output_type": "stream",
          "name": "stdout",
          "text": [
            "Iteration [16400/20000] | D_real_loss: 0.0091 | D_fake_loss: 0.0041 | G_loss: 1.2388\n",
            "Saved results/samples_gan_gp1_lr3e-5/sample-016400.png\n"
          ]
        },
        {
          "output_type": "stream",
          "name": "stderr",
          "text": [
            "WARNING:root:Lossy conversion from float32 to uint8. Range [-0.6696003675460815, 0.7234591841697693]. Convert image to uint8 prior to saving to suppress this warning.\n"
          ]
        },
        {
          "output_type": "stream",
          "name": "stdout",
          "text": [
            "Iteration [16600/20000] | D_real_loss: 0.0008 | D_fake_loss: 0.0095 | G_loss: 0.9388\n",
            "Saved results/samples_gan_gp1_lr3e-5/sample-016600.png\n"
          ]
        },
        {
          "output_type": "stream",
          "name": "stderr",
          "text": [
            "WARNING:root:Lossy conversion from float32 to uint8. Range [-0.6739716529846191, 0.7020905017852783]. Convert image to uint8 prior to saving to suppress this warning.\n"
          ]
        },
        {
          "output_type": "stream",
          "name": "stdout",
          "text": [
            "Iteration [16800/20000] | D_real_loss: 0.0069 | D_fake_loss: 0.0026 | G_loss: 1.0393\n",
            "Saved results/samples_gan_gp1_lr3e-5/sample-016800.png\n"
          ]
        },
        {
          "output_type": "stream",
          "name": "stderr",
          "text": [
            "WARNING:root:Lossy conversion from float32 to uint8. Range [-0.8730010986328125, 0.5565608143806458]. Convert image to uint8 prior to saving to suppress this warning.\n"
          ]
        },
        {
          "output_type": "stream",
          "name": "stdout",
          "text": [
            "Iteration [17000/20000] | D_real_loss: 0.0059 | D_fake_loss: 0.0010 | G_loss: 1.0435\n",
            "Saved results/samples_gan_gp1_lr3e-5/sample-017000.png\n"
          ]
        },
        {
          "output_type": "stream",
          "name": "stderr",
          "text": [
            "WARNING:root:Lossy conversion from float32 to uint8. Range [-0.927651584148407, 0.8551835417747498]. Convert image to uint8 prior to saving to suppress this warning.\n"
          ]
        },
        {
          "output_type": "stream",
          "name": "stdout",
          "text": [
            "Iteration [17200/20000] | D_real_loss: 0.0074 | D_fake_loss: 0.0002 | G_loss: 0.9066\n",
            "Saved results/samples_gan_gp1_lr3e-5/sample-017200.png\n"
          ]
        },
        {
          "output_type": "stream",
          "name": "stderr",
          "text": [
            "WARNING:root:Lossy conversion from float32 to uint8. Range [-0.7735053300857544, 0.9615336656570435]. Convert image to uint8 prior to saving to suppress this warning.\n"
          ]
        },
        {
          "output_type": "stream",
          "name": "stdout",
          "text": [
            "Iteration [17400/20000] | D_real_loss: 0.0061 | D_fake_loss: 0.0012 | G_loss: 1.0041\n",
            "Saved results/samples_gan_gp1_lr3e-5/sample-017400.png\n"
          ]
        },
        {
          "output_type": "stream",
          "name": "stderr",
          "text": [
            "WARNING:root:Lossy conversion from float32 to uint8. Range [-0.7030823230743408, 0.7132776975631714]. Convert image to uint8 prior to saving to suppress this warning.\n"
          ]
        },
        {
          "output_type": "stream",
          "name": "stdout",
          "text": [
            "Iteration [17600/20000] | D_real_loss: 0.0116 | D_fake_loss: 0.0126 | G_loss: 0.7600\n",
            "Saved results/samples_gan_gp1_lr3e-5/sample-017600.png\n"
          ]
        },
        {
          "output_type": "stream",
          "name": "stderr",
          "text": [
            "WARNING:root:Lossy conversion from float32 to uint8. Range [-0.6519500017166138, 0.7320461273193359]. Convert image to uint8 prior to saving to suppress this warning.\n"
          ]
        },
        {
          "output_type": "stream",
          "name": "stdout",
          "text": [
            "Iteration [17800/20000] | D_real_loss: 0.0161 | D_fake_loss: 0.0193 | G_loss: 1.0146\n",
            "Saved results/samples_gan_gp1_lr3e-5/sample-017800.png\n"
          ]
        },
        {
          "output_type": "stream",
          "name": "stderr",
          "text": [
            "WARNING:root:Lossy conversion from float32 to uint8. Range [-0.6622088551521301, 0.7302289009094238]. Convert image to uint8 prior to saving to suppress this warning.\n"
          ]
        },
        {
          "output_type": "stream",
          "name": "stdout",
          "text": [
            "Iteration [18000/20000] | D_real_loss: 0.0022 | D_fake_loss: 0.0081 | G_loss: 1.1442\n",
            "Saved results/samples_gan_gp1_lr3e-5/sample-018000.png\n"
          ]
        },
        {
          "output_type": "stream",
          "name": "stderr",
          "text": [
            "WARNING:root:Lossy conversion from float32 to uint8. Range [-0.6650129556655884, 0.7413648366928101]. Convert image to uint8 prior to saving to suppress this warning.\n"
          ]
        },
        {
          "output_type": "stream",
          "name": "stdout",
          "text": [
            "Iteration [18200/20000] | D_real_loss: 0.0047 | D_fake_loss: 0.0065 | G_loss: 0.9646\n",
            "Saved results/samples_gan_gp1_lr3e-5/sample-018200.png\n"
          ]
        },
        {
          "output_type": "stream",
          "name": "stderr",
          "text": [
            "WARNING:root:Lossy conversion from float32 to uint8. Range [-0.6648683547973633, 0.7349637746810913]. Convert image to uint8 prior to saving to suppress this warning.\n"
          ]
        },
        {
          "output_type": "stream",
          "name": "stdout",
          "text": [
            "Iteration [18400/20000] | D_real_loss: 0.0064 | D_fake_loss: 0.0014 | G_loss: 1.0950\n",
            "Saved results/samples_gan_gp1_lr3e-5/sample-018400.png\n"
          ]
        },
        {
          "output_type": "stream",
          "name": "stderr",
          "text": [
            "WARNING:root:Lossy conversion from float32 to uint8. Range [-0.6680852770805359, 0.76361483335495]. Convert image to uint8 prior to saving to suppress this warning.\n"
          ]
        },
        {
          "output_type": "stream",
          "name": "stdout",
          "text": [
            "Iteration [18600/20000] | D_real_loss: 0.0050 | D_fake_loss: 0.0024 | G_loss: 0.8711\n",
            "Saved results/samples_gan_gp1_lr3e-5/sample-018600.png\n"
          ]
        },
        {
          "output_type": "stream",
          "name": "stderr",
          "text": [
            "WARNING:root:Lossy conversion from float32 to uint8. Range [-0.7165486812591553, 0.7092263698577881]. Convert image to uint8 prior to saving to suppress this warning.\n"
          ]
        },
        {
          "output_type": "stream",
          "name": "stdout",
          "text": [
            "Iteration [18800/20000] | D_real_loss: 0.0026 | D_fake_loss: 0.0025 | G_loss: 1.0562\n",
            "Saved results/samples_gan_gp1_lr3e-5/sample-018800.png\n"
          ]
        },
        {
          "output_type": "stream",
          "name": "stderr",
          "text": [
            "WARNING:root:Lossy conversion from float32 to uint8. Range [-0.6894962787628174, 0.7739335298538208]. Convert image to uint8 prior to saving to suppress this warning.\n"
          ]
        },
        {
          "output_type": "stream",
          "name": "stdout",
          "text": [
            "Iteration [19000/20000] | D_real_loss: 0.0061 | D_fake_loss: 0.0042 | G_loss: 0.8672\n",
            "Saved results/samples_gan_gp1_lr3e-5/sample-019000.png\n"
          ]
        },
        {
          "output_type": "stream",
          "name": "stderr",
          "text": [
            "WARNING:root:Lossy conversion from float32 to uint8. Range [-0.6871574521064758, 0.7547706365585327]. Convert image to uint8 prior to saving to suppress this warning.\n"
          ]
        },
        {
          "output_type": "stream",
          "name": "stdout",
          "text": [
            "Iteration [19200/20000] | D_real_loss: 0.0070 | D_fake_loss: 0.0041 | G_loss: 1.0601\n",
            "Saved results/samples_gan_gp1_lr3e-5/sample-019200.png\n"
          ]
        },
        {
          "output_type": "stream",
          "name": "stderr",
          "text": [
            "WARNING:root:Lossy conversion from float32 to uint8. Range [-0.6530953645706177, 0.7488969564437866]. Convert image to uint8 prior to saving to suppress this warning.\n"
          ]
        },
        {
          "output_type": "stream",
          "name": "stdout",
          "text": [
            "Iteration [19400/20000] | D_real_loss: 0.0016 | D_fake_loss: 0.0058 | G_loss: 1.2405\n",
            "Saved results/samples_gan_gp1_lr3e-5/sample-019400.png\n"
          ]
        },
        {
          "output_type": "stream",
          "name": "stderr",
          "text": [
            "WARNING:root:Lossy conversion from float32 to uint8. Range [-0.629353940486908, 0.7349671125411987]. Convert image to uint8 prior to saving to suppress this warning.\n"
          ]
        },
        {
          "output_type": "stream",
          "name": "stdout",
          "text": [
            "Iteration [19600/20000] | D_real_loss: 0.0052 | D_fake_loss: 0.0041 | G_loss: 1.1336\n",
            "Saved results/samples_gan_gp1_lr3e-5/sample-019600.png\n"
          ]
        },
        {
          "output_type": "stream",
          "name": "stderr",
          "text": [
            "WARNING:root:Lossy conversion from float32 to uint8. Range [-0.6873666644096375, 0.7027024030685425]. Convert image to uint8 prior to saving to suppress this warning.\n"
          ]
        },
        {
          "output_type": "stream",
          "name": "stdout",
          "text": [
            "Iteration [19800/20000] | D_real_loss: 0.0011 | D_fake_loss: 0.0014 | G_loss: 1.0510\n",
            "Saved results/samples_gan_gp1_lr3e-5/sample-019800.png\n"
          ]
        },
        {
          "output_type": "stream",
          "name": "stderr",
          "text": [
            "WARNING:root:Lossy conversion from float32 to uint8. Range [-0.8915702104568481, 0.4717298746109009]. Convert image to uint8 prior to saving to suppress this warning.\n"
          ]
        },
        {
          "output_type": "stream",
          "name": "stdout",
          "text": [
            "Iteration [20000/20000] | D_real_loss: 0.0036 | D_fake_loss: 0.0007 | G_loss: 1.0859\n",
            "Saved results/samples_gan_gp1_lr3e-5/sample-020000.png\n",
            "adding image results/samples_gan_gp1_lr3e-5/losses.png\n",
            "adding image results/samples_gan_gp1_lr3e-5/sample-000200.png\n",
            "adding image results/samples_gan_gp1_lr3e-5/sample-000400.png\n",
            "adding image results/samples_gan_gp1_lr3e-5/sample-000600.png\n",
            "adding image results/samples_gan_gp1_lr3e-5/sample-000800.png\n",
            "adding image results/samples_gan_gp1_lr3e-5/sample-001000.png\n",
            "adding image results/samples_gan_gp1_lr3e-5/sample-001200.png\n",
            "adding image results/samples_gan_gp1_lr3e-5/sample-001400.png\n",
            "adding image results/samples_gan_gp1_lr3e-5/sample-001600.png\n",
            "adding image results/samples_gan_gp1_lr3e-5/sample-001800.png\n",
            "adding image results/samples_gan_gp1_lr3e-5/sample-002000.png\n",
            "adding image results/samples_gan_gp1_lr3e-5/sample-002200.png\n",
            "adding image results/samples_gan_gp1_lr3e-5/sample-002400.png\n",
            "adding image results/samples_gan_gp1_lr3e-5/sample-002600.png\n",
            "adding image results/samples_gan_gp1_lr3e-5/sample-002800.png\n",
            "adding image results/samples_gan_gp1_lr3e-5/sample-003000.png\n",
            "adding image results/samples_gan_gp1_lr3e-5/sample-003200.png\n",
            "adding image results/samples_gan_gp1_lr3e-5/sample-003400.png\n",
            "adding image results/samples_gan_gp1_lr3e-5/sample-003600.png\n",
            "adding image results/samples_gan_gp1_lr3e-5/sample-003800.png\n",
            "adding image results/samples_gan_gp1_lr3e-5/sample-004000.png\n",
            "adding image results/samples_gan_gp1_lr3e-5/sample-004200.png\n",
            "adding image results/samples_gan_gp1_lr3e-5/sample-004400.png\n",
            "adding image results/samples_gan_gp1_lr3e-5/sample-004600.png\n",
            "adding image results/samples_gan_gp1_lr3e-5/sample-004800.png\n",
            "adding image results/samples_gan_gp1_lr3e-5/sample-005000.png\n",
            "adding image results/samples_gan_gp1_lr3e-5/sample-005200.png\n",
            "adding image results/samples_gan_gp1_lr3e-5/sample-005400.png\n",
            "adding image results/samples_gan_gp1_lr3e-5/sample-005600.png\n",
            "adding image results/samples_gan_gp1_lr3e-5/sample-005800.png\n",
            "adding image results/samples_gan_gp1_lr3e-5/sample-006000.png\n",
            "adding image results/samples_gan_gp1_lr3e-5/sample-006200.png\n",
            "adding image results/samples_gan_gp1_lr3e-5/sample-006400.png\n",
            "adding image results/samples_gan_gp1_lr3e-5/sample-006600.png\n",
            "adding image results/samples_gan_gp1_lr3e-5/sample-006800.png\n",
            "adding image results/samples_gan_gp1_lr3e-5/sample-007000.png\n",
            "adding image results/samples_gan_gp1_lr3e-5/sample-007200.png\n",
            "adding image results/samples_gan_gp1_lr3e-5/sample-007400.png\n",
            "adding image results/samples_gan_gp1_lr3e-5/sample-007600.png\n",
            "adding image results/samples_gan_gp1_lr3e-5/sample-007800.png\n",
            "adding image results/samples_gan_gp1_lr3e-5/sample-008000.png\n",
            "adding image results/samples_gan_gp1_lr3e-5/sample-008200.png\n",
            "adding image results/samples_gan_gp1_lr3e-5/sample-008400.png\n",
            "adding image results/samples_gan_gp1_lr3e-5/sample-008600.png\n",
            "adding image results/samples_gan_gp1_lr3e-5/sample-008800.png\n",
            "adding image results/samples_gan_gp1_lr3e-5/sample-009000.png\n",
            "adding image results/samples_gan_gp1_lr3e-5/sample-009200.png\n",
            "adding image results/samples_gan_gp1_lr3e-5/sample-009400.png\n",
            "adding image results/samples_gan_gp1_lr3e-5/sample-009600.png\n",
            "adding image results/samples_gan_gp1_lr3e-5/sample-009800.png\n",
            "adding image results/samples_gan_gp1_lr3e-5/sample-010000.png\n",
            "adding image results/samples_gan_gp1_lr3e-5/sample-010200.png\n",
            "adding image results/samples_gan_gp1_lr3e-5/sample-010400.png\n",
            "adding image results/samples_gan_gp1_lr3e-5/sample-010600.png\n",
            "adding image results/samples_gan_gp1_lr3e-5/sample-010800.png\n",
            "adding image results/samples_gan_gp1_lr3e-5/sample-011000.png\n",
            "adding image results/samples_gan_gp1_lr3e-5/sample-011200.png\n",
            "adding image results/samples_gan_gp1_lr3e-5/sample-011400.png\n",
            "adding image results/samples_gan_gp1_lr3e-5/sample-011600.png\n",
            "adding image results/samples_gan_gp1_lr3e-5/sample-011800.png\n",
            "adding image results/samples_gan_gp1_lr3e-5/sample-012000.png\n",
            "adding image results/samples_gan_gp1_lr3e-5/sample-012200.png\n",
            "adding image results/samples_gan_gp1_lr3e-5/sample-012400.png\n",
            "adding image results/samples_gan_gp1_lr3e-5/sample-012600.png\n",
            "adding image results/samples_gan_gp1_lr3e-5/sample-012800.png\n",
            "adding image results/samples_gan_gp1_lr3e-5/sample-013000.png\n",
            "adding image results/samples_gan_gp1_lr3e-5/sample-013200.png\n",
            "adding image results/samples_gan_gp1_lr3e-5/sample-013400.png\n",
            "adding image results/samples_gan_gp1_lr3e-5/sample-013600.png\n",
            "adding image results/samples_gan_gp1_lr3e-5/sample-013800.png\n",
            "adding image results/samples_gan_gp1_lr3e-5/sample-014000.png\n",
            "adding image results/samples_gan_gp1_lr3e-5/sample-014200.png\n",
            "adding image results/samples_gan_gp1_lr3e-5/sample-014400.png\n",
            "adding image results/samples_gan_gp1_lr3e-5/sample-014600.png\n",
            "adding image results/samples_gan_gp1_lr3e-5/sample-014800.png\n",
            "adding image results/samples_gan_gp1_lr3e-5/sample-015000.png\n",
            "adding image results/samples_gan_gp1_lr3e-5/sample-015200.png\n",
            "adding image results/samples_gan_gp1_lr3e-5/sample-015400.png\n",
            "adding image results/samples_gan_gp1_lr3e-5/sample-015600.png\n",
            "adding image results/samples_gan_gp1_lr3e-5/sample-015800.png\n",
            "adding image results/samples_gan_gp1_lr3e-5/sample-016000.png\n",
            "adding image results/samples_gan_gp1_lr3e-5/sample-016200.png\n",
            "adding image results/samples_gan_gp1_lr3e-5/sample-016400.png\n",
            "adding image results/samples_gan_gp1_lr3e-5/sample-016600.png\n",
            "adding image results/samples_gan_gp1_lr3e-5/sample-016800.png\n",
            "adding image results/samples_gan_gp1_lr3e-5/sample-017000.png\n",
            "adding image results/samples_gan_gp1_lr3e-5/sample-017200.png\n",
            "adding image results/samples_gan_gp1_lr3e-5/sample-017400.png\n",
            "adding image results/samples_gan_gp1_lr3e-5/sample-017600.png\n",
            "adding image results/samples_gan_gp1_lr3e-5/sample-017800.png\n",
            "adding image results/samples_gan_gp1_lr3e-5/sample-018000.png\n",
            "adding image results/samples_gan_gp1_lr3e-5/sample-018200.png\n",
            "adding image results/samples_gan_gp1_lr3e-5/sample-018400.png\n",
            "adding image results/samples_gan_gp1_lr3e-5/sample-018600.png\n",
            "adding image results/samples_gan_gp1_lr3e-5/sample-018800.png\n",
            "adding image results/samples_gan_gp1_lr3e-5/sample-019000.png\n",
            "adding image results/samples_gan_gp1_lr3e-5/sample-019200.png\n",
            "adding image results/samples_gan_gp1_lr3e-5/sample-019400.png\n",
            "adding image results/samples_gan_gp1_lr3e-5/sample-019600.png\n",
            "adding image results/samples_gan_gp1_lr3e-5/sample-019800.png\n",
            "adding image results/samples_gan_gp1_lr3e-5/sample-020000.png\n"
          ]
        }
      ]
    },
    {
      "cell_type": "markdown",
      "source": [
        "## Download your output"
      ],
      "metadata": {
        "id": "UU5XajxuhQ4c"
      }
    },
    {
      "cell_type": "code",
      "source": [
        "!zip -r /content/csc413/a4/results/samples.zip /content/csc413/a4/results/samples_gan_gp1_lr3e-5\n",
        "\n",
        "from google.colab import files\n",
        "files.download(\"/content/csc413/a4/results/samples.zip\")"
      ],
      "metadata": {
        "id": "PqF_oI4RAM8I",
        "colab": {
          "base_uri": "https://localhost:8080/",
          "height": 1000
        },
        "outputId": "17307233-a161-4134-c647-caf6506b5d13"
      },
      "execution_count": 13,
      "outputs": [
        {
          "output_type": "stream",
          "name": "stdout",
          "text": [
            "  adding: content/csc413/a4/results/samples_gan_gp1_lr3e-5/ (stored 0%)\n",
            "  adding: content/csc413/a4/results/samples_gan_gp1_lr3e-5/sample-003000.png (deflated 0%)\n",
            "  adding: content/csc413/a4/results/samples_gan_gp1_lr3e-5/sample-013000.png (deflated 0%)\n",
            "  adding: content/csc413/a4/results/samples_gan_gp1_lr3e-5/sample-011200.png (deflated 0%)\n",
            "  adding: content/csc413/a4/results/samples_gan_gp1_lr3e-5/sample-009200.png (deflated 0%)\n",
            "  adding: content/csc413/a4/results/samples_gan_gp1_lr3e-5/sample-016600.png (deflated 0%)\n",
            "  adding: content/csc413/a4/results/samples_gan_gp1_lr3e-5/sample-008000.png (deflated 0%)\n",
            "  adding: content/csc413/a4/results/samples_gan_gp1_lr3e-5/sample-007200.png (deflated 0%)\n",
            "  adding: content/csc413/a4/results/samples_gan_gp1_lr3e-5/sample-009800.png (deflated 0%)\n",
            "  adding: content/csc413/a4/results/samples_gan_gp1_lr3e-5/sample-015600.png (deflated 0%)\n",
            "  adding: content/csc413/a4/results/samples_gan_gp1_lr3e-5/sample-002000.png (deflated 0%)\n",
            "  adding: content/csc413/a4/results/samples_gan_gp1_lr3e-5/sample-001200.png (deflated 0%)\n",
            "  adding: content/csc413/a4/results/samples_gan_gp1_lr3e-5/sample-013800.png (deflated 0%)\n",
            "  adding: content/csc413/a4/results/samples_gan_gp1_lr3e-5/sample-008200.png (deflated 0%)\n",
            "  adding: content/csc413/a4/results/samples_gan_gp1_lr3e-5/sample-019800.png (deflated 0%)\n",
            "  adding: content/csc413/a4/results/samples_gan_gp1_lr3e-5/sample-001400.png (deflated 0%)\n",
            "  adding: content/csc413/a4/results/samples_gan_gp1_lr3e-5/sample-019600.png (deflated 0%)\n",
            "  adding: content/csc413/a4/results/samples_gan_gp1_lr3e-5/sample-018600.png (deflated 0%)\n",
            "  adding: content/csc413/a4/results/samples_gan_gp1_lr3e-5/sample-010200.png (deflated 0%)\n",
            "  adding: content/csc413/a4/results/samples_gan_gp1_lr3e-5/sample-020000.png (deflated 0%)\n",
            "  adding: content/csc413/a4/results/samples_gan_gp1_lr3e-5/sample-011600.png (deflated 0%)\n",
            "  adding: content/csc413/a4/results/samples_gan_gp1_lr3e-5/sample-012200.png (deflated 0%)\n",
            "  adding: content/csc413/a4/results/samples_gan_gp1_lr3e-5/sample-004000.png (deflated 0%)\n",
            "  adding: content/csc413/a4/results/samples_gan_gp1_lr3e-5/sample-017400.png (deflated 0%)\n",
            "  adding: content/csc413/a4/results/samples_gan_gp1_lr3e-5/anim.gif (deflated 1%)\n",
            "  adding: content/csc413/a4/results/samples_gan_gp1_lr3e-5/sample-010000.png (deflated 0%)\n",
            "  adding: content/csc413/a4/results/samples_gan_gp1_lr3e-5/sample-014400.png (deflated 0%)\n",
            "  adding: content/csc413/a4/results/samples_gan_gp1_lr3e-5/sample-010800.png (deflated 0%)\n",
            "  adding: content/csc413/a4/results/samples_gan_gp1_lr3e-5/sample-006200.png (deflated 0%)\n",
            "  adding: content/csc413/a4/results/samples_gan_gp1_lr3e-5/sample-018400.png (deflated 0%)\n",
            "  adding: content/csc413/a4/results/samples_gan_gp1_lr3e-5/sample-012000.png (deflated 0%)\n",
            "  adding: content/csc413/a4/results/samples_gan_gp1_lr3e-5/sample-005400.png (deflated 0%)\n",
            "  adding: content/csc413/a4/results/samples_gan_gp1_lr3e-5/sample-013600.png (deflated 0%)\n",
            "  adding: content/csc413/a4/results/samples_gan_gp1_lr3e-5/sample-010600.png (deflated 0%)\n",
            "  adding: content/csc413/a4/results/samples_gan_gp1_lr3e-5/sample-005600.png (deflated 0%)\n",
            "  adding: content/csc413/a4/results/samples_gan_gp1_lr3e-5/sample-007600.png (deflated 0%)\n",
            "  adding: content/csc413/a4/results/samples_gan_gp1_lr3e-5/sample-004200.png (deflated 0%)\n",
            "  adding: content/csc413/a4/results/samples_gan_gp1_lr3e-5/sample-000400.png (deflated 0%)\n",
            "  adding: content/csc413/a4/results/samples_gan_gp1_lr3e-5/sample-016400.png (deflated 0%)\n",
            "  adding: content/csc413/a4/results/samples_gan_gp1_lr3e-5/sample-002800.png (deflated 0%)\n",
            "  adding: content/csc413/a4/results/samples_gan_gp1_lr3e-5/sample-008800.png (deflated 0%)\n",
            "  adding: content/csc413/a4/results/samples_gan_gp1_lr3e-5/sample-007800.png (deflated 0%)\n",
            "  adding: content/csc413/a4/results/samples_gan_gp1_lr3e-5/sample-004400.png (deflated 0%)\n",
            "  adding: content/csc413/a4/results/samples_gan_gp1_lr3e-5/sample-001800.png (deflated 0%)\n",
            "  adding: content/csc413/a4/results/samples_gan_gp1_lr3e-5/sample-011800.png (deflated 0%)\n",
            "  adding: content/csc413/a4/results/samples_gan_gp1_lr3e-5/sample-018800.png (deflated 0%)\n",
            "  adding: content/csc413/a4/results/samples_gan_gp1_lr3e-5/sample-011000.png (deflated 0%)\n",
            "  adding: content/csc413/a4/results/samples_gan_gp1_lr3e-5/sample-017600.png (deflated 0%)\n",
            "  adding: content/csc413/a4/results/samples_gan_gp1_lr3e-5/sample-004600.png (deflated 0%)\n",
            "  adding: content/csc413/a4/results/samples_gan_gp1_lr3e-5/sample-008400.png (deflated 0%)\n",
            "  adding: content/csc413/a4/results/samples_gan_gp1_lr3e-5/sample-009000.png (deflated 0%)\n",
            "  adding: content/csc413/a4/results/samples_gan_gp1_lr3e-5/sample-017000.png (deflated 0%)\n",
            "  adding: content/csc413/a4/results/samples_gan_gp1_lr3e-5/sample-003600.png (deflated 0%)\n",
            "  adding: content/csc413/a4/results/samples_gan_gp1_lr3e-5/sample-002600.png (deflated 0%)\n",
            "  adding: content/csc413/a4/results/samples_gan_gp1_lr3e-5/sample-016200.png (deflated 0%)\n",
            "  adding: content/csc413/a4/results/samples_gan_gp1_lr3e-5/sample-007400.png (deflated 0%)\n",
            "  adding: content/csc413/a4/results/samples_gan_gp1_lr3e-5/sample-013200.png (deflated 0%)\n",
            "  adding: content/csc413/a4/results/samples_gan_gp1_lr3e-5/losses.png (deflated 4%)\n",
            "  adding: content/csc413/a4/results/samples_gan_gp1_lr3e-5/sample-015400.png (deflated 0%)\n",
            "  adding: content/csc413/a4/results/samples_gan_gp1_lr3e-5/sample-003200.png (deflated 0%)\n",
            "  adding: content/csc413/a4/results/samples_gan_gp1_lr3e-5/sample-013400.png (deflated 0%)\n",
            "  adding: content/csc413/a4/results/samples_gan_gp1_lr3e-5/sample-016000.png (deflated 0%)\n",
            "  adding: content/csc413/a4/results/samples_gan_gp1_lr3e-5/sample-007000.png (deflated 0%)\n",
            "  adding: content/csc413/a4/results/samples_gan_gp1_lr3e-5/sample-000600.png (deflated 0%)\n",
            "  adding: content/csc413/a4/results/samples_gan_gp1_lr3e-5/sample-006000.png (deflated 0%)\n",
            "  adding: content/csc413/a4/results/samples_gan_gp1_lr3e-5/sample-005800.png (deflated 0%)\n",
            "  adding: content/csc413/a4/results/samples_gan_gp1_lr3e-5/sample-015000.png (deflated 0%)\n",
            "  adding: content/csc413/a4/results/samples_gan_gp1_lr3e-5/sample-009600.png (deflated 0%)\n",
            "  adding: content/csc413/a4/results/samples_gan_gp1_lr3e-5/sample-014600.png (deflated 0%)\n",
            "  adding: content/csc413/a4/results/samples_gan_gp1_lr3e-5/sample-005200.png (deflated 0%)\n",
            "  adding: content/csc413/a4/results/samples_gan_gp1_lr3e-5/sample-019200.png (deflated 0%)\n",
            "  adding: content/csc413/a4/results/samples_gan_gp1_lr3e-5/sample-004800.png (deflated 0%)\n",
            "  adding: content/csc413/a4/results/samples_gan_gp1_lr3e-5/sample-018000.png (deflated 0%)\n",
            "  adding: content/csc413/a4/results/samples_gan_gp1_lr3e-5/sample-010400.png (deflated 0%)\n",
            "  adding: content/csc413/a4/results/samples_gan_gp1_lr3e-5/sample-002200.png (deflated 0%)\n",
            "  adding: content/csc413/a4/results/samples_gan_gp1_lr3e-5/sample-019000.png (deflated 0%)\n",
            "  adding: content/csc413/a4/results/samples_gan_gp1_lr3e-5/sample-000200.png (deflated 0%)\n",
            "  adding: content/csc413/a4/results/samples_gan_gp1_lr3e-5/sample-003400.png (deflated 0%)\n",
            "  adding: content/csc413/a4/results/samples_gan_gp1_lr3e-5/sample-012600.png (deflated 0%)\n",
            "  adding: content/csc413/a4/results/samples_gan_gp1_lr3e-5/sample-015800.png (deflated 0%)\n",
            "  adding: content/csc413/a4/results/samples_gan_gp1_lr3e-5/sample-006600.png (deflated 0%)\n",
            "  adding: content/csc413/a4/results/samples_gan_gp1_lr3e-5/sample-005000.png (deflated 0%)\n",
            "  adding: content/csc413/a4/results/samples_gan_gp1_lr3e-5/sample-001000.png (deflated 0%)\n",
            "  adding: content/csc413/a4/results/samples_gan_gp1_lr3e-5/sample-014800.png (deflated 0%)\n",
            "  adding: content/csc413/a4/results/samples_gan_gp1_lr3e-5/sample-008600.png (deflated 0%)\n",
            "  adding: content/csc413/a4/results/samples_gan_gp1_lr3e-5/sample-016800.png (deflated 0%)\n",
            "  adding: content/csc413/a4/results/samples_gan_gp1_lr3e-5/sample-000800.png (deflated 0%)\n",
            "  adding: content/csc413/a4/results/samples_gan_gp1_lr3e-5/sample-012800.png (deflated 0%)\n",
            "  adding: content/csc413/a4/results/samples_gan_gp1_lr3e-5/sample-014000.png (deflated 0%)\n",
            "  adding: content/csc413/a4/results/samples_gan_gp1_lr3e-5/sample-001600.png (deflated 0%)\n",
            "  adding: content/csc413/a4/results/samples_gan_gp1_lr3e-5/sample-017200.png (deflated 0%)\n",
            "  adding: content/csc413/a4/results/samples_gan_gp1_lr3e-5/sample-015200.png (deflated 0%)\n",
            "  adding: content/csc413/a4/results/samples_gan_gp1_lr3e-5/sample-012400.png (deflated 0%)\n",
            "  adding: content/csc413/a4/results/samples_gan_gp1_lr3e-5/sample-018200.png (deflated 0%)\n",
            "  adding: content/csc413/a4/results/samples_gan_gp1_lr3e-5/sample-006400.png (deflated 0%)\n",
            "  adding: content/csc413/a4/results/samples_gan_gp1_lr3e-5/sample-006800.png (deflated 0%)\n",
            "  adding: content/csc413/a4/results/samples_gan_gp1_lr3e-5/sample-017800.png (deflated 0%)\n",
            "  adding: content/csc413/a4/results/samples_gan_gp1_lr3e-5/sample-003800.png (deflated 0%)\n",
            "  adding: content/csc413/a4/results/samples_gan_gp1_lr3e-5/sample-009400.png (deflated 0%)\n",
            "  adding: content/csc413/a4/results/samples_gan_gp1_lr3e-5/sample-002400.png (deflated 0%)\n",
            "  adding: content/csc413/a4/results/samples_gan_gp1_lr3e-5/sample-014200.png (deflated 0%)\n",
            "  adding: content/csc413/a4/results/samples_gan_gp1_lr3e-5/sample-019400.png (deflated 0%)\n",
            "  adding: content/csc413/a4/results/samples_gan_gp1_lr3e-5/sample-011400.png (deflated 0%)\n"
          ]
        },
        {
          "output_type": "display_data",
          "data": {
            "text/plain": [
              "<IPython.core.display.Javascript object>"
            ],
            "application/javascript": [
              "\n",
              "    async function download(id, filename, size) {\n",
              "      if (!google.colab.kernel.accessAllowed) {\n",
              "        return;\n",
              "      }\n",
              "      const div = document.createElement('div');\n",
              "      const label = document.createElement('label');\n",
              "      label.textContent = `Downloading \"${filename}\": `;\n",
              "      div.appendChild(label);\n",
              "      const progress = document.createElement('progress');\n",
              "      progress.max = size;\n",
              "      div.appendChild(progress);\n",
              "      document.body.appendChild(div);\n",
              "\n",
              "      const buffers = [];\n",
              "      let downloaded = 0;\n",
              "\n",
              "      const channel = await google.colab.kernel.comms.open(id);\n",
              "      // Send a message to notify the kernel that we're ready.\n",
              "      channel.send({})\n",
              "\n",
              "      for await (const message of channel.messages) {\n",
              "        // Send a message to notify the kernel that we're ready.\n",
              "        channel.send({})\n",
              "        if (message.buffers) {\n",
              "          for (const buffer of message.buffers) {\n",
              "            buffers.push(buffer);\n",
              "            downloaded += buffer.byteLength;\n",
              "            progress.value = downloaded;\n",
              "          }\n",
              "        }\n",
              "      }\n",
              "      const blob = new Blob(buffers, {type: 'application/binary'});\n",
              "      const a = document.createElement('a');\n",
              "      a.href = window.URL.createObjectURL(blob);\n",
              "      a.download = filename;\n",
              "      div.appendChild(a);\n",
              "      a.click();\n",
              "      div.remove();\n",
              "    }\n",
              "  "
            ]
          },
          "metadata": {}
        },
        {
          "output_type": "display_data",
          "data": {
            "text/plain": [
              "<IPython.core.display.Javascript object>"
            ],
            "application/javascript": [
              "download(\"download_703353ad-62cf-4cd7-a848-afb73b2a87cc\", \"samples.zip\", 31284097)"
            ]
          },
          "metadata": {}
        }
      ]
    }
  ]
}